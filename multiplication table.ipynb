{
 "cells": [
  {
   "cell_type": "code",
   "execution_count": null,
   "id": "c21b482c",
   "metadata": {},
   "outputs": [
    {
     "name": "stdout",
     "output_type": "stream",
     "text": [
      "enter any number:2\n",
      "enter any number:1\n",
      "2\n",
      "enter any number:3\n",
      "enter any number:3\n",
      "9\n"
     ]
    }
   ],
   "source": [
    "for y in range(1,11):\n",
    "    for x in range(1,11):\n",
    "        x=int(input(\"enter any number:\"))\n",
    "        y=int(input(\"enter any number:\"))\n",
    "        print(x * y)"
   ]
  },
  {
   "cell_type": "code",
   "execution_count": null,
   "id": "6c3fc2a5",
   "metadata": {},
   "outputs": [],
   "source": []
  }
 ],
 "metadata": {
  "kernelspec": {
   "display_name": "Python 3 (ipykernel)",
   "language": "python",
   "name": "python3"
  },
  "language_info": {
   "codemirror_mode": {
    "name": "ipython",
    "version": 3
   },
   "file_extension": ".py",
   "mimetype": "text/x-python",
   "name": "python",
   "nbconvert_exporter": "python",
   "pygments_lexer": "ipython3",
   "version": "3.10.9"
  }
 },
 "nbformat": 4,
 "nbformat_minor": 5
}
