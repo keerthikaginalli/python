{
 "cells": [
  {
   "cell_type": "code",
   "execution_count": 1,
   "id": "1963462e",
   "metadata": {},
   "outputs": [],
   "source": [
    "# Create a function that performs an even-odd transform to a list, n times. Each even-odd transformation:\n",
    "#Adds two (+2) to each odd integer.\n",
    "#Subtracts two (-2) from each even integer.\n",
    "\n",
    "def even_odd_transform(lst,r):\n",
    "    for x in range(r):\n",
    "        for y in range(len(lst)):\n",
    "            if lst[y]%2==0:\n",
    "                lst[y]-=2\n",
    "            else:\n",
    "                lst[y]+=2\n",
    "    return lst"
   ]
  },
  {
   "cell_type": "code",
   "execution_count": 2,
   "id": "6b31d657",
   "metadata": {},
   "outputs": [
    {
     "data": {
      "text/plain": [
       "[9, -2, 15]"
      ]
     },
     "execution_count": 2,
     "metadata": {},
     "output_type": "execute_result"
    }
   ],
   "source": [
    "even_odd_transform([3, 4, 9], 3)"
   ]
  },
  {
   "cell_type": "code",
   "execution_count": 3,
   "id": "4f51cfe3",
   "metadata": {},
   "outputs": [
    {
     "data": {
      "text/plain": [
       "[-20, -20, -20]"
      ]
     },
     "execution_count": 3,
     "metadata": {},
     "output_type": "execute_result"
    }
   ],
   "source": [
    "even_odd_transform([0, 0, 0], 10)"
   ]
  },
  {
   "cell_type": "code",
   "execution_count": 4,
   "id": "92be82e3",
   "metadata": {},
   "outputs": [
    {
     "data": {
      "text/plain": [
       "[3, 0, 5]"
      ]
     },
     "execution_count": 4,
     "metadata": {},
     "output_type": "execute_result"
    }
   ],
   "source": [
    "even_odd_transform([1, 2, 3], 1)"
   ]
  },
  {
   "cell_type": "code",
   "execution_count": 10,
   "id": "4d2e4975",
   "metadata": {},
   "outputs": [],
   "source": [
    "# A Collatz sequence is generated like this. Start with a positive number. If it's even, halve it. If it's odd, \n",
    "#multiply it by three and add one. Repeat the process with the resulting number. The Collatz Conjecture is that \n",
    "#every sequence eventually reaches 1 (continuing past 1 just results in an endless repeat of the sequence 4, 2, 1).\n",
    "#The length of the sequence from starting number to 1 varies widely.\n",
    "#Create a function that takes a number as an argument and returns a tuple of two elements — the number of steps in\n",
    "#the Collatz sequence of the number, and the highest number reached.\n",
    "\n",
    "def collatz(n):\n",
    "    l=[n]\n",
    "    while n>1:\n",
    "        if n%2==0:\n",
    "            n//=2\n",
    "        else:\n",
    "            n=(n*3)+1\n",
    "        l.append(n)\n",
    "    return (len(l),max(l))"
   ]
  },
  {
   "cell_type": "code",
   "execution_count": 11,
   "id": "d2c56029",
   "metadata": {},
   "outputs": [
    {
     "data": {
      "text/plain": [
       "True"
      ]
     },
     "execution_count": 11,
     "metadata": {},
     "output_type": "execute_result"
    }
   ],
   "source": [
    "can_capture([\"A1\", \"H8\"])"
   ]
  },
  {
   "cell_type": "code",
   "execution_count": 12,
   "id": "d5504241",
   "metadata": {},
   "outputs": [
    {
     "data": {
      "text/plain": [
       "False"
      ]
     },
     "execution_count": 12,
     "metadata": {},
     "output_type": "execute_result"
    }
   ],
   "source": [
    "can_capture([\"A1\", \"H4\"])"
   ]
  },
  {
   "cell_type": "code",
   "execution_count": 13,
   "id": "330538fe",
   "metadata": {},
   "outputs": [
    {
     "data": {
      "text/plain": [
       "True"
      ]
     },
     "execution_count": 13,
     "metadata": {},
     "output_type": "execute_result"
    }
   ],
   "source": [
    "can_capture([\"G1\", \"H1\"])"
   ]
  },
  {
   "cell_type": "code",
   "execution_count": 15,
   "id": "33497572",
   "metadata": {},
   "outputs": [],
   "source": [
    "#Suppose you are directionally challenged, and get lost easily. As a result, sometimes you walk in circles or \n",
    "#make U-turns. You might take a sub-optimal route. Create a function that returns the difference in length between \n",
    "#your path and the optimal path. Both paths reach the same destination.\n",
    "#You start at (0,0) and reach your destination by the end of the input list.\n",
    "#A demonstration:\n",
    "#Your route: [\"N\", \"S\", \"E\", \"W\", \"E\", \"E\", \"E\", \"N\"]  // 8\n",
    "#Optimal route: [\"E\", \"E\", \"E\", \"N\"] (or [\"N\", \"E\", \"E\", \"E\"], etc.) // 4\n",
    "# Difference in length: 8 - 4 = 4\n",
    "# Explanation: Your \"S\" cancels out your \"N\" and your \"W\" cancels out your \"E\" leaving you back at (0,0)\n",
    "\n",
    "def route_diff(lst):\n",
    "    l=lst.copy()\n",
    "    d={\"N\":\"S\",\"S\":\"N\",\"E\":\"W\",\"W\":\"E\"}\n",
    "    for x in lst:\n",
    "        if x in d:\n",
    "            if d[x] in lst:\n",
    "                lst.remove(x)\n",
    "                lst.remove(d[x])\n",
    "            else:\n",
    "                pass\n",
    "        else:\n",
    "            pass\n",
    "    return len(l)-len(lst)"
   ]
  },
  {
   "cell_type": "code",
   "execution_count": 16,
   "id": "3522f407",
   "metadata": {},
   "outputs": [
    {
     "data": {
      "text/plain": [
       "4"
      ]
     },
     "execution_count": 16,
     "metadata": {},
     "output_type": "execute_result"
    }
   ],
   "source": [
    "route_diff([\"N\", \"S\", \"E\", \"W\", \"E\", \"E\", \"E\", \"N\"])"
   ]
  },
  {
   "cell_type": "code",
   "execution_count": 17,
   "id": "51086068",
   "metadata": {},
   "outputs": [
    {
     "data": {
      "text/plain": [
       "4"
      ]
     },
     "execution_count": 17,
     "metadata": {},
     "output_type": "execute_result"
    }
   ],
   "source": [
    "route_diff([\"N\", \"S\", \"E\", \"W\"])"
   ]
  },
  {
   "cell_type": "code",
   "execution_count": 18,
   "id": "7921048a",
   "metadata": {},
   "outputs": [
    {
     "data": {
      "text/plain": [
       "6"
      ]
     },
     "execution_count": 18,
     "metadata": {},
     "output_type": "execute_result"
    }
   ],
   "source": [
    "route_diff([\"N\", \"S\", \"N\", \"S\", \"E\", \"W\", \"E\", \"E\"]) "
   ]
  },
  {
   "cell_type": "code",
   "execution_count": 19,
   "id": "6791e0d0",
   "metadata": {},
   "outputs": [
    {
     "data": {
      "text/plain": [
       "0"
      ]
     },
     "execution_count": 19,
     "metadata": {},
     "output_type": "execute_result"
    }
   ],
   "source": [
    "route_diff([\"N\", \"N\", \"N\", \"E\", \"N\", \"E\"])"
   ]
  },
  {
   "cell_type": "code",
   "execution_count": 22,
   "id": "fcb9f1ed",
   "metadata": {},
   "outputs": [],
   "source": [
    "#Create a function that converts Celsius to Fahrenheit and vice versa.\n",
    "\n",
    "def convert(temp):\n",
    "    if temp[-1]==\"F\":\n",
    "        return str(round((int(temp[:2])-32)*(5/9)))+\"*C\"\n",
    "    elif temp[-1]==\"C\":\n",
    "        return str(round((int(temp[:2]))*1.8)+32)+\"*F\"\n",
    "    else:\n",
    "        return \"Error\""
   ]
  },
  {
   "cell_type": "code",
   "execution_count": 23,
   "id": "fd9b0693",
   "metadata": {},
   "outputs": [
    {
     "data": {
      "text/plain": [
       "'95*F'"
      ]
     },
     "execution_count": 23,
     "metadata": {},
     "output_type": "execute_result"
    }
   ],
   "source": [
    "convert(\"35*C\")"
   ]
  },
  {
   "cell_type": "code",
   "execution_count": 21,
   "id": "68e22e59",
   "metadata": {},
   "outputs": [
    {
     "data": {
      "text/plain": [
       "'-7*C'"
      ]
     },
     "execution_count": 21,
     "metadata": {},
     "output_type": "execute_result"
    }
   ],
   "source": [
    "convert(\"20*F\") "
   ]
  },
  {
   "cell_type": "code",
   "execution_count": 24,
   "id": "792e0f77",
   "metadata": {},
   "outputs": [
    {
     "data": {
      "text/plain": [
       "'Error'"
      ]
     },
     "execution_count": 24,
     "metadata": {},
     "output_type": "execute_result"
    }
   ],
   "source": [
    "convert(\"33\")"
   ]
  },
  {
   "cell_type": "code",
   "execution_count": 25,
   "id": "fcb24723",
   "metadata": {},
   "outputs": [],
   "source": [
    "#Create a function to perform basic arithmetic operations that includes addition, \n",
    "#subtraction, multiplication and division on a string number (e.g. \"12 + 24\" or \"23 - 21\" or\n",
    "#\"12 // 12\" or \"12 * 21\").\n",
    "#Here, we have 1 followed by a space, operator followed by another space and 2. For the \n",
    "#challenge, we are going to have only two numbers between 1 valid operator. The return \n",
    "#value should be a number.\n",
    "#eval() is not allowed. In case of division, whenever the second number equals \"0\" return -1.\n",
    "\n",
    "def arithmetic_operation(s):\n",
    "    i=s.find(\" \")\n",
    "    if s[i+1]==\"+\":\n",
    "        return int(s[:i])+int(s[i+3:])\n",
    "    elif s[i+1]==\"-\":\n",
    "        return int(s[:i])-int(s[i+3:])\n",
    "    elif s[i+1]==\"*\":\n",
    "        return int(s[:i])*int(s[i+3:])\n",
    "    elif s[i+1:i+3]==\"//\":\n",
    "        if s[i+4]==\"0\":\n",
    "            return -1\n",
    "        else:\n",
    "            return int(s[:i])//int(s[i+4:])\n",
    "    else:\n",
    "        pass"
   ]
  },
  {
   "cell_type": "code",
   "execution_count": 26,
   "id": "90f5ff8d",
   "metadata": {},
   "outputs": [
    {
     "data": {
      "text/plain": [
       "24"
      ]
     },
     "execution_count": 26,
     "metadata": {},
     "output_type": "execute_result"
    }
   ],
   "source": [
    "arithmetic_operation(\"12 + 12\")"
   ]
  },
  {
   "cell_type": "code",
   "execution_count": 27,
   "id": "44e92819",
   "metadata": {},
   "outputs": [
    {
     "data": {
      "text/plain": [
       "7"
      ]
     },
     "execution_count": 27,
     "metadata": {},
     "output_type": "execute_result"
    }
   ],
   "source": [
    "arithmetic_operation(\"19 - 12\")"
   ]
  },
  {
   "cell_type": "code",
   "execution_count": 28,
   "id": "acd30899",
   "metadata": {},
   "outputs": [
    {
     "data": {
      "text/plain": [
       "0"
      ]
     },
     "execution_count": 28,
     "metadata": {},
     "output_type": "execute_result"
    }
   ],
   "source": [
    "arithmetic_operation(\"5 // 12\")"
   ]
  },
  {
   "cell_type": "code",
   "execution_count": 29,
   "id": "4b3c7e03",
   "metadata": {},
   "outputs": [
    {
     "data": {
      "text/plain": [
       "24"
      ]
     },
     "execution_count": 29,
     "metadata": {},
     "output_type": "execute_result"
    }
   ],
   "source": [
    "arithmetic_operation(\"2 ** 12\")"
   ]
  },
  {
   "cell_type": "code",
   "execution_count": null,
   "id": "f088d010",
   "metadata": {},
   "outputs": [],
   "source": []
  }
 ],
 "metadata": {
  "kernelspec": {
   "display_name": "Python 3 (ipykernel)",
   "language": "python",
   "name": "python3"
  },
  "language_info": {
   "codemirror_mode": {
    "name": "ipython",
    "version": 3
   },
   "file_extension": ".py",
   "mimetype": "text/x-python",
   "name": "python",
   "nbconvert_exporter": "python",
   "pygments_lexer": "ipython3",
   "version": "3.10.9"
  }
 },
 "nbformat": 4,
 "nbformat_minor": 5
}
