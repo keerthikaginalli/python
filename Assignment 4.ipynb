{
 "cells": [
  {
   "cell_type": "raw",
   "id": "63684293",
   "metadata": {},
   "source": [
    " write a python program to loop through all the elements in a list"
   ]
  },
  {
   "cell_type": "code",
   "execution_count": 1,
   "id": "dbea9fbb",
   "metadata": {},
   "outputs": [
    {
     "name": "stdout",
     "output_type": "stream",
     "text": [
      "1\n",
      "2\n",
      "3\n",
      "4\n",
      "5\n",
      "6\n"
     ]
    }
   ],
   "source": [
    "x=[1,2,3,4,5,6]\n",
    "for y in x:\n",
    "    print(y)"
   ]
  },
  {
   "cell_type": "raw",
   "id": "43b50a86",
   "metadata": {},
   "source": [
    "to insert elements from users"
   ]
  },
  {
   "cell_type": "code",
   "execution_count": 2,
   "id": "6ab51663",
   "metadata": {},
   "outputs": [
    {
     "name": "stdout",
     "output_type": "stream",
     "text": [
      "Enter the lenght of list: 5\n",
      "give the element to be inserted: 1\n",
      "['1']\n",
      "give the element to be inserted: 2\n",
      "['1', '2']\n",
      "give the element to be inserted: 3\n",
      "['1', '2', '3']\n",
      "give the element to be inserted: 4\n",
      "['1', '2', '3', '4']\n",
      "give the element to be inserted: 5\n",
      "['1', '2', '3', '4', '5']\n"
     ]
    }
   ],
   "source": [
    "l=[]\n",
    "z=int(input(\"Enter the lenght of list: \"))\n",
    "for x in range(0,z):\n",
    "    a=input(\"give the element to be inserted: \")\n",
    "    if x<z:\n",
    "        l.append(a)\n",
    "    print(l)"
   ]
  },
  {
   "cell_type": "raw",
   "id": "e0ba65ad",
   "metadata": {},
   "source": [
    "Write a Python program where you will ask the users to insert elements in a list"
   ]
  },
  {
   "cell_type": "code",
   "execution_count": 3,
   "id": "b6664844",
   "metadata": {},
   "outputs": [
    {
     "name": "stdout",
     "output_type": "stream",
     "text": [
      "enter the length of the list : 4\n",
      "enter element : 1\n",
      "enter element : 2\n",
      "enter element : 3\n",
      "enter element : 4\n",
      "['1', '2', '3', '4']\n"
     ]
    }
   ],
   "source": [
    "l=[]\n",
    "x=int(input(\"enter the length of the list : \"))\n",
    "for y in range(x):\n",
    "    \n",
    "    i=input(\"enter element : \".format(x+1))\n",
    "    l.insert(x,i)\n",
    "print(l)      "
   ]
  },
  {
   "cell_type": "raw",
   "id": "adc9acc0",
   "metadata": {},
   "source": [
    "Write a Python program to remove all the odd index value from a list and only even index elements should remain"
   ]
  },
  {
   "cell_type": "code",
   "execution_count": 4,
   "id": "9d788650",
   "metadata": {},
   "outputs": [
    {
     "data": {
      "text/plain": [
       "[1, 3, 5, 7]"
      ]
     },
     "execution_count": 4,
     "metadata": {},
     "output_type": "execute_result"
    }
   ],
   "source": [
    "l=[1,2,3,4,5,6,7]\n",
    "l[::2]"
   ]
  },
  {
   "cell_type": "code",
   "execution_count": 5,
   "id": "dd9b6abb",
   "metadata": {},
   "outputs": [
    {
     "name": "stdout",
     "output_type": "stream",
     "text": [
      "[1, 3, 5, 7]\n"
     ]
    }
   ],
   "source": [
    "l=[]\n",
    "x=[1,2,3,4,5,6,7]\n",
    "for y in range (0,len(x)):\n",
    "    if y%2==0:\n",
    "        l.append(x[y])\n",
    "print(l)   "
   ]
  },
  {
   "cell_type": "code",
   "execution_count": 6,
   "id": "a005abb4",
   "metadata": {},
   "outputs": [
    {
     "name": "stdout",
     "output_type": "stream",
     "text": [
      "Enter the lenght of list: 5\n",
      "give the element to be inserted: 3\n",
      "['3']\n"
     ]
    }
   ],
   "source": [
    "l=[]\n",
    "z=input(\"Enter the lenght of list: \")\n",
    "x=0\n",
    "\n",
    "if x<len(z):\n",
    "    a=input(\"give the element to be inserted: \") \n",
    "    l.append(a)\n",
    "    #x+=1\n",
    "    print(l)"
   ]
  },
  {
   "cell_type": "raw",
   "id": "81e618f0",
   "metadata": {},
   "source": [
    "sum and products of all elements in list"
   ]
  },
  {
   "cell_type": "code",
   "execution_count": 7,
   "id": "14e46c26",
   "metadata": {},
   "outputs": [
    {
     "name": "stdout",
     "output_type": "stream",
     "text": [
      "sum= 6 \n",
      "product= 6\n"
     ]
    }
   ],
   "source": [
    "sum1=0\n",
    "product=1\n",
    "y=[1,2,3]\n",
    "for x in range(0,len(y)):\n",
    "    sum1=sum1+y[x]\n",
    "    product=product*y[x] #print(x)\n",
    "        #l.append(y[x])\n",
    "print(\"sum=\",sum1,\"\\n\"\"product=\",product)"
   ]
  },
  {
   "cell_type": "raw",
   "id": "ff58113b",
   "metadata": {},
   "source": [
    " Write a Python program to get the maximum and minimum numbers from a list"
   ]
  },
  {
   "cell_type": "code",
   "execution_count": 10,
   "id": "d238b895",
   "metadata": {},
   "outputs": [
    {
     "name": "stdout",
     "output_type": "stream",
     "text": [
      "max_num =  40\n",
      "min_num =  5\n"
     ]
    }
   ],
   "source": [
    "l=[10,22,30,40,5]\n",
    "max_num=l[0]\n",
    "min_num=l[0]\n",
    "for x in l:\n",
    "    if x>max_num:\n",
    "        max_num=x\n",
    "    if x<min_num:\n",
    "        min_num=x\n",
    "print(\"max_num = \" ,max_num) \n",
    "print(\"min_num = \",min_num)"
   ]
  },
  {
   "cell_type": "code",
   "execution_count": 11,
   "id": "d71ce33d",
   "metadata": {},
   "outputs": [
    {
     "name": "stdout",
     "output_type": "stream",
     "text": [
      "['Green', 'White', 'Black']\n"
     ]
    }
   ],
   "source": [
    "a=[]\n",
    "y=['Red','Green','White','Black','Pink','Yellow']\n",
    "for x in range(0,len(y)):\n",
    "    if x!=0 and x!=4 and x!=5:\n",
    "        a.append(y[x])\n",
    "        \n",
    "    else:\n",
    "        continue\n",
    "print(a)"
   ]
  },
  {
   "cell_type": "code",
   "execution_count": 12,
   "id": "a425fcfd",
   "metadata": {},
   "outputs": [
    {
     "name": "stdout",
     "output_type": "stream",
     "text": [
      "('k', 'e', 'e', 'r', 't', 'h', 'i')\n"
     ]
    }
   ],
   "source": [
    "x=\"keerthi\"\n",
    "l=[]\n",
    "for y in x:\n",
    "    l.append(y)\n",
    "z=tuple(l)\n",
    "print(z)"
   ]
  },
  {
   "cell_type": "code",
   "execution_count": 14,
   "id": "ab6f5730",
   "metadata": {},
   "outputs": [
    {
     "name": "stdout",
     "output_type": "stream",
     "text": [
      "[7, 6, 5, 4, 3, 2, 1]\n"
     ]
    }
   ],
   "source": [
    "l=[1,2,3,4,5,6,7]\n",
    "l.reverse()\n",
    "print(l)"
   ]
  },
  {
   "cell_type": "raw",
   "id": "02d52ccf",
   "metadata": {},
   "source": [
    " Write a Python program to count integer in a given mixed list"
   ]
  },
  {
   "cell_type": "code",
   "execution_count": 15,
   "id": "64b6c0f2",
   "metadata": {},
   "outputs": [
    {
     "name": "stdout",
     "output_type": "stream",
     "text": [
      "enter the length of the list:  4\n",
      "int,float , complex ,string choose from this : int\n",
      "enter the data : 2\n",
      "int,float , complex ,string choose from this : float\n",
      "enter the data : 2.2\n",
      "int,float , complex ,string choose from this : complex\n",
      "enter the data : 2+0j\n",
      "int,float , complex ,string choose from this : int\n",
      "enter the data : 2\n",
      "[2, 2.2, (2+0j), 2]\n",
      "Number of integers :  2\n"
     ]
    }
   ],
   "source": [
    "a=0\n",
    "l=[]\n",
    "x=int(input(\"enter the length of the list:  \"))\n",
    "for y in range(0,x):\n",
    "    data_type=input(\"int,float , complex ,string choose from this : \")\n",
    "    if data_type==\"int\":\n",
    "        l.append(int(input(\"enter the data : \")))\n",
    "        a+=1\n",
    "    elif data_type==\"float\":\n",
    "        l.append(float(input(\"enter the data : \")))\n",
    "    elif data_type==\"complex\":\n",
    "        l.append(complex(input(\"enter the data : \")))\n",
    "    else:\n",
    "        l.append(input(\"enter the data: \"))\n",
    "print(l)  \n",
    "\n",
    "print(\"Number of integers : \",a)"
   ]
  },
  {
   "cell_type": "code",
   "execution_count": 17,
   "id": "e3a628d2",
   "metadata": {},
   "outputs": [
    {
     "name": "stdout",
     "output_type": "stream",
     "text": [
      "average:  5.0\n"
     ]
    }
   ],
   "source": [
    "l=[2,3,4,5,6,7,8]\n",
    "average=0\n",
    "num=len(l)\n",
    "for x in l:\n",
    "    average+=x/num\n",
    "print(\"average: \",average) "
   ]
  },
  {
   "cell_type": "code",
   "execution_count": 18,
   "id": "95afba52",
   "metadata": {},
   "outputs": [
    {
     "name": "stdout",
     "output_type": "stream",
     "text": [
      "1 2 3 4 "
     ]
    }
   ],
   "source": [
    "x=[1,2,3,4]\n",
    "for y in x:\n",
    "    print(y,end=\" \")\n",
    "    y=str(y)"
   ]
  },
  {
   "cell_type": "code",
   "execution_count": null,
   "id": "f0a455af",
   "metadata": {},
   "outputs": [],
   "source": []
  }
 ],
 "metadata": {
  "kernelspec": {
   "display_name": "Python 3 (ipykernel)",
   "language": "python",
   "name": "python3"
  },
  "language_info": {
   "codemirror_mode": {
    "name": "ipython",
    "version": 3
   },
   "file_extension": ".py",
   "mimetype": "text/x-python",
   "name": "python",
   "nbconvert_exporter": "python",
   "pygments_lexer": "ipython3",
   "version": "3.10.9"
  }
 },
 "nbformat": 4,
 "nbformat_minor": 5
}
