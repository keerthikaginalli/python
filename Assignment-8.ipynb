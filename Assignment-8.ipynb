{
 "cells": [
  {
   "cell_type": "code",
   "execution_count": 1,
   "id": "44520794",
   "metadata": {},
   "outputs": [],
   "source": [
    "#1. Create a function that takes a boolean variable flag and returns it as a string. \n",
    "#Examples\n",
    "#bool_to_string(True) ➞ \"True\" \n",
    "#bool_to_string(False) ➞ \"False\"\n",
    "\n",
    "def bool_to_string(flag):\n",
    "    if flag==True:\n",
    "        return \"True\"\n",
    "    elif flag==False:\n",
    "        return \"False\"\n",
    "    else:\n",
    "        return None"
   ]
  },
  {
   "cell_type": "code",
   "execution_count": 2,
   "id": "ffe1dca4",
   "metadata": {},
   "outputs": [
    {
     "data": {
      "text/plain": [
       "'True'"
      ]
     },
     "execution_count": 2,
     "metadata": {},
     "output_type": "execute_result"
    }
   ],
   "source": [
    "bool_to_string(True)"
   ]
  },
  {
   "cell_type": "code",
   "execution_count": 3,
   "id": "1e5f8487",
   "metadata": {},
   "outputs": [],
   "source": [
    "#2.Create a function that returns True when num1 is equal to num2; otherwise return False.\n",
    "#Examples\n",
    "#is_same_num(4, 8) ➞ False \n",
    "#is_same_num(2, 2) ➞ True \n",
    "#is_same_num(2, \"2\") ➞ False\n",
    "\n",
    "def is_same_num(num1,num2):\n",
    "    if num1==num2:\n",
    "        print(True)\n",
    "    else:\n",
    "        print(False)"
   ]
  },
  {
   "cell_type": "code",
   "execution_count": 4,
   "id": "87be83a9",
   "metadata": {},
   "outputs": [
    {
     "name": "stdout",
     "output_type": "stream",
     "text": [
      "False\n"
     ]
    }
   ],
   "source": [
    "is_same_num(4, 8)"
   ]
  },
  {
   "cell_type": "code",
   "execution_count": 5,
   "id": "501dc43c",
   "metadata": {},
   "outputs": [
    {
     "name": "stdout",
     "output_type": "stream",
     "text": [
      "True\n"
     ]
    }
   ],
   "source": [
    "is_same_num(2, 2)"
   ]
  },
  {
   "cell_type": "code",
   "execution_count": 6,
   "id": "99572992",
   "metadata": {},
   "outputs": [
    {
     "name": "stdout",
     "output_type": "stream",
     "text": [
      "False\n"
     ]
    }
   ],
   "source": [
    "is_same_num(2, \"2\")"
   ]
  },
  {
   "cell_type": "code",
   "execution_count": 7,
   "id": "077f490d",
   "metadata": {},
   "outputs": [],
   "source": [
    "#3 Create a function that takes a number as its only argument and returns True if it's less than or equal to zero, otherwise return False.\n",
    "#Examples\n",
    "#less_than_or_equal_to_zero(5) ➞ False \n",
    "#less_than_or_equal_to_zero(0) ➞ True \n",
    "#less_than_or_equal_to_zero(-2) ➞ True\n",
    "\n",
    "def less_than_or_equal_to_zero(num1):\n",
    "        if num1<=0:\n",
    "            print(True)\n",
    "        else:\n",
    "            print(False)"
   ]
  },
  {
   "cell_type": "code",
   "execution_count": 8,
   "id": "b5f1d1ed",
   "metadata": {},
   "outputs": [
    {
     "name": "stdout",
     "output_type": "stream",
     "text": [
      "False\n"
     ]
    }
   ],
   "source": [
    "less_than_or_equal_to_zero(5)"
   ]
  },
  {
   "cell_type": "code",
   "execution_count": 9,
   "id": "48ae0acf",
   "metadata": {},
   "outputs": [
    {
     "name": "stdout",
     "output_type": "stream",
     "text": [
      "True\n"
     ]
    }
   ],
   "source": [
    "less_than_or_equal_to_zero(0)"
   ]
  },
  {
   "cell_type": "code",
   "execution_count": 10,
   "id": "1d5c65e7",
   "metadata": {},
   "outputs": [
    {
     "name": "stdout",
     "output_type": "stream",
     "text": [
      "True\n"
     ]
    }
   ],
   "source": [
    "less_than_or_equal_to_zero(-2)"
   ]
  },
  {
   "cell_type": "code",
   "execution_count": 11,
   "id": "fa9a94e0",
   "metadata": {},
   "outputs": [],
   "source": [
    "#4 Emmy has written a function that returns a greeting to users. However, she's in love with Mubashir, \n",
    "#and would like to greet him slightly differently. She added a special case in her function, \n",
    "#but she made a mistake.Can you help her?\n",
    "#Can you help her?\n",
    "#greeting(\"Matt\") ➞ \"Hello, Matt!\" \n",
    "#greeting(\"Helen\") ➞ \"Hello, Helen!\" \n",
    "#greeting(\"Mubashir\") ➞ \"Hello, my Love!\"\n",
    "\n",
    "def greeting(name):\n",
    "    if name==\"Mubashir\" or name==\"mubashir\":\n",
    "        print(\"Hello, my Love!\")\n",
    "    else:\n",
    "        print(\"Hello, {}!\".format(name))"
   ]
  },
  {
   "cell_type": "code",
   "execution_count": 12,
   "id": "f776491c",
   "metadata": {},
   "outputs": [
    {
     "name": "stdout",
     "output_type": "stream",
     "text": [
      "Hello, Matt!\n"
     ]
    }
   ],
   "source": [
    "greeting(\"Matt\") "
   ]
  },
  {
   "cell_type": "code",
   "execution_count": 13,
   "id": "7622c9b2",
   "metadata": {},
   "outputs": [
    {
     "name": "stdout",
     "output_type": "stream",
     "text": [
      "Hello, Helen!\n"
     ]
    }
   ],
   "source": [
    "greeting(\"Helen\")"
   ]
  },
  {
   "cell_type": "code",
   "execution_count": 14,
   "id": "21b53a6e",
   "metadata": {},
   "outputs": [
    {
     "name": "stdout",
     "output_type": "stream",
     "text": [
      "Hello, my Love!\n"
     ]
    }
   ],
   "source": [
    "greeting(\"Mubashir\")"
   ]
  },
  {
   "cell_type": "code",
   "execution_count": 15,
   "id": "415395fc",
   "metadata": {},
   "outputs": [],
   "source": [
    "#5 Create a function that takes two arguments. Both arguments are integers, a and b.\n",
    "# Return True if one of them is 10 or if their sum is 10.\n",
    "#Examples\n",
    "#makes10(9, 10) ➞ True \n",
    "#makes10(9, 9) ➞ False \n",
    "#makes10(1, 9) ➞ True\n",
    "\n",
    "def makes10(a,b):\n",
    "    if a==10 or b==10 or a+b==10:\n",
    "        return True\n",
    "    else:\n",
    "        return False"
   ]
  },
  {
   "cell_type": "code",
   "execution_count": 16,
   "id": "ad772aba",
   "metadata": {},
   "outputs": [
    {
     "data": {
      "text/plain": [
       "True"
      ]
     },
     "execution_count": 16,
     "metadata": {},
     "output_type": "execute_result"
    }
   ],
   "source": [
    "makes10(9, 10)"
   ]
  },
  {
   "cell_type": "code",
   "execution_count": 17,
   "id": "3e11a496",
   "metadata": {},
   "outputs": [
    {
     "data": {
      "text/plain": [
       "False"
      ]
     },
     "execution_count": 17,
     "metadata": {},
     "output_type": "execute_result"
    }
   ],
   "source": [
    "makes10(9, 9)"
   ]
  },
  {
   "cell_type": "code",
   "execution_count": 18,
   "id": "3109eb99",
   "metadata": {},
   "outputs": [
    {
     "data": {
      "text/plain": [
       "True"
      ]
     },
     "execution_count": 18,
     "metadata": {},
     "output_type": "execute_result"
    }
   ],
   "source": [
    "makes10(1, 9)"
   ]
  },
  {
   "cell_type": "code",
   "execution_count": 20,
   "id": "3bf1789c",
   "metadata": {},
   "outputs": [],
   "source": [
    "#6 Create a function that takes three arguments prob, prize, pay and returns True if prob * prize > pay;\n",
    "#otherwise return False.\n",
    "#To illustrate:\n",
    "#profitable_gamble(0.2, 50, 9)\n",
    "#... should yield True, since the net profit is 1 (0.2 * 50 - 9), and 1 > 0.\n",
    "\n",
    "def profitable_gamble(prob,prize,pay):\n",
    "    if prob*prize>pay:\n",
    "        return True\n",
    "    else:\n",
    "        return False"
   ]
  },
  {
   "cell_type": "code",
   "execution_count": 21,
   "id": "c88d0147",
   "metadata": {},
   "outputs": [
    {
     "data": {
      "text/plain": [
       "True"
      ]
     },
     "execution_count": 21,
     "metadata": {},
     "output_type": "execute_result"
    }
   ],
   "source": [
    "profitable_gamble(0.2, 50, 9)"
   ]
  },
  {
   "cell_type": "code",
   "execution_count": 22,
   "id": "836f9d8c",
   "metadata": {},
   "outputs": [],
   "source": [
    "#7 Create a function that takes an integer and returns True if it's divisible by 100, otherwise return False.\n",
    "\n",
    "def divisible(num):\n",
    "    if num%100==0:\n",
    "        return True\n",
    "    else:\n",
    "        return False"
   ]
  },
  {
   "cell_type": "code",
   "execution_count": 23,
   "id": "b097d16b",
   "metadata": {},
   "outputs": [
    {
     "data": {
      "text/plain": [
       "False"
      ]
     },
     "execution_count": 23,
     "metadata": {},
     "output_type": "execute_result"
    }
   ],
   "source": [
    "divisible(1)"
   ]
  },
  {
   "cell_type": "code",
   "execution_count": 24,
   "id": "072df476",
   "metadata": {},
   "outputs": [
    {
     "data": {
      "text/plain": [
       "True"
      ]
     },
     "execution_count": 24,
     "metadata": {},
     "output_type": "execute_result"
    }
   ],
   "source": [
    "divisible(1000)"
   ]
  },
  {
   "cell_type": "code",
   "execution_count": 25,
   "id": "6cb81093",
   "metadata": {},
   "outputs": [
    {
     "data": {
      "text/plain": [
       "True"
      ]
     },
     "execution_count": 25,
     "metadata": {},
     "output_type": "execute_result"
    }
   ],
   "source": [
    "divisible(100)"
   ]
  },
  {
   "cell_type": "code",
   "execution_count": 26,
   "id": "ca884f44",
   "metadata": {},
   "outputs": [],
   "source": [
    "#8 Create a function that takes two strings as arguments and return either True or False depending on whether the \n",
    "#total number of characters in the first string is equal to the total number of characters in the second string.\n",
    "\n",
    "def comp(a,b):\n",
    "    if len(a)==len(b):\n",
    "        return True\n",
    "    else:\n",
    "        return False\n",
    "    "
   ]
  },
  {
   "cell_type": "code",
   "execution_count": 27,
   "id": "1665998d",
   "metadata": {},
   "outputs": [
    {
     "data": {
      "text/plain": [
       "True"
      ]
     },
     "execution_count": 27,
     "metadata": {},
     "output_type": "execute_result"
    }
   ],
   "source": [
    "comp(\"AB\", \"CD\")"
   ]
  },
  {
   "cell_type": "code",
   "execution_count": 28,
   "id": "24d475bc",
   "metadata": {},
   "outputs": [
    {
     "data": {
      "text/plain": [
       "False"
      ]
     },
     "execution_count": 28,
     "metadata": {},
     "output_type": "execute_result"
    }
   ],
   "source": [
    "comp(\"ABC\", \"DE\")"
   ]
  },
  {
   "cell_type": "code",
   "execution_count": 29,
   "id": "765875ad",
   "metadata": {},
   "outputs": [
    {
     "data": {
      "text/plain": [
       "False"
      ]
     },
     "execution_count": 29,
     "metadata": {},
     "output_type": "execute_result"
    }
   ],
   "source": [
    "comp(\"hello\", \"edabit\")"
   ]
  },
  {
   "cell_type": "code",
   "execution_count": 30,
   "id": "516918da",
   "metadata": {},
   "outputs": [],
   "source": [
    "#9 Given a string, return True if its length is even or False if the length is odd. Examples\n",
    "#odd_or_even(\"apples\") ➞ True\n",
    "# The word \"apples\" has 6 characters.\n",
    "# 6 is an even number, so the program outputs True.\n",
    "#odd_or_even(\"pears\") ➞ False\n",
    "# \"pears\" has 5 letters, and 5 is odd. # Therefore the program outputs False.\n",
    "#odd_or_even(\"cherry\") ➞ True\n",
    "\n",
    "def odd_or_even(s):\n",
    "    if len(s)%2==0:\n",
    "        return True\n",
    "    else:\n",
    "        return False"
   ]
  },
  {
   "cell_type": "code",
   "execution_count": 31,
   "id": "37f682ec",
   "metadata": {},
   "outputs": [
    {
     "data": {
      "text/plain": [
       "True"
      ]
     },
     "execution_count": 31,
     "metadata": {},
     "output_type": "execute_result"
    }
   ],
   "source": [
    "odd_or_even(\"apples\")"
   ]
  },
  {
   "cell_type": "code",
   "execution_count": 32,
   "id": "9c453846",
   "metadata": {},
   "outputs": [
    {
     "data": {
      "text/plain": [
       "False"
      ]
     },
     "execution_count": 32,
     "metadata": {},
     "output_type": "execute_result"
    }
   ],
   "source": [
    "odd_or_even(\"pears\")"
   ]
  },
  {
   "cell_type": "code",
   "execution_count": 33,
   "id": "06bd7eda",
   "metadata": {},
   "outputs": [
    {
     "data": {
      "text/plain": [
       "True"
      ]
     },
     "execution_count": 33,
     "metadata": {},
     "output_type": "execute_result"
    }
   ],
   "source": [
    "odd_or_even(\"cherry\")"
   ]
  },
  {
   "cell_type": "code",
   "execution_count": 34,
   "id": "3f75bf66",
   "metadata": {},
   "outputs": [],
   "source": [
    "#10 Create a function that takes a string; we'll say that the front is the first three characters of the string. \n",
    "#If the string length is less than three characters, the front is whatever is there.\n",
    "#Return a new string, which is three copies of the front.\n",
    "#Examples\n",
    "#front3(\"Python\") ➞ \"PytPytPyt\" \n",
    "#front3(\"Cucumber\") ➞ \"CucCucCuc\" \n",
    "#front3(\"bioshock\") ➞ \"biobiobio\"\n",
    "\n",
    "def front3(s):\n",
    "    if len(s)<=3:\n",
    "        front=s\n",
    "    else:\n",
    "        front=s[:3]\n",
    "    return front*3"
   ]
  },
  {
   "cell_type": "code",
   "execution_count": 35,
   "id": "efa719aa",
   "metadata": {},
   "outputs": [
    {
     "data": {
      "text/plain": [
       "'PytPytPyt'"
      ]
     },
     "execution_count": 35,
     "metadata": {},
     "output_type": "execute_result"
    }
   ],
   "source": [
    "front3(\"Python\")"
   ]
  },
  {
   "cell_type": "code",
   "execution_count": 36,
   "id": "a550da77",
   "metadata": {},
   "outputs": [
    {
     "data": {
      "text/plain": [
       "'CucCucCuc'"
      ]
     },
     "execution_count": 36,
     "metadata": {},
     "output_type": "execute_result"
    }
   ],
   "source": [
    "front3(\"Cucumber\")"
   ]
  },
  {
   "cell_type": "code",
   "execution_count": 37,
   "id": "9f95c711",
   "metadata": {},
   "outputs": [
    {
     "data": {
      "text/plain": [
       "'biobiobio'"
      ]
     },
     "execution_count": 37,
     "metadata": {},
     "output_type": "execute_result"
    }
   ],
   "source": [
    "front3(\"bioshock\")"
   ]
  },
  {
   "cell_type": "code",
   "execution_count": 38,
   "id": "80130012",
   "metadata": {},
   "outputs": [],
   "source": [
    "#11 Darts is a target game played by throwing feathered darts at a circular board with numbered spaces.\n",
    "#Our darts game is the simplest of all games. The score of a single turn is calculated based on the distance from\n",
    "#the middle. You need to create a function that takes the dart location as two cartesian coordinates (x, y) and \n",
    "#returns a score based on the distance from the middle, aka Bullseye (x=0, y=0).\n",
    "#● Bullseye and inner circle scores = 10 points\n",
    "#● Middle ring scores = 5 points\n",
    "#● Outer ring scores = 1 point\n",
    "#● Outside the target = 0 points\n",
    "\n",
    "def darts(x,y):\n",
    "    r=((x**2)+(y**2))**2\n",
    "    if r<=1:\n",
    "        p=10\n",
    "    elif r>1 and r<=5:\n",
    "        p=5\n",
    "    elif r>5 and r<=10:\n",
    "        p=1\n",
    "    else:\n",
    "        p=0\n",
    "    return p"
   ]
  },
  {
   "cell_type": "code",
   "execution_count": 39,
   "id": "db49afb3",
   "metadata": {},
   "outputs": [
    {
     "data": {
      "text/plain": [
       "5"
      ]
     },
     "execution_count": 39,
     "metadata": {},
     "output_type": "execute_result"
    }
   ],
   "source": [
    "darts(1,1)"
   ]
  },
  {
   "cell_type": "code",
   "execution_count": 40,
   "id": "fc10947c",
   "metadata": {},
   "outputs": [],
   "source": [
    "#12  Write a function that returns True if a year is a leap, otherwise return False. A year is a \"leap year\" if it \n",
    "#lasts 366 days, instead of 365 in a typical year. That extra day is added to the end of the shortest month,\n",
    "#creating February 29.A leap year occurs every four years, and will take place if the year is a multiple of four.\n",
    "#The exception to this is a year at the beginning of a century (for example, 1900 or 2000), where the year must be \n",
    "#divisible by 4 to be a leap year.\n",
    "\n",
    "def leap_year(y):\n",
    "    if y%4==0:\n",
    "        return True\n",
    "    else:\n",
    "        return False"
   ]
  },
  {
   "cell_type": "code",
   "execution_count": 41,
   "id": "fb996d60",
   "metadata": {},
   "outputs": [
    {
     "data": {
      "text/plain": [
       "False"
      ]
     },
     "execution_count": 41,
     "metadata": {},
     "output_type": "execute_result"
    }
   ],
   "source": [
    "leap_year(1990)"
   ]
  },
  {
   "cell_type": "code",
   "execution_count": 42,
   "id": "4f964356",
   "metadata": {},
   "outputs": [
    {
     "data": {
      "text/plain": [
       "True"
      ]
     },
     "execution_count": 42,
     "metadata": {},
     "output_type": "execute_result"
    }
   ],
   "source": [
    "leap_year(1924)"
   ]
  },
  {
   "cell_type": "code",
   "execution_count": 43,
   "id": "ff8df3c3",
   "metadata": {},
   "outputs": [
    {
     "data": {
      "text/plain": [
       "False"
      ]
     },
     "execution_count": 43,
     "metadata": {},
     "output_type": "execute_result"
    }
   ],
   "source": [
    "leap_year(2021)"
   ]
  },
  {
   "cell_type": "code",
   "execution_count": 44,
   "id": "d0f7b5c0",
   "metadata": {},
   "outputs": [],
   "source": [
    "#13 Create a function that takes an array of hurdle heights and a jumper's jump height, and determine \n",
    "# whether or not the hurdler can clear all the hurdles.A hurdler can clear a hurdle if their \n",
    "# jump height is greater than or equal to the hurdle height.\n",
    "#Examples\n",
    "#hurdle_jump([1, 2, 3, 4, 5], 5) ➞ True \n",
    "#hurdle_jump([5, 5, 3, 4, 5], 3) ➞ False \n",
    "#hurdle_jump([5, 4, 5, 6], 10) ➞ True \n",
    "#hurdle_jump([1, 2, 1], 1) ➞ False\n",
    "\n",
    "def hurdle_jump(hurdle_heights,jump_heights):\n",
    "    t=0;\n",
    "    for x in hurdle_heights:\n",
    "        if x<=jump_heights:\n",
    "            t+=1 \n",
    "        else:\n",
    "             continue\n",
    "    if t==len(hurdle_heights):\n",
    "        return True\n",
    "    else:\n",
    "        return False"
   ]
  },
  {
   "cell_type": "code",
   "execution_count": 45,
   "id": "90387707",
   "metadata": {},
   "outputs": [
    {
     "data": {
      "text/plain": [
       "True"
      ]
     },
     "execution_count": 45,
     "metadata": {},
     "output_type": "execute_result"
    }
   ],
   "source": [
    "hurdle_jump([1, 2, 3, 4, 5], 5)"
   ]
  },
  {
   "cell_type": "code",
   "execution_count": 46,
   "id": "a5197f2c",
   "metadata": {},
   "outputs": [
    {
     "data": {
      "text/plain": [
       "False"
      ]
     },
     "execution_count": 46,
     "metadata": {},
     "output_type": "execute_result"
    }
   ],
   "source": [
    "hurdle_jump([5, 5, 3, 4, 5], 3)"
   ]
  },
  {
   "cell_type": "code",
   "execution_count": 47,
   "id": "428cec69",
   "metadata": {},
   "outputs": [
    {
     "data": {
      "text/plain": [
       "True"
      ]
     },
     "execution_count": 47,
     "metadata": {},
     "output_type": "execute_result"
    }
   ],
   "source": [
    "hurdle_jump([5, 4, 5, 6], 10)"
   ]
  },
  {
   "cell_type": "code",
   "execution_count": 48,
   "id": "8bfffabe",
   "metadata": {},
   "outputs": [
    {
     "data": {
      "text/plain": [
       "False"
      ]
     },
     "execution_count": 48,
     "metadata": {},
     "output_type": "execute_result"
    }
   ],
   "source": [
    "hurdle_jump([1, 2, 1], 1)"
   ]
  },
  {
   "cell_type": "code",
   "execution_count": 49,
   "id": "8b2c191a",
   "metadata": {},
   "outputs": [],
   "source": [
    "#Create a function that takes a number (from 1 to 12) and returns its corresponding month name as a string.\n",
    "#For example, if you're given 3 as input, your function should return \"March\", because March is the 3rd month.\n",
    "\n",
    "def month_name(num):\n",
    "    year={1:\"January\",2:\"February\",3:\"March\",4:\"April\",5:\"May\",6:\"June\",7:\"July\",8:\"August\",9:\"September\",\\\n",
    "          10:\"October\",11:\"November\",12:\"December\"}\n",
    "    for x in year.keys():\n",
    "        if x==num:\n",
    "            month=year[x]\n",
    "        else:\n",
    "            continue\n",
    "    return month"
   ]
  },
  {
   "cell_type": "code",
   "execution_count": 50,
   "id": "00d4f92a",
   "metadata": {},
   "outputs": [
    {
     "data": {
      "text/plain": [
       "'March'"
      ]
     },
     "execution_count": 50,
     "metadata": {},
     "output_type": "execute_result"
    }
   ],
   "source": [
    "month_name(3)"
   ]
  },
  {
   "cell_type": "code",
   "execution_count": 51,
   "id": "189a1c9c",
   "metadata": {},
   "outputs": [
    {
     "data": {
      "text/plain": [
       "'December'"
      ]
     },
     "execution_count": 51,
     "metadata": {},
     "output_type": "execute_result"
    }
   ],
   "source": [
    "month_name(12)"
   ]
  },
  {
   "cell_type": "code",
   "execution_count": 52,
   "id": "6a19ece5",
   "metadata": {},
   "outputs": [
    {
     "data": {
      "text/plain": [
       "'June'"
      ]
     },
     "execution_count": 52,
     "metadata": {},
     "output_type": "execute_result"
    }
   ],
   "source": [
    "month_name(6)"
   ]
  },
  {
   "cell_type": "code",
   "execution_count": 53,
   "id": "6fe2e4fd",
   "metadata": {},
   "outputs": [],
   "source": [
    "#15 Create a function that takes in a two-dimensional list and returns the number of sub-lists with only identical elements.\n",
    "\n",
    "def count_identical(lst):\n",
    "    l=0\n",
    "    for x in lst:\n",
    "        if len(x)==1:\n",
    "            l+=1\n",
    "        else:\n",
    "            a=x[0];b=0\n",
    "            for y in range(1,len(x)):\n",
    "                if a==x[y]:\n",
    "                    b+=1\n",
    "            if b>=1:\n",
    "                l+=1\n",
    "    return l"
   ]
  },
  {
   "cell_type": "code",
   "execution_count": 54,
   "id": "e04a17fd",
   "metadata": {},
   "outputs": [
    {
     "data": {
      "text/plain": [
       "4"
      ]
     },
     "execution_count": 54,
     "metadata": {},
     "output_type": "execute_result"
    }
   ],
   "source": [
    "count_identical([[1],[2],[3],[4]])"
   ]
  },
  {
   "cell_type": "code",
   "execution_count": 55,
   "id": "b3e55322",
   "metadata": {},
   "outputs": [
    {
     "data": {
      "text/plain": [
       "1"
      ]
     },
     "execution_count": 55,
     "metadata": {},
     "output_type": "execute_result"
    }
   ],
   "source": [
    "count_identical([[1, 2], [2, 3],[3, 4],[4, 4]])"
   ]
  },
  {
   "cell_type": "code",
   "execution_count": 56,
   "id": "8a131e6a",
   "metadata": {},
   "outputs": [
    {
     "data": {
      "text/plain": [
       "4"
      ]
     },
     "execution_count": 56,
     "metadata": {},
     "output_type": "execute_result"
    }
   ],
   "source": [
    "count_identical([[33, 33],[5],[\"a\", \"a\"],[2, 2, 2],[1, 2, 2],[3, 1]])"
   ]
  },
  {
   "cell_type": "code",
   "execution_count": 57,
   "id": "3eccc745",
   "metadata": {},
   "outputs": [
    {
     "data": {
      "text/plain": [
       "2"
      ]
     },
     "execution_count": 57,
     "metadata": {},
     "output_type": "execute_result"
    }
   ],
   "source": [
    "count_identical([[\"@\", \"@\", \"@\", \"@\"],[2, 3], [3, 4], [4, 4]])"
   ]
  },
  {
   "cell_type": "code",
   "execution_count": 58,
   "id": "906938cb",
   "metadata": {},
   "outputs": [],
   "source": [
    "#16 A bartender is writing a simple program to determine whether he should serve drinks to someone. \n",
    "#He only serves drinks to people 18 and older and when he's not on break.Given the person's age, \n",
    "#and whether break time is in session, create a function which returns whether he should serve drinks.\n",
    "\n",
    "def should_serve_drinks(age,btime):\n",
    "    if btime==True:\n",
    "        return False\n",
    "    else:\n",
    "        if age>=18:\n",
    "             return True\n",
    "        else:\n",
    "            return False"
   ]
  },
  {
   "cell_type": "code",
   "execution_count": 59,
   "id": "4bf0fab0",
   "metadata": {},
   "outputs": [
    {
     "data": {
      "text/plain": [
       "False"
      ]
     },
     "execution_count": 59,
     "metadata": {},
     "output_type": "execute_result"
    }
   ],
   "source": [
    "should_serve_drinks(17, True)"
   ]
  },
  {
   "cell_type": "code",
   "execution_count": 60,
   "id": "0f90374a",
   "metadata": {},
   "outputs": [
    {
     "data": {
      "text/plain": [
       "True"
      ]
     },
     "execution_count": 60,
     "metadata": {},
     "output_type": "execute_result"
    }
   ],
   "source": [
    "should_serve_drinks(19, False) "
   ]
  },
  {
   "cell_type": "code",
   "execution_count": 61,
   "id": "383ddab1",
   "metadata": {},
   "outputs": [
    {
     "data": {
      "text/plain": [
       "False"
      ]
     },
     "execution_count": 61,
     "metadata": {},
     "output_type": "execute_result"
    }
   ],
   "source": [
    "should_serve_drinks(30, True)"
   ]
  },
  {
   "cell_type": "code",
   "execution_count": 62,
   "id": "5296589f",
   "metadata": {},
   "outputs": [],
   "source": [
    "#17 You will need to write three unfinished logic gates. Continue to write the three logic gates: AND, OR, and NOT.\n",
    "\n",
    "def AND(x,y):\n",
    "    if x==1 and y==1:\n",
    "        return 1\n",
    "    else:\n",
    "        return 0\n",
    "\n",
    "def OR(x,y):\n",
    "    if x==1 or y==1:\n",
    "        return 1\n",
    "    else:\n",
    "        return 0\n",
    "def NOT(x):\n",
    "    if x==1:\n",
    "        return 0\n",
    "    elif x==0:\n",
    "        return 1"
   ]
  },
  {
   "cell_type": "code",
   "execution_count": 63,
   "id": "589006ef",
   "metadata": {},
   "outputs": [
    {
     "data": {
      "text/plain": [
       "1"
      ]
     },
     "execution_count": 63,
     "metadata": {},
     "output_type": "execute_result"
    }
   ],
   "source": [
    "AND(1, 1)"
   ]
  },
  {
   "cell_type": "code",
   "execution_count": 64,
   "id": "0f2cdc11",
   "metadata": {},
   "outputs": [
    {
     "data": {
      "text/plain": [
       "0"
      ]
     },
     "execution_count": 64,
     "metadata": {},
     "output_type": "execute_result"
    }
   ],
   "source": [
    "AND(0, 0)"
   ]
  },
  {
   "cell_type": "code",
   "execution_count": 65,
   "id": "d6c20128",
   "metadata": {},
   "outputs": [
    {
     "data": {
      "text/plain": [
       "1"
      ]
     },
     "execution_count": 65,
     "metadata": {},
     "output_type": "execute_result"
    }
   ],
   "source": [
    "OR(1, 0)"
   ]
  },
  {
   "cell_type": "code",
   "execution_count": 66,
   "id": "698eb928",
   "metadata": {},
   "outputs": [
    {
     "data": {
      "text/plain": [
       "1"
      ]
     },
     "execution_count": 66,
     "metadata": {},
     "output_type": "execute_result"
    }
   ],
   "source": [
    "OR(1, 1)"
   ]
  },
  {
   "cell_type": "code",
   "execution_count": 67,
   "id": "7fc1bf25",
   "metadata": {},
   "outputs": [
    {
     "data": {
      "text/plain": [
       "1"
      ]
     },
     "execution_count": 67,
     "metadata": {},
     "output_type": "execute_result"
    }
   ],
   "source": [
    "NOT(0)"
   ]
  },
  {
   "cell_type": "code",
   "execution_count": 68,
   "id": "9e243c8c",
   "metadata": {},
   "outputs": [
    {
     "data": {
      "text/plain": [
       "0"
      ]
     },
     "execution_count": 68,
     "metadata": {},
     "output_type": "execute_result"
    }
   ],
   "source": [
    "NOT(1)"
   ]
  },
  {
   "cell_type": "code",
   "execution_count": 69,
   "id": "52b54161",
   "metadata": {},
   "outputs": [],
   "source": [
    "#18 Write a function that accepts base (decimal), height (decimal) and shape (\"triangle\", \"parallelogram\") \n",
    "#as input and calculates the area of that shape.\n",
    "\n",
    "def area_shape(base=1,height=1,shape=\"parallelogram\"):\n",
    "    s=shape.lower()\n",
    "    if s==\"triangle\":\n",
    "        area=0.5*base*height\n",
    "    elif s==\"parallelogram\":\n",
    "        area=base*height\n",
    "    return area"
   ]
  },
  {
   "cell_type": "code",
   "execution_count": 70,
   "id": "7bec15b3",
   "metadata": {},
   "outputs": [
    {
     "data": {
      "text/plain": [
       "3.0"
      ]
     },
     "execution_count": 70,
     "metadata": {},
     "output_type": "execute_result"
    }
   ],
   "source": [
    "area_shape(2, 3, \"triangle\")"
   ]
  },
  {
   "cell_type": "code",
   "execution_count": 71,
   "id": "3b62d620",
   "metadata": {},
   "outputs": [
    {
     "data": {
      "text/plain": [
       "48"
      ]
     },
     "execution_count": 71,
     "metadata": {},
     "output_type": "execute_result"
    }
   ],
   "source": [
    "area_shape(8, 6, \"parallelogram\")"
   ]
  },
  {
   "cell_type": "code",
   "execution_count": 72,
   "id": "d7d3b097",
   "metadata": {},
   "outputs": [
    {
     "data": {
      "text/plain": [
       "3.77"
      ]
     },
     "execution_count": 72,
     "metadata": {},
     "output_type": "execute_result"
    }
   ],
   "source": [
    "area_shape(2.9, 1.3, \"parallelogram\")"
   ]
  },
  {
   "cell_type": "code",
   "execution_count": 73,
   "id": "0e373d0a",
   "metadata": {},
   "outputs": [],
   "source": [
    "#19 Create a function that takes a string (a random name). If the last character of the name is an \"n\", \n",
    "#return True, otherwise return False.\n",
    "\n",
    "def is_last_character_n(s):\n",
    "    if s.endswith(\"n\"):\n",
    "        return True\n",
    "    else:\n",
    "        return False"
   ]
  },
  {
   "cell_type": "code",
   "execution_count": 74,
   "id": "cf5f03e5",
   "metadata": {},
   "outputs": [
    {
     "data": {
      "text/plain": [
       "True"
      ]
     },
     "execution_count": 74,
     "metadata": {},
     "output_type": "execute_result"
    }
   ],
   "source": [
    "is_last_character_n(\"Aiden\")"
   ]
  },
  {
   "cell_type": "code",
   "execution_count": 75,
   "id": "a8652636",
   "metadata": {},
   "outputs": [
    {
     "data": {
      "text/plain": [
       "False"
      ]
     },
     "execution_count": 75,
     "metadata": {},
     "output_type": "execute_result"
    }
   ],
   "source": [
    "is_last_character_n(\"Piet\")"
   ]
  },
  {
   "cell_type": "code",
   "execution_count": 76,
   "id": "24b8aaf1",
   "metadata": {},
   "outputs": [
    {
     "data": {
      "text/plain": [
       "True"
      ]
     },
     "execution_count": 76,
     "metadata": {},
     "output_type": "execute_result"
    }
   ],
   "source": [
    "is_last_character_n(\"Dean\")"
   ]
  },
  {
   "cell_type": "code",
   "execution_count": 77,
   "id": "e2d5232b",
   "metadata": {},
   "outputs": [],
   "source": [
    "#20 Create a function that takes in a word and determines whether or not it is plural. A plural word is one that ends in \"s\".\n",
    "\n",
    "def is_plural(s):\n",
    "    if s.endswith(\"s\"):\n",
    "        return True\n",
    "    else:\n",
    "        return False"
   ]
  },
  {
   "cell_type": "code",
   "execution_count": 78,
   "id": "45b32d77",
   "metadata": {},
   "outputs": [
    {
     "data": {
      "text/plain": [
       "True"
      ]
     },
     "execution_count": 78,
     "metadata": {},
     "output_type": "execute_result"
    }
   ],
   "source": [
    "is_plural(\"changes\")"
   ]
  },
  {
   "cell_type": "code",
   "execution_count": 79,
   "id": "ca98c280",
   "metadata": {},
   "outputs": [
    {
     "data": {
      "text/plain": [
       "False"
      ]
     },
     "execution_count": 79,
     "metadata": {},
     "output_type": "execute_result"
    }
   ],
   "source": [
    "is_plural(\"change\")"
   ]
  },
  {
   "cell_type": "code",
   "execution_count": 80,
   "id": "2af90df5",
   "metadata": {},
   "outputs": [
    {
     "data": {
      "text/plain": [
       "True"
      ]
     },
     "execution_count": 80,
     "metadata": {},
     "output_type": "execute_result"
    }
   ],
   "source": [
    "is_plural(\"dudes\")"
   ]
  },
  {
   "cell_type": "code",
   "execution_count": 81,
   "id": "7e8eedd5",
   "metadata": {},
   "outputs": [
    {
     "data": {
      "text/plain": [
       "False"
      ]
     },
     "execution_count": 81,
     "metadata": {},
     "output_type": "execute_result"
    }
   ],
   "source": [
    "is_plural(\"magic\")"
   ]
  },
  {
   "cell_type": "code",
   "execution_count": 82,
   "id": "95c22920",
   "metadata": {},
   "outputs": [],
   "source": [
    "#21 Create a function that takes a number as an argument and returns \"even\" for even numbers and \"odd\" for odd numbers.\n",
    "\n",
    "def isEvenOrOdd(a):\n",
    "    if a%2==0:\n",
    "        return \"even\"\n",
    "    else:\n",
    "        return \"odd\""
   ]
  },
  {
   "cell_type": "code",
   "execution_count": 83,
   "id": "b4f9fa56",
   "metadata": {},
   "outputs": [
    {
     "data": {
      "text/plain": [
       "'odd'"
      ]
     },
     "execution_count": 83,
     "metadata": {},
     "output_type": "execute_result"
    }
   ],
   "source": [
    "isEvenOrOdd(3)"
   ]
  },
  {
   "cell_type": "code",
   "execution_count": 84,
   "id": "c9fec0d3",
   "metadata": {},
   "outputs": [
    {
     "data": {
      "text/plain": [
       "'even'"
      ]
     },
     "execution_count": 84,
     "metadata": {},
     "output_type": "execute_result"
    }
   ],
   "source": [
    "isEvenOrOdd(146)"
   ]
  },
  {
   "cell_type": "code",
   "execution_count": 85,
   "id": "f0b6f78b",
   "metadata": {},
   "outputs": [
    {
     "data": {
      "text/plain": [
       "'odd'"
      ]
     },
     "execution_count": 85,
     "metadata": {},
     "output_type": "execute_result"
    }
   ],
   "source": [
    "isEvenOrOdd(19)"
   ]
  },
  {
   "cell_type": "code",
   "execution_count": null,
   "id": "f577c048",
   "metadata": {},
   "outputs": [],
   "source": []
  }
 ],
 "metadata": {
  "kernelspec": {
   "display_name": "Python 3 (ipykernel)",
   "language": "python",
   "name": "python3"
  },
  "language_info": {
   "codemirror_mode": {
    "name": "ipython",
    "version": 3
   },
   "file_extension": ".py",
   "mimetype": "text/x-python",
   "name": "python",
   "nbconvert_exporter": "python",
   "pygments_lexer": "ipython3",
   "version": "3.10.9"
  }
 },
 "nbformat": 4,
 "nbformat_minor": 5
}
