{
 "cells": [
  {
   "cell_type": "code",
   "execution_count": 1,
   "id": "776f78c5",
   "metadata": {},
   "outputs": [
    {
     "name": "stdout",
     "output_type": "stream",
     "text": [
      "Enter the length of the list: 12\n",
      "Enter an integer value: 2\n",
      "Enter an integer value: 1\n",
      "Enter an integer value: 3\n",
      "Enter an integer value: 4\n",
      "Enter an integer value: 5\n",
      "Enter an integer value: 5\n",
      "Enter an integer value: 6\n",
      "Enter an integer value: 7\n",
      "Enter an integer value: 8\n",
      "Enter an integer value: 9\n",
      "Enter an integer value: 10\n",
      "Enter an integer value: 22\n",
      "[2, 1, 3, 4, 5, 5, 6, 7, 8, 9, 10, 22]\n",
      "[1, 2, 3, 4, 5, 6, 7, 8, 9, 10, 22]\n"
     ]
    }
   ],
   "source": [
    "l=[];\n",
    "a=int(input(\"Enter the length of the list: \"))\n",
    "for x in range(0,a):\n",
    "    l.append(int(input(\"Enter an integer value: \")))\n",
    "print(l)\n",
    "for y in l:\n",
    "    if l.count(y)>1:\n",
    "        l.remove(y) \n",
    "    else:\n",
    "        continue\n",
    "l.sort()\n",
    "print(l)"
   ]
  },
  {
   "cell_type": "code",
   "execution_count": 2,
   "id": "d8f9c48d",
   "metadata": {},
   "outputs": [
    {
     "name": "stdout",
     "output_type": "stream",
     "text": [
      "Enter the length of the dictionary: 5\n",
      "Enter the key: 1\n",
      "Enter the value: abcd\n",
      "Enter the key: 2\n",
      "Enter the value: hi\n",
      "Enter the key: 3\n",
      "Enter the value: hello\n",
      "Enter the key: 4\n",
      "Enter the value: welcome\n",
      "Enter the key: 5\n",
      "Enter the value: bye\n",
      "\n",
      "Key:  1 \tValue:  abcd\n",
      "Key:  2 \tValue:  hi\n",
      "Key:  3 \tValue:  hello\n",
      "Key:  4 \tValue:  welcome\n",
      "Key:  5 \tValue:  bye\n"
     ]
    }
   ],
   "source": [
    "a=int(input(\"Enter the length of the dictionary: \"))\n",
    "d={}\n",
    "for x in range(0,a):\n",
    "    k=input(\"Enter the key: \")\n",
    "    v=input(\"Enter the value: \")\n",
    "    d.update({k:v})\n",
    "print()\n",
    "for p,q in d.items():\n",
    "    print(\"Key: \",p,\"\\tValue: \",q)"
   ]
  },
  {
   "cell_type": "code",
   "execution_count": 3,
   "id": "b37ddf6a",
   "metadata": {},
   "outputs": [
    {
     "name": "stdout",
     "output_type": "stream",
     "text": [
      "Enter the number of students: 3\n",
      "Enter the student name : keerthi\n",
      "Enter the student name : kiran\n",
      "Enter the student name : kumar\n",
      "Input:  {'Student1': 'keerthi', 'Student2': 'kiran', 'Student3': 'kumar'} \n",
      "\n",
      "['keerthi', 'kiran', 'kumar']\n"
     ]
    }
   ],
   "source": [
    "a=int(input(\"Enter the number of students: \"))\n",
    "d={};l=[]\n",
    "for x in range(0,a):\n",
    "    k=\"Student\"+str(x+1)\n",
    "    v=input(\"Enter the student name : \")\n",
    "    d.update({k:v})\n",
    "print(\"Input: \",d,\"\\n\")\n",
    "for p in d.values():\n",
    "    l.append(p)\n",
    "l.sort()\n",
    "print(l)"
   ]
  },
  {
   "cell_type": "code",
   "execution_count": 4,
   "id": "79f26850",
   "metadata": {},
   "outputs": [
    {
     "name": "stdout",
     "output_type": "stream",
     "text": [
      "Enter a string containing 0's and 1's: 00110011\n",
      "['False', 'False', 'True', 'True', 'False', 'False', 'True', 'True']\n"
     ]
    }
   ],
   "source": [
    "l=[]\n",
    "a=input(\"Enter a string containing 0's and 1's: \")\n",
    "for x in a:\n",
    "    if x==\"1\":\n",
    "        l.append(\"True\")\n",
    "    else:\n",
    "        l.append(\"False\")\n",
    "print(l)"
   ]
  },
  {
   "cell_type": "code",
   "execution_count": 5,
   "id": "2c0ec3bb",
   "metadata": {},
   "outputs": [
    {
     "name": "stdout",
     "output_type": "stream",
     "text": [
      "Enter a string: name keerthi\n",
      "{'n': 1, 'a': 1, 'm': 1, 'e': 3, 'k': 1, 'r': 1, 't': 1, 'h': 1, 'i': 1}\n"
     ]
    }
   ],
   "source": [
    "d={};\n",
    "a=input(\"Enter a string: \")\n",
    "for x in a:\n",
    "    if not(x==\" \"):\n",
    "        d.update({x:a.count(x)})\n",
    "    else:\n",
    "        continue\n",
    "print(d)"
   ]
  },
  {
   "cell_type": "code",
   "execution_count": 6,
   "id": "5b209679",
   "metadata": {},
   "outputs": [
    {
     "name": "stdout",
     "output_type": "stream",
     "text": [
      "Enter the length of the dictionary: 5\n",
      "Enter name: keerthi\n",
      "Enter age: 27\n",
      "Enter name: kiran\n",
      "Enter age: 30\n",
      "Enter name: kumar\n",
      "Enter age: 28\n",
      "Enter name: kethan\n",
      "Enter age: 27\n",
      "Enter name: kiara\n",
      "Enter age: 25\n",
      "\n",
      "Input:  {'keerthi': 27, 'kiran': 30, 'kumar': 28, 'kethan': 27, 'kiara': 25}\n",
      "kiran\n"
     ]
    }
   ],
   "source": [
    "d={};e=0;f=''\n",
    "a=int(input(\"Enter the length of the dictionary: \"))\n",
    "for x in range(0,a):\n",
    "    k=input(\"Enter name: \")\n",
    "    v=int(input(\"Enter age: \"))\n",
    "    d.update({k:v})\n",
    "print(\"\\nInput: \",d)\n",
    "for m,n in d.items():\n",
    "    if e<n:\n",
    "        e=n\n",
    "        f=m\n",
    "print(f)"
   ]
  },
  {
   "cell_type": "code",
   "execution_count": 12,
   "id": "e5297632",
   "metadata": {},
   "outputs": [
    {
     "name": "stdout",
     "output_type": "stream",
     "text": [
      "Press s to start the game: s\n",
      "Player1\n",
      "Choose from rock,paper and scissor: rock\n",
      "Player2\n",
      "Choose from rock,paper and scissor: paper\n",
      "Player 1 won!\n",
      "Press s to continue the game s\n",
      "Player1\n",
      "Choose from rock,paper and scissor: paper\n",
      "Player2\n",
      "Choose from rock,paper and scissor: paper\n",
      "It is tie\n",
      "Press s to continue the game s\n",
      "Player1\n",
      "Choose from rock,paper and scissor: scissor\n",
      "Player2\n",
      "Choose from rock,paper and scissor: rock\n",
      "Player 2 won!\n",
      "Press s to continue the game n\n"
     ]
    }
   ],
   "source": [
    "y=input(\"Press s to start the game: \")\n",
    "while y==\"s\" or y==\"S\":\n",
    "    p1=input(\"Player1\\nChoose from rock,paper and scissor: \")\n",
    "    p2=input(\"Player2\\nChoose from rock,paper and scissor: \")\n",
    "    if (p1==\"rock\" and p2==\"paper\") or (p1==\"paper\" and p2==\"scissors\") or (p1==\"scissors\" and p2==\"rock\"):\n",
    "        print(\"Player 1 won!\")\n",
    "    elif p1==p2:\n",
    "        print(\"It is tie\")\n",
    "    else:\n",
    "        print(\"Player 2 won!\")\n",
    "    y=input(\"Press s to continue the game \")"
   ]
  },
  {
   "cell_type": "code",
   "execution_count": 13,
   "id": "5301b162",
   "metadata": {},
   "outputs": [
    {
     "name": "stdout",
     "output_type": "stream",
     "text": [
      "Enter the money you have in wallet: 60\n",
      "\n",
      "Your wallet balance:  60\n",
      "['water bottles', 'Chips']\n"
     ]
    }
   ],
   "source": [
    "store={\"water bottles\":20,\"Chips\":10,\"Iphone\":49000,\"towel\":90,\"pens\":58,\"cake\":400}\n",
    "wallet=int(input(\"Enter the money you have in wallet: \"))\n",
    "s=0;l=[]\n",
    "for x,y in store.items():\n",
    "    s+=y\n",
    "    if s<wallet:\n",
    "        l.append(x)\n",
    "print(\"\\nYour wallet balance: \",wallet)\n",
    "print(l)"
   ]
  },
  {
   "cell_type": "code",
   "execution_count": 2,
   "id": "e06b95a7",
   "metadata": {},
   "outputs": [
    {
     "name": "stdout",
     "output_type": "stream",
     "text": [
      "Enter the length of set1:2\n",
      "Enter a value: 1\n",
      "Enter a value: 1+10j\n",
      "Enter the length of set2:4\n",
      "Enter a value: 20\n",
      "Enter a value: 30\n",
      "Enter a value: 40\n",
      "Enter a value: 3+0j\n",
      "{'1+10j', '1', '40', '30', '20', '3+0j'}\n"
     ]
    }
   ],
   "source": [
    "set1=set();set2=set()\n",
    "a=int(input(\"Enter the length of set1:\"))\n",
    "for x in range(0,a):\n",
    "    p=input(\"Enter a value: \")\n",
    "    set1.add(p)\n",
    "b=int(input(\"Enter the length of set2:\"))\n",
    "for y in range(0,b):\n",
    "    q=input(\"Enter a value: \")\n",
    "    set2.add(q)\n",
    "print(set1.union(set2))"
   ]
  },
  {
   "cell_type": "code",
   "execution_count": 3,
   "id": "9359a82a",
   "metadata": {},
   "outputs": [
    {
     "name": "stdout",
     "output_type": "stream",
     "text": [
      "Enter the length of the set: 3\n",
      "Enter a value: ab\n",
      "Enter a value: cd\n",
      "Enter a value: ef\n",
      "\n",
      "Enter the value you want to check: s\n",
      "s not found.\n"
     ]
    }
   ],
   "source": [
    "set1=set()\n",
    "a=int(input(\"Enter the length of the set: \"))\n",
    "for x in range(0,a):\n",
    "    p=input(\"Enter a value: \")\n",
    "    set1.update(p)\n",
    "b=input(\"\\nEnter the value you want to check: \")\n",
    "if b in set1:\n",
    "    print(b,\"is presnt.\")\n",
    "else:\n",
    "    print(b,\"not found.\")"
   ]
  },
  {
   "cell_type": "code",
   "execution_count": 4,
   "id": "2f2d5580",
   "metadata": {},
   "outputs": [
    {
     "name": "stdout",
     "output_type": "stream",
     "text": [
      "Enter a string: kit kite cat snail doll duck\n",
      "{'kit': 1}\n"
     ]
    }
   ],
   "source": [
    "x=input(\"Enter a string: \")\n",
    "l=x.split()\n",
    "a=0;b=0;c=0;d={};a1=\"\";b1=\"\";c1=\"\"\n",
    "for x in l:\n",
    "    if l.count(x)>a:\n",
    "        a=l.count(x)\n",
    "        a1=x\n",
    "for x in range(1,a):\n",
    "    l.remove(a1)\n",
    "for y in l:\n",
    "    if l.count(y)>b:\n",
    "        b=l.count(y)\n",
    "        b1=y\n",
    "for y in range(1,b):\n",
    "    l.remove(b1)\n",
    "for z in l:\n",
    "    if l.count(z)>c:\n",
    "        c=l.count(z)\n",
    "        c1=z\n",
    "d.update({a1:a,b1:b,c1:c})\n",
    "print(d)"
   ]
  },
  {
   "cell_type": "code",
   "execution_count": 5,
   "id": "38d537e9",
   "metadata": {},
   "outputs": [
    {
     "name": "stdout",
     "output_type": "stream",
     "text": [
      "Enter the length of the dictionary: 3\n",
      "Enter the subject: stats\n",
      "Enter the marks: 30\n",
      "Enter the subject: maths\n",
      "Enter the marks: 20\n",
      "Enter the subject: science\n",
      "Enter the marks: 40\n",
      "Subject: \tMarks:\n",
      "\n",
      "stats \t\t 30\n",
      "maths \t\t 20\n",
      "science \t\t 40\n"
     ]
    }
   ],
   "source": [
    "d={}\n",
    "l=int(input(\"Enter the length of the dictionary: \"))\n",
    "for z in range(0,l):\n",
    "    k=input(\"Enter the subject: \")\n",
    "    v=int(input(\"Enter the marks: \"))\n",
    "    d.update({k:v})\n",
    "print(\"Subject:\",\"\\tMarks:\\n\")\n",
    "for x,y in d.items():\n",
    "    print(x,\"\\t\\t\",y)"
   ]
  },
  {
   "cell_type": "code",
   "execution_count": null,
   "id": "cb229cdb",
   "metadata": {},
   "outputs": [],
   "source": []
  }
 ],
 "metadata": {
  "kernelspec": {
   "display_name": "Python 3 (ipykernel)",
   "language": "python",
   "name": "python3"
  },
  "language_info": {
   "codemirror_mode": {
    "name": "ipython",
    "version": 3
   },
   "file_extension": ".py",
   "mimetype": "text/x-python",
   "name": "python",
   "nbconvert_exporter": "python",
   "pygments_lexer": "ipython3",
   "version": "3.10.9"
  }
 },
 "nbformat": 4,
 "nbformat_minor": 5
}
