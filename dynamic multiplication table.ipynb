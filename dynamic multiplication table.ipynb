{
 "cells": [
  {
   "cell_type": "code",
   "execution_count": null,
   "id": "f27f4f37",
   "metadata": {},
   "outputs": [
    {
     "name": "stdout",
     "output_type": "stream",
     "text": [
      "enter any number:2\n",
      "enter any number:2\n",
      "4\n"
     ]
    }
   ],
   "source": [
    "for y in range(1,11):\n",
    "    for x in range(1,11):\n",
    "        x=int(input(\"enter any number:\"))\n",
    "        y=int(input(\"enter any number:\"))\n",
    "        print(x*y)\n",
    "    "
   ]
  },
  {
   "cell_type": "code",
   "execution_count": 4,
   "id": "31647f5c",
   "metadata": {},
   "outputs": [
    {
     "name": "stdout",
     "output_type": "stream",
     "text": [
      "which table you want:3\n",
      "3*1=3\n",
      "3*2=6\n",
      "3*3=9\n",
      "3*4=12\n",
      "3*5=15\n",
      "3*6=18\n",
      "3*7=21\n",
      "3*8=24\n",
      "3*9=27\n",
      "3*10=30\n"
     ]
    }
   ],
   "source": [
    "table=int(input(\"which table you want:\"))\n",
    "\n",
    "for y in range(1,11):\n",
    "    print(\"{}*{}={}\".format(table,y,table*y))"
   ]
  },
  {
   "cell_type": "markdown",
   "id": "e14febfb",
   "metadata": {},
   "source": []
  },
  {
   "cell_type": "code",
   "execution_count": 3,
   "id": "5e2a9193",
   "metadata": {},
   "outputs": [
    {
     "name": "stdout",
     "output_type": "stream",
     "text": [
      "which table you want5\n",
      "how many values you want to go10\n",
      "5*1=5\n",
      "5*2=10\n",
      "5*3=15\n",
      "5*4=20\n",
      "5*5=25\n",
      "5*6=30\n",
      "5*7=35\n",
      "5*8=40\n",
      "5*9=45\n",
      "5*10=50\n"
     ]
    }
   ],
   "source": [
    "table=int(input(\"which table you want\"))\n",
    "value=int(input(\"how many values you want to go\"))\n",
    "for y in range(1,value+1):\n",
    "    print(\"{}*{}={}\".format(table,y,table*y))"
   ]
  },
  {
   "cell_type": "code",
   "execution_count": null,
   "id": "4ab3810f",
   "metadata": {},
   "outputs": [],
   "source": []
  }
 ],
 "metadata": {
  "kernelspec": {
   "display_name": "Python 3 (ipykernel)",
   "language": "python",
   "name": "python3"
  },
  "language_info": {
   "codemirror_mode": {
    "name": "ipython",
    "version": 3
   },
   "file_extension": ".py",
   "mimetype": "text/x-python",
   "name": "python",
   "nbconvert_exporter": "python",
   "pygments_lexer": "ipython3",
   "version": "3.10.9"
  }
 },
 "nbformat": 4,
 "nbformat_minor": 5
}
