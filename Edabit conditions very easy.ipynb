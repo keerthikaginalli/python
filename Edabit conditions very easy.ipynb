{
 "cells": [
  {
   "cell_type": "code",
   "execution_count": 1,
   "id": "3871babc",
   "metadata": {},
   "outputs": [],
   "source": [
    "#1 Create a function that takes a boolean variable flag and returns it as a string.\n",
    "#Examples\n",
    "#bool_to_string(True) ➞ \"True\"\n",
    "#bool_to_string(False) ➞ \"False\"\n",
    "\n",
    "def bool_to_string(flag):\n",
    "    if flag==True:\n",
    "        return \"True\"\n",
    "    elif flag==False:\n",
    "        return \"False\"\n",
    "    else:\n",
    "        return None"
   ]
  },
  {
   "cell_type": "code",
   "execution_count": 2,
   "id": "efbf2de3",
   "metadata": {},
   "outputs": [
    {
     "data": {
      "text/plain": [
       "'True'"
      ]
     },
     "execution_count": 2,
     "metadata": {},
     "output_type": "execute_result"
    }
   ],
   "source": [
    "bool_to_string(True)"
   ]
  },
  {
   "cell_type": "code",
   "execution_count": 3,
   "id": "075af701",
   "metadata": {},
   "outputs": [
    {
     "data": {
      "text/plain": [
       "'False'"
      ]
     },
     "execution_count": 3,
     "metadata": {},
     "output_type": "execute_result"
    }
   ],
   "source": [
    "bool_to_string(False)"
   ]
  },
  {
   "cell_type": "code",
   "execution_count": 4,
   "id": "78d26fd1",
   "metadata": {},
   "outputs": [],
   "source": [
    "#2 Create a function that returns True when num1 is equal to num2; otherwise return False.\n",
    "#Examples\n",
    "#is_same_num(4, 8) ➞ False\n",
    "#is_same_num(2, 2) ➞  True\n",
    "#is_same_num(2, \"2\") ➞ False\n",
    "\n",
    "def is_same_num(num1,num2):\n",
    "    if num1==num2:\n",
    "        print(True)\n",
    "    else:\n",
    "        print(False)"
   ]
  },
  {
   "cell_type": "code",
   "execution_count": 5,
   "id": "e20f3674",
   "metadata": {},
   "outputs": [
    {
     "name": "stdout",
     "output_type": "stream",
     "text": [
      "False\n"
     ]
    }
   ],
   "source": [
    "is_same_num(2, 8)"
   ]
  },
  {
   "cell_type": "code",
   "execution_count": 6,
   "id": "84d50144",
   "metadata": {},
   "outputs": [
    {
     "name": "stdout",
     "output_type": "stream",
     "text": [
      "True\n"
     ]
    }
   ],
   "source": [
    "is_same_num(2, 2)"
   ]
  },
  {
   "cell_type": "code",
   "execution_count": 7,
   "id": "99380988",
   "metadata": {},
   "outputs": [
    {
     "name": "stdout",
     "output_type": "stream",
     "text": [
      "False\n"
     ]
    }
   ],
   "source": [
    "is_same_num(2, \"2\")"
   ]
  },
  {
   "cell_type": "code",
   "execution_count": 5,
   "id": "e63f8f4e",
   "metadata": {},
   "outputs": [],
   "source": [
    "#3 Create a function that takes a number as its only argument and returns True if it's less than or equal to zero, otherwise return False.\n",
    "#Examples\n",
    "#less_than_or_equal_to_zero(5) ➞ False\n",
    "#less_than_or_equal_to_zero(0) ➞ True\n",
    "#less_than_or_equal_to_zero(-2) ➞ True\n",
    "\n",
    "def less_than_or_equal_to_zero(num1):\n",
    "        if num1<=0:\n",
    "            print(True)\n",
    "        else:\n",
    "            print(False)"
   ]
  },
  {
   "cell_type": "code",
   "execution_count": 6,
   "id": "0a419a45",
   "metadata": {},
   "outputs": [
    {
     "name": "stdout",
     "output_type": "stream",
     "text": [
      "False\n"
     ]
    }
   ],
   "source": [
    "less_than_or_equal_to_zero(5)"
   ]
  },
  {
   "cell_type": "code",
   "execution_count": 7,
   "id": "020f4f01",
   "metadata": {},
   "outputs": [
    {
     "name": "stdout",
     "output_type": "stream",
     "text": [
      "True\n"
     ]
    }
   ],
   "source": [
    "less_than_or_equal_to_zero(0)"
   ]
  },
  {
   "cell_type": "code",
   "execution_count": 8,
   "id": "c7067692",
   "metadata": {},
   "outputs": [
    {
     "name": "stdout",
     "output_type": "stream",
     "text": [
      "True\n"
     ]
    }
   ],
   "source": [
    "less_than_or_equal_to_zero(-2)"
   ]
  },
  {
   "cell_type": "code",
   "execution_count": 9,
   "id": "fea8ac28",
   "metadata": {},
   "outputs": [],
   "source": [
    "#4 Emmy has written a function that returns a greeting to users. However, she's in love with Mubashir, and would like to greet him slightly differently. She added a special case in her function, but she made a mistake.\n",
    "#Can you help her?\n",
    "#Examples\n",
    "#greeting(\"Matt\") ➞ \"Hello, Matt!\"\n",
    "#greeting(\"Helen\") ➞ \"Hello, Helen!\"\n",
    "#greeting(\"Mubashir\") ➞ \"Hello, my Love!\"\n",
    "\n",
    "def greeting(name):\n",
    "    if name==\"Mubashir\" or name==\"mubashir\":\n",
    "        print(\"\\\"Hello, my Love!\\\"\")\n",
    "    else:\n",
    "        print(\"\\\"Hello, {}!\\\"\".format(name))"
   ]
  },
  {
   "cell_type": "code",
   "execution_count": 10,
   "id": "09f1f659",
   "metadata": {},
   "outputs": [
    {
     "name": "stdout",
     "output_type": "stream",
     "text": [
      "\"Hello, Matt!\"\n"
     ]
    }
   ],
   "source": [
    "greeting(\"Matt\")"
   ]
  },
  {
   "cell_type": "code",
   "execution_count": 11,
   "id": "e5cd76cf",
   "metadata": {},
   "outputs": [
    {
     "name": "stdout",
     "output_type": "stream",
     "text": [
      "\"Hello, Helen!\"\n"
     ]
    }
   ],
   "source": [
    "greeting(\"Helen\")"
   ]
  },
  {
   "cell_type": "code",
   "execution_count": 12,
   "id": "457dd1f2",
   "metadata": {},
   "outputs": [
    {
     "name": "stdout",
     "output_type": "stream",
     "text": [
      "\"Hello, my Love!\"\n"
     ]
    }
   ],
   "source": [
    "greeting(\"Mubashir\")"
   ]
  },
  {
   "cell_type": "code",
   "execution_count": 13,
   "id": "0470c340",
   "metadata": {},
   "outputs": [],
   "source": [
    "#5 Create a function that takes two arguments. Both arguments are integers, a and b. Return True if one of them is 10 or if their sum is 10.\n",
    "#Examples\n",
    "#makes10(9, 10) ➞ True\n",
    "#makes10(9, 9) ➞ False\n",
    "#makes10(1, 9) ➞ True\n",
    "\n",
    "def makes10(a,b):\n",
    "    if a==10 or b==10 or a+b==10:\n",
    "        return True\n",
    "    else:\n",
    "        return False"
   ]
  },
  {
   "cell_type": "code",
   "execution_count": 14,
   "id": "cf17c486",
   "metadata": {},
   "outputs": [
    {
     "data": {
      "text/plain": [
       "True"
      ]
     },
     "execution_count": 14,
     "metadata": {},
     "output_type": "execute_result"
    }
   ],
   "source": [
    "makes10(9, 10)"
   ]
  },
  {
   "cell_type": "code",
   "execution_count": 15,
   "id": "24465d93",
   "metadata": {},
   "outputs": [
    {
     "data": {
      "text/plain": [
       "False"
      ]
     },
     "execution_count": 15,
     "metadata": {},
     "output_type": "execute_result"
    }
   ],
   "source": [
    "makes10(9, 9) "
   ]
  },
  {
   "cell_type": "code",
   "execution_count": 16,
   "id": "8057cc7d",
   "metadata": {},
   "outputs": [
    {
     "data": {
      "text/plain": [
       "True"
      ]
     },
     "execution_count": 16,
     "metadata": {},
     "output_type": "execute_result"
    }
   ],
   "source": [
    "makes10(1, 9)"
   ]
  },
  {
   "cell_type": "code",
   "execution_count": 17,
   "id": "64b81d29",
   "metadata": {},
   "outputs": [],
   "source": [
    "#6 Create a function that takes three arguments prob, prize, pay and returns True if prob * prize > pay; otherwise return False.\n",
    "#To illustrate:\n",
    "#profitable_gamble(0.2, 50, 9)\n",
    "#... should yield True, since the net profit is 1 (0.2 * 50 - 9), and 1 > 0.\n",
    "#Examples\n",
    "#profitable_gamble(0.2, 50, 9) ➞ True\n",
    "#profitable_gamble(0.9, 1, 2) ➞ False\n",
    "#profitable_gamble(0.9, 3, 2) ➞ True\n",
    "\n",
    "def profitable_gamble(prob,prize,pay):\n",
    "    if prob*prize>pay:\n",
    "        return True\n",
    "    else:\n",
    "        return False"
   ]
  },
  {
   "cell_type": "code",
   "execution_count": 18,
   "id": "e230da88",
   "metadata": {},
   "outputs": [
    {
     "data": {
      "text/plain": [
       "True"
      ]
     },
     "execution_count": 18,
     "metadata": {},
     "output_type": "execute_result"
    }
   ],
   "source": [
    "profitable_gamble(0.2, 50, 9)"
   ]
  },
  {
   "cell_type": "code",
   "execution_count": 19,
   "id": "d0eca202",
   "metadata": {},
   "outputs": [
    {
     "data": {
      "text/plain": [
       "False"
      ]
     },
     "execution_count": 19,
     "metadata": {},
     "output_type": "execute_result"
    }
   ],
   "source": [
    "profitable_gamble(0.9, 1, 2)"
   ]
  },
  {
   "cell_type": "code",
   "execution_count": 20,
   "id": "b07c2ce2",
   "metadata": {},
   "outputs": [
    {
     "data": {
      "text/plain": [
       "True"
      ]
     },
     "execution_count": 20,
     "metadata": {},
     "output_type": "execute_result"
    }
   ],
   "source": [
    "profitable_gamble(0.9, 3, 2)"
   ]
  },
  {
   "cell_type": "code",
   "execution_count": 21,
   "id": "d29a8879",
   "metadata": {},
   "outputs": [],
   "source": [
    "#7 Create a function that takes an integer and returns True if it's divisible by 100, otherwise return False.\n",
    "#Examples\n",
    "#divisible(1) ➞ False\n",
    "#divisible(1000) ➞ True\n",
    "#divisible(100) ➞ True\n",
    "\n",
    "def divisible(num):\n",
    "    if num%100==0:\n",
    "        return True\n",
    "    else:\n",
    "        return False"
   ]
  },
  {
   "cell_type": "code",
   "execution_count": 22,
   "id": "f67fa478",
   "metadata": {},
   "outputs": [
    {
     "data": {
      "text/plain": [
       "False"
      ]
     },
     "execution_count": 22,
     "metadata": {},
     "output_type": "execute_result"
    }
   ],
   "source": [
    "divisible(1)"
   ]
  },
  {
   "cell_type": "code",
   "execution_count": 23,
   "id": "190ecbf6",
   "metadata": {},
   "outputs": [
    {
     "data": {
      "text/plain": [
       "True"
      ]
     },
     "execution_count": 23,
     "metadata": {},
     "output_type": "execute_result"
    }
   ],
   "source": [
    "divisible(1000)"
   ]
  },
  {
   "cell_type": "code",
   "execution_count": 24,
   "id": "dee6cb1b",
   "metadata": {},
   "outputs": [
    {
     "data": {
      "text/plain": [
       "True"
      ]
     },
     "execution_count": 24,
     "metadata": {},
     "output_type": "execute_result"
    }
   ],
   "source": [
    "divisible(100)"
   ]
  },
  {
   "cell_type": "code",
   "execution_count": 25,
   "id": "4e364c3b",
   "metadata": {},
   "outputs": [],
   "source": [
    "#8 Create a function that takes two strings as arguments and return either True or False depending on whether the total number of characters in the first string is equal to the total number of characters in the second string.\n",
    "#Examples\n",
    "#comp(\"AB\", \"CD\") ➞ True\n",
    "#comp(\"ABC\", \"DE\") ➞ False\n",
    "#comp(\"hello\", \"edabit\") ➞ False\n",
    "\n",
    "def comp(a,b):\n",
    "    if len(a)==len(b):\n",
    "        return True\n",
    "    else:\n",
    "        return False"
   ]
  },
  {
   "cell_type": "code",
   "execution_count": 26,
   "id": "182d6311",
   "metadata": {},
   "outputs": [
    {
     "data": {
      "text/plain": [
       "True"
      ]
     },
     "execution_count": 26,
     "metadata": {},
     "output_type": "execute_result"
    }
   ],
   "source": [
    "comp(\"AB\", \"CD\")"
   ]
  },
  {
   "cell_type": "code",
   "execution_count": 27,
   "id": "ee5108a2",
   "metadata": {},
   "outputs": [
    {
     "data": {
      "text/plain": [
       "False"
      ]
     },
     "execution_count": 27,
     "metadata": {},
     "output_type": "execute_result"
    }
   ],
   "source": [
    "comp(\"ABC\", \"DE\")"
   ]
  },
  {
   "cell_type": "code",
   "execution_count": 28,
   "id": "95b0164b",
   "metadata": {},
   "outputs": [
    {
     "data": {
      "text/plain": [
       "False"
      ]
     },
     "execution_count": 28,
     "metadata": {},
     "output_type": "execute_result"
    }
   ],
   "source": [
    "comp(\"hello\", \"edabit\")"
   ]
  },
  {
   "cell_type": "code",
   "execution_count": 29,
   "id": "801bc3c1",
   "metadata": {},
   "outputs": [],
   "source": [
    "#9 Given a string, return True if its length is even or False if the length is odd.\n",
    "#Examples\n",
    "#odd_or_even(\"apples\") ➞ True\n",
    "# The word \"apples\" has 6 characters.\n",
    "# 6 is an even number, so the program outputs True.\n",
    "#odd_or_even(\"pears\") ➞ False\n",
    "# \"pears\" has 5 letters, and 5 is odd.\n",
    "# Therefore the program outputs False.\n",
    "#odd_or_even(\"cherry\") ➞ True\n",
    "\n",
    "def odd_or_even(s):\n",
    "    if len(s)%2==0:\n",
    "        return True\n",
    "    else:\n",
    "        return False"
   ]
  },
  {
   "cell_type": "code",
   "execution_count": 30,
   "id": "79cb712d",
   "metadata": {},
   "outputs": [
    {
     "data": {
      "text/plain": [
       "True"
      ]
     },
     "execution_count": 30,
     "metadata": {},
     "output_type": "execute_result"
    }
   ],
   "source": [
    "odd_or_even(\"apples\")"
   ]
  },
  {
   "cell_type": "code",
   "execution_count": 31,
   "id": "3b73f191",
   "metadata": {},
   "outputs": [
    {
     "data": {
      "text/plain": [
       "False"
      ]
     },
     "execution_count": 31,
     "metadata": {},
     "output_type": "execute_result"
    }
   ],
   "source": [
    "odd_or_even(\"pears\")"
   ]
  },
  {
   "cell_type": "code",
   "execution_count": 32,
   "id": "cfca3c74",
   "metadata": {},
   "outputs": [
    {
     "data": {
      "text/plain": [
       "True"
      ]
     },
     "execution_count": 32,
     "metadata": {},
     "output_type": "execute_result"
    }
   ],
   "source": [
    "odd_or_even(\"cherry\")"
   ]
  },
  {
   "cell_type": "code",
   "execution_count": 33,
   "id": "4a62411b",
   "metadata": {},
   "outputs": [],
   "source": [
    "#10 Create a function that takes a string; we'll say that the front is the first three characters of the string. If the string length is less than three characters, the front is whatever is there. Return a new string, which is three copies of the front.\n",
    "#Examples\n",
    "#front3(\"Python\") ➞ \"PytPytPyt\"\n",
    "#front3(\"Cucumber\") ➞ \"CucCucCuc\"\n",
    "#front3(\"bioshock\") ➞ \"biobiobio\"\n",
    "\n",
    "def front3(s):\n",
    "    if len(s)<=3:\n",
    "        front=s\n",
    "    else:\n",
    "        front=s[:3]\n",
    "    return front*3"
   ]
  },
  {
   "cell_type": "code",
   "execution_count": 34,
   "id": "b09aea40",
   "metadata": {},
   "outputs": [
    {
     "data": {
      "text/plain": [
       "'PytPytPyt'"
      ]
     },
     "execution_count": 34,
     "metadata": {},
     "output_type": "execute_result"
    }
   ],
   "source": [
    "front3(\"Python\")"
   ]
  },
  {
   "cell_type": "code",
   "execution_count": 35,
   "id": "4783d851",
   "metadata": {},
   "outputs": [],
   "source": [
    "#11 Write a function that returns True if the given integer is even, and False if it's odd.\n",
    "\n",
    "def Even(x):\n",
    "        return x%2==0"
   ]
  },
  {
   "cell_type": "code",
   "execution_count": 36,
   "id": "2c749b6c",
   "metadata": {},
   "outputs": [
    {
     "data": {
      "text/plain": [
       "True"
      ]
     },
     "execution_count": 36,
     "metadata": {},
     "output_type": "execute_result"
    }
   ],
   "source": [
    "Even(8)"
   ]
  },
  {
   "cell_type": "code",
   "execution_count": 37,
   "id": "7c10c540",
   "metadata": {},
   "outputs": [],
   "source": [
    "#12 Create a function that takes a number as an argument and returns \"even\" for even numbers and \"odd\" for odd numbers.\n",
    "#Examples\n",
    "#isEvenOrOdd(3) ➞ \"odd\"\n",
    "#isEvenOrOdd(146) ➞ \"even\"\n",
    "#isEvenOrOdd(19) ➞ \"odd\"\n",
    "\n",
    "def isEvenOrOdd(a):\n",
    "    if a%2==0:\n",
    "        return \"even\"\n",
    "    else:\n",
    "        return \"odd\""
   ]
  },
  {
   "cell_type": "code",
   "execution_count": 38,
   "id": "3652c4f1",
   "metadata": {},
   "outputs": [
    {
     "data": {
      "text/plain": [
       "'odd'"
      ]
     },
     "execution_count": 38,
     "metadata": {},
     "output_type": "execute_result"
    }
   ],
   "source": [
    "isEvenOrOdd(3)"
   ]
  },
  {
   "cell_type": "code",
   "execution_count": 39,
   "id": "226f0b01",
   "metadata": {},
   "outputs": [],
   "source": [
    "#13 Create a function that takes in a word and determines whether or not it is plural. A plural word is one that ends in \"s\".\n",
    "#Examples\n",
    "#is_plural(\"changes\") ➞ True\n",
    "#is_plural(\"change\") ➞ False\n",
    "#is_plural(\"dudes\") ➞ True\n",
    "#is_plural(\"magic\") ➞ False\n",
    "\n",
    "def is_plural(s):\n",
    "    if s.endswith(\"s\"):\n",
    "        return True\n",
    "    else:\n",
    "        return False"
   ]
  },
  {
   "cell_type": "code",
   "execution_count": 40,
   "id": "c13e99f1",
   "metadata": {},
   "outputs": [
    {
     "data": {
      "text/plain": [
       "True"
      ]
     },
     "execution_count": 40,
     "metadata": {},
     "output_type": "execute_result"
    }
   ],
   "source": [
    "is_plural(\"changes\")"
   ]
  },
  {
   "cell_type": "code",
   "execution_count": 41,
   "id": "6ab1ef09",
   "metadata": {},
   "outputs": [],
   "source": [
    "#14 Create a function that takes a string (a random name). If the last character of the name is an \"n\", return True, otherwise return False.\n",
    "#Examples\n",
    "#is_last_character_n(\"Aiden\") ➞ True\n",
    "#is_last_character_n(\"Piet\") ➞ False\n",
    "#is_last_character_n(\"Bert\") ➞ False\n",
    "#is_last_character_n(\"Dean\") ➞ True\n",
    "\n",
    "def is_last_character_n(s):\n",
    "    if s.endswith(\"n\"):\n",
    "        return True\n",
    "    else:\n",
    "        return False"
   ]
  },
  {
   "cell_type": "code",
   "execution_count": 42,
   "id": "aa74a63a",
   "metadata": {},
   "outputs": [
    {
     "data": {
      "text/plain": [
       "True"
      ]
     },
     "execution_count": 42,
     "metadata": {},
     "output_type": "execute_result"
    }
   ],
   "source": [
    "is_last_character_n(\"Aiden\")"
   ]
  },
  {
   "cell_type": "code",
   "execution_count": 43,
   "id": "0ddedea6",
   "metadata": {},
   "outputs": [],
   "source": [
    "#15 The packaging system is running wild! The candy is lying loose all over in the warehouse, the cereal is missing,\n",
    "#and bread is stuffed in a bottle. What is going on here? The candy should be in plastic and the bread should be in\n",
    "#a bag.\n",
    "#The packaging machine is running the get_container() function to retrieve the container of a product. But something is not right...\n",
    "#Examples\n",
    "#get_container(\"Bread\") ➞ \"bag\"\n",
    "#get_container(\"Beer\") ➞ \"bottle\"\n",
    "#get_container(\"Candy\") ➞ \"plastic\"\n",
    "#get_container(\"Cheese\") ➞ None\n",
    "\n",
    "def get_container(item):\n",
    "    i=item.lower()\n",
    "    if i==\"bread\":\n",
    "        return \"bag\"\n",
    "    elif i==\"beer\":\n",
    "        return \"bottle\"\n",
    "    elif i==\"candy\":\n",
    "        return \"plastic\"\n",
    "    else:\n",
    "        return \"None\""
   ]
  },
  {
   "cell_type": "code",
   "execution_count": 44,
   "id": "5c4bbe7e",
   "metadata": {},
   "outputs": [
    {
     "data": {
      "text/plain": [
       "'bag'"
      ]
     },
     "execution_count": 44,
     "metadata": {},
     "output_type": "execute_result"
    }
   ],
   "source": [
    "get_container(\"Bread\")"
   ]
  },
  {
   "cell_type": "code",
   "execution_count": 45,
   "id": "db5f8e30",
   "metadata": {},
   "outputs": [
    {
     "data": {
      "text/plain": [
       "'bottle'"
      ]
     },
     "execution_count": 45,
     "metadata": {},
     "output_type": "execute_result"
    }
   ],
   "source": [
    "get_container(\"Beer\")"
   ]
  },
  {
   "cell_type": "code",
   "execution_count": 46,
   "id": "25827be1",
   "metadata": {},
   "outputs": [
    {
     "data": {
      "text/plain": [
       "'plastic'"
      ]
     },
     "execution_count": 46,
     "metadata": {},
     "output_type": "execute_result"
    }
   ],
   "source": [
    "get_container(\"Candy\")"
   ]
  },
  {
   "cell_type": "code",
   "execution_count": 47,
   "id": "8762e4a3",
   "metadata": {},
   "outputs": [
    {
     "data": {
      "text/plain": [
       "'None'"
      ]
     },
     "execution_count": 47,
     "metadata": {},
     "output_type": "execute_result"
    }
   ],
   "source": [
    "get_container(\"Cheese\")"
   ]
  },
  {
   "cell_type": "code",
   "execution_count": 48,
   "id": "bd01f261",
   "metadata": {},
   "outputs": [],
   "source": [
    "#16 Create a function that returns the opposite of the given boolean, as a number.\n",
    "#Examples\n",
    "#flip_bool(True) ➞ 0\n",
    "#flip_bool(False) ➞ 1\n",
    "#flip_bool(1) ➞ 0\n",
    "#flip_bool(0) ➞ 1\n",
    "\n",
    "def flip_bool(v):\n",
    "    if v==True or v==1:\n",
    "        return 0\n",
    "    else:\n",
    "        return 1"
   ]
  },
  {
   "cell_type": "code",
   "execution_count": 49,
   "id": "c9132142",
   "metadata": {},
   "outputs": [
    {
     "data": {
      "text/plain": [
       "0"
      ]
     },
     "execution_count": 49,
     "metadata": {},
     "output_type": "execute_result"
    }
   ],
   "source": [
    "flip_bool(True)"
   ]
  },
  {
   "cell_type": "code",
   "execution_count": 50,
   "id": "258a8012",
   "metadata": {},
   "outputs": [],
   "source": [
    "def f_bool(v):\n",
    "    return not(v==True or v==1)"
   ]
  },
  {
   "cell_type": "code",
   "execution_count": 51,
   "id": "b1e55090",
   "metadata": {},
   "outputs": [
    {
     "data": {
      "text/plain": [
       "0"
      ]
     },
     "execution_count": 51,
     "metadata": {},
     "output_type": "execute_result"
    }
   ],
   "source": [
    "flip_bool(True)"
   ]
  },
  {
   "cell_type": "code",
   "execution_count": 52,
   "id": "a6ba4231",
   "metadata": {},
   "outputs": [],
   "source": [
    "#17 Write a function that accepts base (decimal), height (decimal) and shape (\"triangle\", \"parallelogram\") as input and calculates the area of that shape.\n",
    "#Examples\n",
    "#area_shape(2, 3, \"triangle\") ➞ 3\n",
    "#area_shape(8, 6, \"parallelogram\") ➞ 48\n",
    "#area_shape(2.9, 1.3, \"parallelogram\") ➞ 3.77\n",
    "\n",
    "def area_shape(base=1,height=1,shape=\"parallelogram\"):\n",
    "    s=shape.lower()\n",
    "    if s==\"triangle\":\n",
    "        area=(0.5*base*height)\n",
    "    elif s==\"parallelogram\":\n",
    "        area=(base*height)\n",
    "    else: \n",
    "        return None\n",
    "    return area"
   ]
  },
  {
   "cell_type": "code",
   "execution_count": 53,
   "id": "d1a327c2",
   "metadata": {},
   "outputs": [
    {
     "data": {
      "text/plain": [
       "3.77"
      ]
     },
     "execution_count": 53,
     "metadata": {},
     "output_type": "execute_result"
    }
   ],
   "source": [
    "area_shape(2.9, 1.3, \"parallelogram\")"
   ]
  },
  {
   "cell_type": "code",
   "execution_count": 54,
   "id": "9cafa0e7",
   "metadata": {},
   "outputs": [],
   "source": [
    "#18 You will need to write three unfinished logic gates. Continue to write the three logic gates: AND, OR, and NOT.\n",
    "#Examples\n",
    "#AND(1, 1) ➞ 1\n",
    "#AND(0, 0) ➞ 0\n",
    "#OR(1, 0) ➞ 1\n",
    "#OR(1, 1) ➞ 1\n",
    "#NOT(0) ➞ 1\n",
    "#NOT(1) ➞ 0\n",
    "\n",
    "def AND(x,y):\n",
    "    if x==1 and y==1:\n",
    "        return 1\n",
    "    else:\n",
    "        return 0\n",
    "\n",
    "def OR(x,y):\n",
    "    if x==1 or y==1:\n",
    "        return 1\n",
    "    else:\n",
    "        return 0\n",
    "def NOT(x):\n",
    "    if x==1:\n",
    "        return 0\n",
    "    elif x==0:\n",
    "        return 1"
   ]
  },
  {
   "cell_type": "code",
   "execution_count": 55,
   "id": "cc07a4d0",
   "metadata": {},
   "outputs": [
    {
     "data": {
      "text/plain": [
       "1"
      ]
     },
     "execution_count": 55,
     "metadata": {},
     "output_type": "execute_result"
    }
   ],
   "source": [
    "AND(1, 1)"
   ]
  },
  {
   "cell_type": "code",
   "execution_count": 56,
   "id": "2acc9171",
   "metadata": {},
   "outputs": [],
   "source": [
    "#19 A bartender is writing a simple program to determine whether he should serve drinks to someone. He only serves drinks to people 18 and older and when he's not on break.\n",
    "#Given the person's age, and whether break time is in session, create a function which returns whether he should serve drinks.\n",
    "#Examples\n",
    "#should_serve_drinks(17, True) ➞ False\n",
    "#should_serve_drinks(19, False) ➞ True\n",
    "#should_serve_drinks(30, True) ➞ False\n",
    "\n",
    "def should_serve_drinks(age,btime):\n",
    "    if btime==True:\n",
    "        return False\n",
    "    else:\n",
    "        if age>=18:\n",
    "             return True\n",
    "        else:\n",
    "            return False"
   ]
  },
  {
   "cell_type": "code",
   "execution_count": 57,
   "id": "861362f4",
   "metadata": {},
   "outputs": [
    {
     "data": {
      "text/plain": [
       "False"
      ]
     },
     "execution_count": 57,
     "metadata": {},
     "output_type": "execute_result"
    }
   ],
   "source": [
    "should_serve_drinks(17, True)"
   ]
  },
  {
   "cell_type": "code",
   "execution_count": 58,
   "id": "27004a77",
   "metadata": {},
   "outputs": [],
   "source": [
    "#20 Create a function that takes a string txt and a number n and returns the repeated string n number of times.\n",
    "#If given argument txt is not a string, return Not A String !!\n",
    "#Examples\n",
    "#repeat_string(\"Mubashir\", 2) ➞ \"MubashirMubashir\"\n",
    "#repeat_string(\"Matt\", 3) ➞ \"MattMattMatt\"\n",
    "#repeat_string(1990, 7) ➞ \"Not A String !!\"\n",
    "\n",
    "def repeat_string(txt,n):\n",
    "    if type(txt)==str:\n",
    "        print('\\\"',txt*n,'\\\"')\n",
    "    else:\n",
    "        print(\"\\\"Not A String!!\\\"\")"
   ]
  },
  {
   "cell_type": "code",
   "execution_count": 59,
   "id": "36647d88",
   "metadata": {},
   "outputs": [
    {
     "name": "stdout",
     "output_type": "stream",
     "text": [
      "\" MubashirMubashir \"\n"
     ]
    }
   ],
   "source": [
    "repeat_string(\"Mubashir\", 2)"
   ]
  },
  {
   "cell_type": "code",
   "execution_count": 60,
   "id": "4070cdba",
   "metadata": {},
   "outputs": [
    {
     "name": "stdout",
     "output_type": "stream",
     "text": [
      "\"Not A String!!\"\n"
     ]
    }
   ],
   "source": [
    "repeat_string(1990, 7)"
   ]
  },
  {
   "cell_type": "code",
   "execution_count": 61,
   "id": "6577ea8e",
   "metadata": {},
   "outputs": [],
   "source": [
    "#21 A taxi journey costs $3 for the first kilometer travelled. However, all kilometers travelled after that will\n",
    "#cost $2 each.\n",
    "#Create a function which returns the distance that the taxi must've travelled, given the cost as a parameter.\n",
    "#Examples\n",
    "#journey_distance(3) ➞ 1\n",
    "# The first kilometer costs $3\n",
    "#journey_distance(9) ➞ 4\n",
    "# The first kilometer costs $3 plus the other three kilometers (costing $2 each)\n",
    "#journey_distance(5) ➞ 2\n",
    "\n",
    "def journey_distance(cost):\n",
    "    if cost==3:\n",
    "        return 1\n",
    "    else:\n",
    "        return 1+((cost-3)/2)"
   ]
  },
  {
   "cell_type": "code",
   "execution_count": 62,
   "id": "f4cb78cb",
   "metadata": {},
   "outputs": [
    {
     "data": {
      "text/plain": [
       "1"
      ]
     },
     "execution_count": 62,
     "metadata": {},
     "output_type": "execute_result"
    }
   ],
   "source": [
    "journey_distance(3)"
   ]
  },
  {
   "cell_type": "code",
   "execution_count": 63,
   "id": "4478db40",
   "metadata": {},
   "outputs": [
    {
     "data": {
      "text/plain": [
       "4.0"
      ]
     },
     "execution_count": 63,
     "metadata": {},
     "output_type": "execute_result"
    }
   ],
   "source": [
    "journey_distance(9)"
   ]
  },
  {
   "cell_type": "code",
   "execution_count": 64,
   "id": "91c82bd1",
   "metadata": {},
   "outputs": [
    {
     "data": {
      "text/plain": [
       "2.0"
      ]
     },
     "execution_count": 64,
     "metadata": {},
     "output_type": "execute_result"
    }
   ],
   "source": [
    "journey_distance(5) "
   ]
  },
  {
   "cell_type": "code",
   "execution_count": 65,
   "id": "4eeb812f",
   "metadata": {},
   "outputs": [],
   "source": [
    "#22 Given a list that contains the fulcrum \"f\", the effort \"e\", and the load \"l\", write a function that determines \n",
    "#whether or not the list shows a first class lever, second class lever, or a third class lever.\n",
    "#Examples\n",
    "#determine_lever([\"e\", \"f\", \"l\"]) ➞ \"first class lever\"\n",
    "#determine_lever([\"e\", \"l\", \"f\"]) ➞ \"second class lever\"\n",
    "#determine_lever([\"f\", \"e\", \"l\"]) ➞ \"third class lever\"\n",
    "\n",
    "def determine_lever(l):\n",
    "    if l[0]==\"e\" and l[1]==\"f\" and l[2]==\"l\":\n",
    "        return \"first class lever\"\n",
    "    elif l[0]==\"e\" and l[1]==\"l\" and l[2]==\"f\":\n",
    "        return \"second class lever\"\n",
    "    elif l[0]==\"f\" and l[1]==\"e\" and l[2]==\"l\":\n",
    "        return \"third class lever\"\n",
    "    else:\n",
    "        return \"None\""
   ]
  },
  {
   "cell_type": "code",
   "execution_count": 66,
   "id": "b6178ca1",
   "metadata": {},
   "outputs": [
    {
     "data": {
      "text/plain": [
       "'first class lever'"
      ]
     },
     "execution_count": 66,
     "metadata": {},
     "output_type": "execute_result"
    }
   ],
   "source": [
    "determine_lever([\"e\", \"f\", \"l\"])"
   ]
  },
  {
   "cell_type": "code",
   "execution_count": 67,
   "id": "7e145c3b",
   "metadata": {},
   "outputs": [],
   "source": [
    "#23 Write a function that checks whether a person can watch an MA15+ rated movie. One of the following two \n",
    "#conditions is required for admittance:\n",
    "#The person is at least 15 years old.\n",
    "#They have parental supervision.\n",
    "#The function accepts two parameters, age and is_supervised. Return a boolean.\n",
    "#Examples\n",
    "#accept_into_movie(14, True) ➞ True\n",
    "#accept_into_movie(14, False) ➞ False\n",
    "#accept_into_movie(16, False) ➞ True\n",
    "\n",
    "def accept_into_movie(age,sup):\n",
    "    return age>=15 or sup==True\n",
    "    "
   ]
  },
  {
   "cell_type": "code",
   "execution_count": 68,
   "id": "06adc4e9",
   "metadata": {},
   "outputs": [
    {
     "data": {
      "text/plain": [
       "True"
      ]
     },
     "execution_count": 68,
     "metadata": {},
     "output_type": "execute_result"
    }
   ],
   "source": [
    "accept_into_movie(14, True)"
   ]
  },
  {
   "cell_type": "code",
   "execution_count": 69,
   "id": "e64a7c70",
   "metadata": {},
   "outputs": [],
   "source": [
    "def accept_into_movie(age,sup):\n",
    "    if age>=15 or sup==True:\n",
    "        return True\n",
    "    else:\n",
    "        return False"
   ]
  },
  {
   "cell_type": "code",
   "execution_count": 70,
   "id": "a15506a5",
   "metadata": {},
   "outputs": [
    {
     "data": {
      "text/plain": [
       "False"
      ]
     },
     "execution_count": 70,
     "metadata": {},
     "output_type": "execute_result"
    }
   ],
   "source": [
    "accept_into_movie(14, False)"
   ]
  },
  {
   "cell_type": "code",
   "execution_count": 71,
   "id": "5eefa6cf",
   "metadata": {},
   "outputs": [],
   "source": [
    "#24 Create a function that returns a number, based on the string provided. Here is a list of all digits:\n",
    "#word(\"one\") ➞ 1\n",
    "#word(\"two\") ➞ 2\n",
    "#word(\"nine\") ➞ 9\n",
    "\n",
    "def word(x):\n",
    "    y=x.lower()\n",
    "    num={\"one\":1,\"two\":2,\"three\":3,\"four\":4,\"five\":5,\"six\":6,\"seven\":7,\"eight\":8,\"nine\":9,\"zero\":0}\n",
    "    return num[y]"
   ]
  },
  {
   "cell_type": "code",
   "execution_count": 72,
   "id": "cff0d426",
   "metadata": {},
   "outputs": [
    {
     "data": {
      "text/plain": [
       "1"
      ]
     },
     "execution_count": 72,
     "metadata": {},
     "output_type": "execute_result"
    }
   ],
   "source": [
    "word(\"one\")"
   ]
  },
  {
   "cell_type": "code",
   "execution_count": 73,
   "id": "269480f0",
   "metadata": {},
   "outputs": [],
   "source": [
    "#26 Create a function that takes a number x and a character y (\"m\" for male, \"f\" for female), and returns the \n",
    "#name of an ancestor (m/f) or descendant (m/f).\n",
    "#If the number is negative, return the related ancestor.\n",
    "#If positive, return the related descendant.\n",
    "#You are generation 0. In the case of 0 (male or female), return \"me!\".\n",
    "#Examples\n",
    "#generation(2, \"f\") ➞ \"granddaughter\"\n",
    "#generation(-3, \"m\") ➞ \"great grandfather\"\n",
    "#generation(1, \"f\") ➞ \"daughter\"\n",
    "\n",
    "def generation(n,s):\n",
    "    g=s.lower()\n",
    "    if g==\"m\":\n",
    "        if n==0:\n",
    "            return \"me\"\n",
    "        elif n==-1:\n",
    "            return \"father\"\n",
    "        elif n==-2:\n",
    "            return \"grandfather\"\n",
    "        elif n<-2:\n",
    "            return ((\"great \"*abs(n+2))+\"grandfather\")\n",
    "        elif n==1:\n",
    "            return \"son\"\n",
    "        elif n==2:\n",
    "            return \"grandson\"\n",
    "        elif n>2:\n",
    "            return ((\"great \"*(n-2))+\"grandson\")\n",
    "    else:\n",
    "        if n==0:\n",
    "            return \"me\"\n",
    "        elif n==-1:\n",
    "            return \"mother\"\n",
    "        elif n==-2:\n",
    "            return \"grandmother\"\n",
    "        elif n<-2:\n",
    "            return ((\"great \"*abs(n+2))+\"grandmother\")\n",
    "        elif n==1:\n",
    "            return \"daughter\"\n",
    "        elif n==2:\n",
    "            return \"granddaughter\"\n",
    "        elif n>2:\n",
    "            return ((\"great \"*(n-2))+\"granddaughter\")"
   ]
  },
  {
   "cell_type": "code",
   "execution_count": 74,
   "id": "c0de6138",
   "metadata": {},
   "outputs": [
    {
     "data": {
      "text/plain": [
       "'great grandmother'"
      ]
     },
     "execution_count": 74,
     "metadata": {},
     "output_type": "execute_result"
    }
   ],
   "source": [
    "generation(-3, \"f\")"
   ]
  },
  {
   "cell_type": "code",
   "execution_count": 75,
   "id": "fd16e6c2",
   "metadata": {},
   "outputs": [],
   "source": [
    "#27 Backpack Bill and Wallet Will set off for the annual festival. As they approach the stalls, Bill retorts that \n",
    "#he'll be able to bring home more stuff than Will. Taking this as a challenge, Will refutes and a competition \n",
    "#spurs into action.\n",
    "#Backpack Bill has an infinite inventory space, but a limited number of coins.\n",
    "#Wallet Will has an infinite number of coins, but a limited inventory space.\n",
    "#Create a function that returns the name of the man who can bring home the most items. The parameters are given\n",
    "#as follows:\n",
    "#Bill's amount of money.\n",
    "#Will's amount of inventory space.\n",
    "#The item's price.\n",
    "#The item's size.\n",
    "\n",
    "def who_wins_tonight(bmoney,winven,price,size):\n",
    "    bill=bmoney/price\n",
    "    will=winven/size\n",
    "    if bill>will:\n",
    "        return \"Bill!\"\n",
    "    elif will>bill:\n",
    "        return \"Will!\"\n",
    "    else:\n",
    "        return \"Tie\""
   ]
  },
  {
   "cell_type": "code",
   "execution_count": 76,
   "id": "2822eefb",
   "metadata": {},
   "outputs": [
    {
     "data": {
      "text/plain": [
       "'Bill!'"
      ]
     },
     "execution_count": 76,
     "metadata": {},
     "output_type": "execute_result"
    }
   ],
   "source": [
    "who_wins_tonight(20, 20, 5, 10)"
   ]
  },
  {
   "cell_type": "code",
   "execution_count": 77,
   "id": "69861130",
   "metadata": {},
   "outputs": [],
   "source": [
    "#28 Create a function that validates whether a number n is within the bounds of lower and upper. Return False\n",
    "#if n is not an integer.\n",
    "#Examples\n",
    "#int_within_bounds(3, 1, 9) ➞ True\n",
    "#int_within_bounds(6, 1, 6) ➞ False\n",
    "#int_within_bounds(4.5, 3, 8) ➞ False\n",
    "\n",
    "def int_within_bounds(n,lower,upper):\n",
    "    if type(n)==int:\n",
    "        return n>lower and n<upper\n",
    "    else:\n",
    "        return False"
   ]
  },
  {
   "cell_type": "code",
   "execution_count": 78,
   "id": "5ba201c7",
   "metadata": {},
   "outputs": [
    {
     "data": {
      "text/plain": [
       "True"
      ]
     },
     "execution_count": 78,
     "metadata": {},
     "output_type": "execute_result"
    }
   ],
   "source": [
    "int_within_bounds(3, 1, 9)"
   ]
  },
  {
   "cell_type": "code",
   "execution_count": 79,
   "id": "f9d88737",
   "metadata": {},
   "outputs": [
    {
     "data": {
      "text/plain": [
       "False"
      ]
     },
     "execution_count": 79,
     "metadata": {},
     "output_type": "execute_result"
    }
   ],
   "source": [
    "int_within_bounds(6, 1, 6)"
   ]
  },
  {
   "cell_type": "code",
   "execution_count": 80,
   "id": "7c80a485",
   "metadata": {},
   "outputs": [
    {
     "data": {
      "text/plain": [
       "False"
      ]
     },
     "execution_count": 80,
     "metadata": {},
     "output_type": "execute_result"
    }
   ],
   "source": [
    "int_within_bounds(4.5, 3, 8)"
   ]
  },
  {
   "cell_type": "code",
   "execution_count": 81,
   "id": "213e8cee",
   "metadata": {},
   "outputs": [],
   "source": [
    "#29 Write a function that returns the boolean True if the given number is zero, the string \"positive\" if the \n",
    "#number is greater than zero or the string \"negative\" if it's smaller than zero.\n",
    "\n",
    "def is_positive_or_negative(n):\n",
    "    if n>0:\n",
    "        return \"positive\"\n",
    "    elif n<0:\n",
    "        return \"negative\"\n",
    "    else:\n",
    "        return n==0"
   ]
  },
  {
   "cell_type": "code",
   "execution_count": 82,
   "id": "232729eb",
   "metadata": {},
   "outputs": [
    {
     "data": {
      "text/plain": [
       "True"
      ]
     },
     "execution_count": 82,
     "metadata": {},
     "output_type": "execute_result"
    }
   ],
   "source": [
    "is_positive_or_negative(0)"
   ]
  },
  {
   "cell_type": "code",
   "execution_count": 83,
   "id": "774dddb0",
   "metadata": {},
   "outputs": [
    {
     "data": {
      "text/plain": [
       "'positive'"
      ]
     },
     "execution_count": 83,
     "metadata": {},
     "output_type": "execute_result"
    }
   ],
   "source": [
    "is_positive_or_negative(2)"
   ]
  },
  {
   "cell_type": "code",
   "execution_count": 84,
   "id": "9223bbf0",
   "metadata": {},
   "outputs": [
    {
     "data": {
      "text/plain": [
       "'negative'"
      ]
     },
     "execution_count": 84,
     "metadata": {},
     "output_type": "execute_result"
    }
   ],
   "source": [
    "is_positive_or_negative(-9)"
   ]
  },
  {
   "cell_type": "code",
   "execution_count": 85,
   "id": "fdbee394",
   "metadata": {},
   "outputs": [],
   "source": [
    "#30 Create a function that takes three numbers as arguments and returns True if it's a triangle and False if not.\n",
    "\n",
    "def is_triangle(a,b,c):\n",
    "    return a+b>c or b+c>a or c+a>b"
   ]
  },
  {
   "cell_type": "code",
   "execution_count": 86,
   "id": "32193069",
   "metadata": {},
   "outputs": [
    {
     "data": {
      "text/plain": [
       "True"
      ]
     },
     "execution_count": 86,
     "metadata": {},
     "output_type": "execute_result"
    }
   ],
   "source": [
    "is_triangle(2, 3, 4)"
   ]
  },
  {
   "cell_type": "code",
   "execution_count": 87,
   "id": "540d9734",
   "metadata": {},
   "outputs": [],
   "source": [
    "#31 A \"truthy\" value is a value that translates to True when evaluated in a Boolean context. All values are truthy \n",
    "#unless they're defined as falsy.\n",
    "#All falsy values are as follows:\n",
    "#False, None, 0, [], {},\"\"\n",
    "#Create a function that takes an argument of any data type and returns 1 if it's truthy and 0 if it's falsy.\n",
    "\n",
    "def is_truthy(a):\n",
    "    if a==False or a==None or a==0 or a==[] or a=={} or a==\"\":\n",
    "        return False\n",
    "    else:\n",
    "        return True"
   ]
  },
  {
   "cell_type": "code",
   "execution_count": 88,
   "id": "f3e4e939",
   "metadata": {},
   "outputs": [
    {
     "data": {
      "text/plain": [
       "False"
      ]
     },
     "execution_count": 88,
     "metadata": {},
     "output_type": "execute_result"
    }
   ],
   "source": [
    "is_truthy(0)"
   ]
  },
  {
   "cell_type": "code",
   "execution_count": 89,
   "id": "2e1f61bb",
   "metadata": {},
   "outputs": [
    {
     "data": {
      "text/plain": [
       "False"
      ]
     },
     "execution_count": 89,
     "metadata": {},
     "output_type": "execute_result"
    }
   ],
   "source": [
    "is_truthy(False) "
   ]
  },
  {
   "cell_type": "code",
   "execution_count": 91,
   "id": "35f86377",
   "metadata": {},
   "outputs": [
    {
     "data": {
      "text/plain": [
       "True"
      ]
     },
     "execution_count": 91,
     "metadata": {},
     "output_type": "execute_result"
    }
   ],
   "source": [
    "is_truthy(lambda n:n)"
   ]
  },
  {
   "cell_type": "code",
   "execution_count": 92,
   "id": "7b185a19",
   "metadata": {},
   "outputs": [],
   "source": [
    "def istruthy(a):\n",
    "    return not(a==False or a==None or a==0 or a==[] or a=={} or a==\"\")"
   ]
  },
  {
   "cell_type": "code",
   "execution_count": 93,
   "id": "858b91f2",
   "metadata": {},
   "outputs": [
    {
     "data": {
      "text/plain": [
       "False"
      ]
     },
     "execution_count": 93,
     "metadata": {},
     "output_type": "execute_result"
    }
   ],
   "source": [
    "istruthy(\"\")"
   ]
  },
  {
   "cell_type": "code",
   "execution_count": 94,
   "id": "7bbfe084",
   "metadata": {},
   "outputs": [],
   "source": [
    "#32 Write a function that returns True if both numbers are:\n",
    "#Smaller than 0, OR ...\n",
    "#Greater than 0, OR ...\n",
    "#Exactly 0\n",
    "#Otherwise, return False.\n",
    "\n",
    "def both(a,b):\n",
    "    if (a==0 and b==0) or ((a*b)>0):\n",
    "        return True\n",
    "    else:\n",
    "        return False"
   ]
  },
  {
   "cell_type": "code",
   "execution_count": 95,
   "id": "dea8d91f",
   "metadata": {},
   "outputs": [
    {
     "data": {
      "text/plain": [
       "False"
      ]
     },
     "execution_count": 95,
     "metadata": {},
     "output_type": "execute_result"
    }
   ],
   "source": [
    "both(-1, 2) "
   ]
  },
  {
   "cell_type": "code",
   "execution_count": 96,
   "id": "3f000255",
   "metadata": {},
   "outputs": [],
   "source": [
    "def Both(a,b):\n",
    "    return ((a==0 and b==0) or ((a*b)>0))"
   ]
  },
  {
   "cell_type": "code",
   "execution_count": 97,
   "id": "09d02a76",
   "metadata": {},
   "outputs": [
    {
     "data": {
      "text/plain": [
       "True"
      ]
     },
     "execution_count": 97,
     "metadata": {},
     "output_type": "execute_result"
    }
   ],
   "source": [
    "both(-1,-2) "
   ]
  },
  {
   "cell_type": "code",
   "execution_count": 98,
   "id": "8720e239",
   "metadata": {},
   "outputs": [],
   "source": [
    "#33 Create a function that takes a list. This list will contain numbers represented as strings.Your function should\n",
    "#split this list into two new lists. The first list should contain only even numbers. The second only odd. Then, \n",
    "#wrap these two lists in one main list and return it.Return an empty list if there are no even numbers, or odd.\n",
    "\n",
    "def clean_up_list(a):\n",
    "    eve=[];odd=[];lst=[]\n",
    "    for x in a:\n",
    "        y=int(x)\n",
    "        if y%2==0:\n",
    "            eve.append(y)\n",
    "        else:\n",
    "            odd.append(y)\n",
    "    lst.append(eve)\n",
    "    lst.append(odd)\n",
    "    return lst"
   ]
  },
  {
   "cell_type": "code",
   "execution_count": 99,
   "id": "9315456c",
   "metadata": {},
   "outputs": [
    {
     "data": {
      "text/plain": [
       "[[8], []]"
      ]
     },
     "execution_count": 99,
     "metadata": {},
     "output_type": "execute_result"
    }
   ],
   "source": [
    "clean_up_list([\"8\"])"
   ]
  },
  {
   "cell_type": "code",
   "execution_count": 100,
   "id": "83ef4178",
   "metadata": {},
   "outputs": [
    {
     "data": {
      "text/plain": [
       "[[], [11]]"
      ]
     },
     "execution_count": 100,
     "metadata": {},
     "output_type": "execute_result"
    }
   ],
   "source": [
    "clean_up_list([\"11\"])"
   ]
  },
  {
   "cell_type": "code",
   "execution_count": 101,
   "id": "dca16f5f",
   "metadata": {},
   "outputs": [
    {
     "data": {
      "text/plain": [
       "[[4, 8], [9, 5]]"
      ]
     },
     "execution_count": 101,
     "metadata": {},
     "output_type": "execute_result"
    }
   ],
   "source": [
    "clean_up_list([\"9\", \"4\", \"5\", \"8\"])"
   ]
  },
  {
   "cell_type": "code",
   "execution_count": 102,
   "id": "643a06e9",
   "metadata": {},
   "outputs": [],
   "source": [
    "#34 When creating variables, the variable name must always start with a letter and cannot contain spaces, though \n",
    "#numbers and underscores are allowed to be contained in it also.\n",
    "#Create a function which returns True if a given variable name is valid, otherwise return False.\n",
    "\n",
    "def variable_valid(var):\n",
    "    if var[0].isalpha() and var==var.split()[0]:\n",
    "        return True\n",
    "    else:\n",
    "        return False"
   ]
  },
  {
   "cell_type": "code",
   "execution_count": 103,
   "id": "e10c5e4c",
   "metadata": {},
   "outputs": [
    {
     "data": {
      "text/plain": [
       "False"
      ]
     },
     "execution_count": 103,
     "metadata": {},
     "output_type": "execute_result"
    }
   ],
   "source": [
    "variable_valid(\"odd nums\")"
   ]
  },
  {
   "cell_type": "code",
   "execution_count": 104,
   "id": "b4b67402",
   "metadata": {},
   "outputs": [],
   "source": [
    "#35 In a board game, a piece may advance 1-6 tiles forward depending on the number rolled on a six-sided die. \n",
    "#If you advance your piece onto the same tile as another player's piece, both of you earn a bonus.Can you reach \n",
    "#your friend's tile number in the next roll? Create a function that returns if it's possible to earn a bonus when \n",
    "#you roll the die.\n",
    "\n",
    "def possible_bonus(a,b):\n",
    "    if a<b and b-a<=6:\n",
    "        return True\n",
    "    else:\n",
    "        return False"
   ]
  },
  {
   "cell_type": "code",
   "execution_count": 105,
   "id": "23b5f590",
   "metadata": {},
   "outputs": [
    {
     "data": {
      "text/plain": [
       "True"
      ]
     },
     "execution_count": 105,
     "metadata": {},
     "output_type": "execute_result"
    }
   ],
   "source": [
    "possible_bonus(3, 7)"
   ]
  },
  {
   "cell_type": "code",
   "execution_count": 106,
   "id": "e474eafe",
   "metadata": {},
   "outputs": [
    {
     "data": {
      "text/plain": [
       "False"
      ]
     },
     "execution_count": 106,
     "metadata": {},
     "output_type": "execute_result"
    }
   ],
   "source": [
    "possible_bonus(1, 9)"
   ]
  },
  {
   "cell_type": "code",
   "execution_count": 107,
   "id": "678fda8b",
   "metadata": {},
   "outputs": [
    {
     "data": {
      "text/plain": [
       "False"
      ]
     },
     "execution_count": 107,
     "metadata": {},
     "output_type": "execute_result"
    }
   ],
   "source": [
    "possible_bonus(5, 3)"
   ]
  },
  {
   "cell_type": "code",
   "execution_count": 108,
   "id": "03f2b0c6",
   "metadata": {},
   "outputs": [],
   "source": [
    "#36 Create a function that takes two integers and checks if they are equal.\n",
    "\n",
    "def is_equal(a,b):\n",
    "    return a==b"
   ]
  },
  {
   "cell_type": "code",
   "execution_count": 109,
   "id": "50b4a09c",
   "metadata": {},
   "outputs": [
    {
     "data": {
      "text/plain": [
       "False"
      ]
     },
     "execution_count": 109,
     "metadata": {},
     "output_type": "execute_result"
    }
   ],
   "source": [
    "is_equal(\"1\", 1)"
   ]
  },
  {
   "cell_type": "code",
   "execution_count": 110,
   "id": "c8998e8c",
   "metadata": {},
   "outputs": [],
   "source": [
    "#37 Write a function that takes a string name and a number num (either 0 or 1) and return \"Hello\" + name if num\n",
    "#is 1, otherwise return \"Bye\" + name.\n",
    "\n",
    "def say_hello_bye(name,num):\n",
    "    if num==0:\n",
    "        return (\"Bye \"+name)\n",
    "    else:\n",
    "        return (\"Hello \"+name)"
   ]
  },
  {
   "cell_type": "code",
   "execution_count": 111,
   "id": "ae655639",
   "metadata": {},
   "outputs": [
    {
     "data": {
      "text/plain": [
       "'Hello alon'"
      ]
     },
     "execution_count": 111,
     "metadata": {},
     "output_type": "execute_result"
    }
   ],
   "source": [
    "say_hello_bye(\"alon\", 1)"
   ]
  },
  {
   "cell_type": "code",
   "execution_count": 112,
   "id": "db04f66d",
   "metadata": {},
   "outputs": [],
   "source": [
    "#38 Create a function that takes three number arguments — one number as an input and two additional numbers \n",
    "#representing the endpoints of a closed range — and return the number limited to this range.\n",
    "#If the number falls within the range, the number should be returned.\n",
    "#If the number is less than the lower limit of the range, the lower limit should be returned.\n",
    "#If the number is greater than the upper limit of the range, the upper limit should be returned.\n",
    "\n",
    "def limit_number(a,l,u):\n",
    "    if a>l and a<u:\n",
    "        return a\n",
    "    elif a<l:\n",
    "        return l\n",
    "    else:\n",
    "        return u"
   ]
  },
  {
   "cell_type": "code",
   "execution_count": 113,
   "id": "52980395",
   "metadata": {},
   "outputs": [
    {
     "data": {
      "text/plain": [
       "5"
      ]
     },
     "execution_count": 113,
     "metadata": {},
     "output_type": "execute_result"
    }
   ],
   "source": [
    "limit_number(5, 1, 10)"
   ]
  },
  {
   "cell_type": "code",
   "execution_count": 114,
   "id": "cf07297f",
   "metadata": {},
   "outputs": [
    {
     "data": {
      "text/plain": [
       "1"
      ]
     },
     "execution_count": 114,
     "metadata": {},
     "output_type": "execute_result"
    }
   ],
   "source": [
    "limit_number(-3, 1, 10)"
   ]
  },
  {
   "cell_type": "code",
   "execution_count": 115,
   "id": "20597006",
   "metadata": {},
   "outputs": [
    {
     "data": {
      "text/plain": [
       "10"
      ]
     },
     "execution_count": 115,
     "metadata": {},
     "output_type": "execute_result"
    }
   ],
   "source": [
    "limit_number(14, 1, 10)"
   ]
  },
  {
   "cell_type": "code",
   "execution_count": 116,
   "id": "cc2c4151",
   "metadata": {},
   "outputs": [
    {
     "data": {
      "text/plain": [
       "4.6"
      ]
     },
     "execution_count": 116,
     "metadata": {},
     "output_type": "execute_result"
    }
   ],
   "source": [
    "limit_number(4.6, 1, 10)"
   ]
  },
  {
   "cell_type": "code",
   "execution_count": 117,
   "id": "4d2f44c4",
   "metadata": {},
   "outputs": [],
   "source": [
    "#39 Write a function that takes an integer and:\n",
    "#If the number is a multiple of 3, return \"Hello\".\n",
    "#If the number is a multiple of 5, return \"World\".\n",
    "#If the number is a multiple of both 3 and 5, return \"Hello World\".\n",
    "\n",
    "def hello_world(x):\n",
    "    if x%3==0 and x%5==0:\n",
    "        return \"Hello World\"\n",
    "    elif x%3==0:\n",
    "        return \"Hello\"\n",
    "    elif x%5==0:\n",
    "        return \"World\"\n",
    "    else:\n",
    "        return None"
   ]
  },
  {
   "cell_type": "code",
   "execution_count": 118,
   "id": "9aa5e578",
   "metadata": {},
   "outputs": [
    {
     "data": {
      "text/plain": [
       "'Hello'"
      ]
     },
     "execution_count": 118,
     "metadata": {},
     "output_type": "execute_result"
    }
   ],
   "source": [
    "hello_world(3) "
   ]
  },
  {
   "cell_type": "code",
   "execution_count": 119,
   "id": "ca79b682",
   "metadata": {},
   "outputs": [
    {
     "data": {
      "text/plain": [
       "'World'"
      ]
     },
     "execution_count": 119,
     "metadata": {},
     "output_type": "execute_result"
    }
   ],
   "source": [
    "hello_world(5) "
   ]
  },
  {
   "cell_type": "code",
   "execution_count": 120,
   "id": "4e4c069b",
   "metadata": {},
   "outputs": [
    {
     "data": {
      "text/plain": [
       "'Hello World'"
      ]
     },
     "execution_count": 120,
     "metadata": {},
     "output_type": "execute_result"
    }
   ],
   "source": [
    "hello_world(15)"
   ]
  },
  {
   "cell_type": "code",
   "execution_count": 121,
   "id": "bd564aaf",
   "metadata": {},
   "outputs": [],
   "source": [
    "#40 Given a string and a style character, return the newly formatted string. Style characters are single letters \n",
    "#that represent the different types of formatting.\n",
    "#For the purposes of this challenge, the style characters are as follows:\n",
    "#\"b\" is for bold\n",
    "#\"i\" is for italics\n",
    "#\"c\" is for inline code\n",
    "#\"s\" is for strikethrough\n",
    "\n",
    "def md_format(s,form):\n",
    "    f=form.lower()\n",
    "    if f==\"b\":\n",
    "        return \"**\"+s+\"**\"\n",
    "    elif f==\"i\":\n",
    "        return \"_\"+s+\"_\"\n",
    "    elif f==\"c\":\n",
    "        return \"`\"+s+\"`\"\n",
    "    elif f==\"s\":\n",
    "        return \"~\"+s+\"~\"\n",
    "    else:\n",
    "        return None"
   ]
  },
  {
   "cell_type": "code",
   "execution_count": 122,
   "id": "2f45558b",
   "metadata": {},
   "outputs": [
    {
     "data": {
      "text/plain": [
       "'**Bold**'"
      ]
     },
     "execution_count": 122,
     "metadata": {},
     "output_type": "execute_result"
    }
   ],
   "source": [
    "md_format(\"Bold\", \"b\")"
   ]
  },
  {
   "cell_type": "code",
   "execution_count": 123,
   "id": "32e6d754",
   "metadata": {},
   "outputs": [],
   "source": [
    "#41 Darts is a target game played by throwing feathered darts at a circular board with numbered spaces. \n",
    "#Our darts game is the simplest of all games. The score of a single turn is calculated based on the distance \n",
    "#from the middle. You need to create a function that takes the dart location as two cartesian coordinates (x, y)\n",
    "#and returns a score based on the distance from the middle, aka Bullseye (x=0, y=0).\n",
    "#Bullseye and inner circle scores = 10 points\n",
    "#Middle ring scores = 5 points\n",
    "#Outer ring scores = 1 point\n",
    "#Outside the target = 0 points\n",
    "#We play it simple so a dart in the double or treble ring counts as usual and does not affect the segment score.\n",
    "#Board and circle radius is as follows:\n",
    "#Board radius and outer circle radius = 10 units\n",
    "#Middle circle radius = 5 units\n",
    "#Inner circle radius = 1 unit\n",
    "\n",
    "def darts(x,y):\n",
    "    r=((x**2)+(y**2))**2\n",
    "    if r<=1:\n",
    "        p=10\n",
    "    elif r>1 and r<=5:\n",
    "        p=5\n",
    "    elif r>5 and r<=10:\n",
    "        p=1\n",
    "    else:\n",
    "        p=0\n",
    "    return p"
   ]
  },
  {
   "cell_type": "code",
   "execution_count": 124,
   "id": "01e47bec",
   "metadata": {},
   "outputs": [
    {
     "data": {
      "text/plain": [
       "10"
      ]
     },
     "execution_count": 124,
     "metadata": {},
     "output_type": "execute_result"
    }
   ],
   "source": [
    "darts(0, -0.8)"
   ]
  },
  {
   "cell_type": "code",
   "execution_count": 125,
   "id": "d8261ae6",
   "metadata": {},
   "outputs": [],
   "source": [
    "#42 Write a function that returns True if a year is a leap, otherwise return False.A year is a \"leap year\" if it \n",
    "#lasts 366 days, instead of 365 in a typical year. That extra day is added to the end of the shortest month, \n",
    "#creating February 29.A leap year occurs every four years, and will take place if the year is a multiple of four.\n",
    "#The exception to this is a year at the beginning of a century (for example, 1900 or 2000), where the year must\n",
    "#be divisible by 400 to be a leap year.Look at the examples, and if you need help, look at the resources panel.\n",
    "\n",
    "def leap_year(y):\n",
    "    if y%4==0:\n",
    "        return True\n",
    "    else:\n",
    "        return False"
   ]
  },
  {
   "cell_type": "code",
   "execution_count": 126,
   "id": "bb1540ed",
   "metadata": {},
   "outputs": [
    {
     "data": {
      "text/plain": [
       "False"
      ]
     },
     "execution_count": 126,
     "metadata": {},
     "output_type": "execute_result"
    }
   ],
   "source": [
    "leap_year(1990)"
   ]
  },
  {
   "cell_type": "code",
   "execution_count": 127,
   "id": "de63caef",
   "metadata": {},
   "outputs": [],
   "source": [
    "#43 Given a pH value, return whether that value is \"alkaline\" (greater than 7), \"acidic\" (less than 7), or\n",
    "#\"neutral\" (7). Return \"invalid\" if the value given is less than 0 or greater than 14.\n",
    "\n",
    "def PH_name(n):\n",
    "    if n>7:\n",
    "        return \"Basic\"\n",
    "    elif n<7:\n",
    "        return \"Acidic\"\n",
    "    else:\n",
    "        return \"Neutral\""
   ]
  },
  {
   "cell_type": "code",
   "execution_count": 128,
   "id": "49a67799",
   "metadata": {},
   "outputs": [
    {
     "data": {
      "text/plain": [
       "'Basic'"
      ]
     },
     "execution_count": 128,
     "metadata": {},
     "output_type": "execute_result"
    }
   ],
   "source": [
    "PH_name(8)"
   ]
  },
  {
   "cell_type": "code",
   "execution_count": 129,
   "id": "5fd1647d",
   "metadata": {},
   "outputs": [],
   "source": [
    "#44 Create a function that takes an array of hurdle heights and a jumper's jump height, and determine \n",
    "# whether or not the hurdler can clear all the hurdles.A hurdler can clear a hurdle if their \n",
    "# jump height is greater than or equal to the hurdle height.\n",
    "#Examples\n",
    "#hurdle_jump([1, 2, 3, 4, 5], 5) ➞ True \n",
    "#hurdle_jump([5, 5, 3, 4, 5], 3) ➞ False \n",
    "#hurdle_jump([5, 4, 5, 6], 10) ➞ True \n",
    "#hurdle_jump([1, 2, 1], 1) ➞ False\n",
    "\n",
    "\n",
    "\n",
    "def hurdle_jump(hurdle_heights,jump_heights):\n",
    "    t=0;\n",
    "    for x in hurdle_heights:\n",
    "        if x<=jump_heights:\n",
    "            t+=1 \n",
    "        else:\n",
    "             continue\n",
    "    if t==len(hurdle_heights):\n",
    "        return True\n",
    "    else:\n",
    "        return False"
   ]
  },
  {
   "cell_type": "code",
   "execution_count": 130,
   "id": "6ce50c42",
   "metadata": {},
   "outputs": [
    {
     "data": {
      "text/plain": [
       "True"
      ]
     },
     "execution_count": 130,
     "metadata": {},
     "output_type": "execute_result"
    }
   ],
   "source": [
    "hurdle_jump([1, 2, 3, 4, 5], 5)"
   ]
  },
  {
   "cell_type": "code",
   "execution_count": 131,
   "id": "a5195f5e",
   "metadata": {},
   "outputs": [],
   "source": [
    "#45 Create a function which returns the type of triangle, given the side lengths. Return the following values if \n",
    "#they match the criteria.\n",
    "#No sides equal: \"scalene\"\n",
    "#Two sides equal: \"isosceles\"\n",
    "#All sides equal: \"equilateral\"\n",
    "#Less or more than 3 sides given: \"not a triangle\"\n",
    "    \n",
    "def get_triangle_type(l):\n",
    "    if len(l)==3:\n",
    "        if l[0]==l[1] and l[1]==l[2]:\n",
    "            return \"equilateral\"\n",
    "        elif l[0]==l[1] or l[1]==l[2] or l[2]==l[0]:\n",
    "            return \"isosceles\"\n",
    "        else:\n",
    "            return \"scalene\"\n",
    "    else:\n",
    "        return \"not a triangle\""
   ]
  },
  {
   "cell_type": "code",
   "execution_count": 132,
   "id": "082aff6e",
   "metadata": {},
   "outputs": [
    {
     "data": {
      "text/plain": [
       "'scalene'"
      ]
     },
     "execution_count": 132,
     "metadata": {},
     "output_type": "execute_result"
    }
   ],
   "source": [
    "get_triangle_type([2, 6, 5])"
   ]
  },
  {
   "cell_type": "code",
   "execution_count": 133,
   "id": "1f59add9",
   "metadata": {},
   "outputs": [
    {
     "data": {
      "text/plain": [
       "'isosceles'"
      ]
     },
     "execution_count": 133,
     "metadata": {},
     "output_type": "execute_result"
    }
   ],
   "source": [
    "get_triangle_type([4, 4, 7])"
   ]
  },
  {
   "cell_type": "code",
   "execution_count": 134,
   "id": "b91abc34",
   "metadata": {},
   "outputs": [
    {
     "data": {
      "text/plain": [
       "'equilateral'"
      ]
     },
     "execution_count": 134,
     "metadata": {},
     "output_type": "execute_result"
    }
   ],
   "source": [
    "get_triangle_type([8, 8, 8])"
   ]
  },
  {
   "cell_type": "code",
   "execution_count": 135,
   "id": "10ae83bf",
   "metadata": {},
   "outputs": [
    {
     "data": {
      "text/plain": [
       "'not a triangle'"
      ]
     },
     "execution_count": 135,
     "metadata": {},
     "output_type": "execute_result"
    }
   ],
   "source": [
    "get_triangle_type([3, 5, 5, 2])"
   ]
  },
  {
   "cell_type": "code",
   "execution_count": 136,
   "id": "ce837911",
   "metadata": {},
   "outputs": [],
   "source": [
    "#46 Write a function that returns True if two rooks can attack each other, and False otherwise.\n",
    "\n",
    "def can_capture(lst):\n",
    "    if lst[0][0]==lst[1][0]:\n",
    "        return True\n",
    "    elif lst[0][1]==lst[1][1]:\n",
    "        return True\n",
    "    else:\n",
    "        return False"
   ]
  },
  {
   "cell_type": "code",
   "execution_count": 137,
   "id": "3226e6c0",
   "metadata": {},
   "outputs": [
    {
     "data": {
      "text/plain": [
       "True"
      ]
     },
     "execution_count": 137,
     "metadata": {},
     "output_type": "execute_result"
    }
   ],
   "source": [
    "can_capture([\"A8\", \"E8\"])"
   ]
  },
  {
   "cell_type": "code",
   "execution_count": 138,
   "id": "e8a9d3a4",
   "metadata": {},
   "outputs": [
    {
     "data": {
      "text/plain": [
       "False"
      ]
     },
     "execution_count": 138,
     "metadata": {},
     "output_type": "execute_result"
    }
   ],
   "source": [
    "can_capture([\"A1\", \"B2\"])"
   ]
  },
  {
   "cell_type": "code",
   "execution_count": 140,
   "id": "8b01c128",
   "metadata": {},
   "outputs": [],
   "source": [
    "#47 Given an integer n. Your task is to find how many digits this integer contains without using str or len methods\n",
    "\n",
    "def sum_digits(n):\n",
    "    d=0\n",
    "    while n>=1:\n",
    "        d+=1\n",
    "        n/=10\n",
    "    return d"
   ]
  },
  {
   "cell_type": "code",
   "execution_count": 141,
   "id": "c8d883c7",
   "metadata": {},
   "outputs": [
    {
     "data": {
      "text/plain": [
       "3"
      ]
     },
     "execution_count": 141,
     "metadata": {},
     "output_type": "execute_result"
    }
   ],
   "source": [
    "sum_digits(100)"
   ]
  },
  {
   "cell_type": "code",
   "execution_count": 142,
   "id": "50fa890f",
   "metadata": {},
   "outputs": [
    {
     "data": {
      "text/plain": [
       "4"
      ]
     },
     "execution_count": 142,
     "metadata": {},
     "output_type": "execute_result"
    }
   ],
   "source": [
    "sum_digits(1000)"
   ]
  },
  {
   "cell_type": "code",
   "execution_count": 143,
   "id": "54a24d6e",
   "metadata": {},
   "outputs": [
    {
     "data": {
      "text/plain": [
       "1"
      ]
     },
     "execution_count": 143,
     "metadata": {},
     "output_type": "execute_result"
    }
   ],
   "source": [
    "sum_digits(1)"
   ]
  },
  {
   "cell_type": "code",
   "execution_count": 144,
   "id": "728d4618",
   "metadata": {},
   "outputs": [],
   "source": [
    "#48 Create a function that takes in a two-dimensional list and returns the number of sub-lists with only \n",
    "#identical elements.\n",
    "\n",
    "def count_identical(lst):\n",
    "    l=0\n",
    "    for x in lst:\n",
    "        if len(x)==1:\n",
    "            l+=1\n",
    "        else:\n",
    "            a=x[0];b=0\n",
    "            for y in range(1,len(x)):\n",
    "                if a==x[y]:\n",
    "                    b+=1\n",
    "            if b>=1:\n",
    "                l+=1\n",
    "    return l"
   ]
  },
  {
   "cell_type": "code",
   "execution_count": 145,
   "id": "0c5fbc88",
   "metadata": {},
   "outputs": [
    {
     "data": {
      "text/plain": [
       "4"
      ]
     },
     "execution_count": 145,
     "metadata": {},
     "output_type": "execute_result"
    }
   ],
   "source": [
    "count_identical([[33, 33],[5],[\"a\", \"a\"],[2, 2, 2],[1, 2, 2],[3, 1]])"
   ]
  },
  {
   "cell_type": "code",
   "execution_count": 146,
   "id": "ea6526bc",
   "metadata": {},
   "outputs": [],
   "source": [
    "#49 Create a function that takes a number (from 1 to 12) and returns its corresponding month name as a string. \n",
    "#For example, if you're given 3 as input, your function should return \"March\", because March is the 3rd month.\n",
    "\n",
    "def month_name(num):\n",
    "    year={1:\"January\",2:\"February\",3:\"March\",4:\"April\",5:\"May\",6:\"June\",7:\"July\",8:\"August\",9:\"September\",\\\n",
    "          10:\"October\",11:\"November\",12:\"December\"}\n",
    "    for x in year.keys():\n",
    "        if x==num:\n",
    "            month=year[x]\n",
    "        else:\n",
    "            continue\n",
    "    return month"
   ]
  },
  {
   "cell_type": "code",
   "execution_count": 147,
   "id": "e5472b11",
   "metadata": {},
   "outputs": [
    {
     "data": {
      "text/plain": [
       "'June'"
      ]
     },
     "execution_count": 147,
     "metadata": {},
     "output_type": "execute_result"
    }
   ],
   "source": [
    "month_name(6)"
   ]
  },
  {
   "cell_type": "code",
   "execution_count": 148,
   "id": "5d49c675",
   "metadata": {},
   "outputs": [],
   "source": [
    "#50 Create a function that takes an initial word and extracts any words that start with the same letters as\n",
    "#the initial word.\n",
    "\n",
    "def dictionary(s,lst):\n",
    "    l=[]\n",
    "    for x in lst:\n",
    "        if x.startswith(s):\n",
    "            l.append(x)\n",
    "        else:\n",
    "            continue\n",
    "    return l"
   ]
  },
  {
   "cell_type": "code",
   "execution_count": 149,
   "id": "d3e82767",
   "metadata": {},
   "outputs": [
    {
     "data": {
      "text/plain": [
       "['button']"
      ]
     },
     "execution_count": 149,
     "metadata": {},
     "output_type": "execute_result"
    }
   ],
   "source": [
    "dictionary(\"bu\", [\"button\", \"breakfast\", \"border\"])"
   ]
  },
  {
   "cell_type": "code",
   "execution_count": 150,
   "id": "32b1ffce",
   "metadata": {},
   "outputs": [
    {
     "data": {
      "text/plain": [
       "[]"
      ]
     },
     "execution_count": 150,
     "metadata": {},
     "output_type": "execute_result"
    }
   ],
   "source": [
    "dictionary(\"beau\", [\"pastry\", \"delicious\", \"name\", \"boring\"])"
   ]
  },
  {
   "cell_type": "code",
   "execution_count": 151,
   "id": "f068bdbf",
   "metadata": {},
   "outputs": [
    {
     "data": {
      "text/plain": [
       "['triplet', 'tries', 'trip']"
      ]
     },
     "execution_count": 151,
     "metadata": {},
     "output_type": "execute_result"
    }
   ],
   "source": [
    "dictionary(\"tri\", [\"triplet\", \"tries\", \"trip\", \"piano\", \"tree\"])"
   ]
  },
  {
   "cell_type": "code",
   "execution_count": 152,
   "id": "b601737f",
   "metadata": {},
   "outputs": [],
   "source": [
    "#51 Create a function that takes a list of strings and returns the words that are exactly four letters.\n",
    "\n",
    "def is_four_letters(lst):\n",
    "    l=[]\n",
    "    for x in lst:\n",
    "        if len(x)==4:\n",
    "            l.append(x)\n",
    "        else:\n",
    "            continue\n",
    "    return l"
   ]
  },
  {
   "cell_type": "code",
   "execution_count": 153,
   "id": "ec734029",
   "metadata": {},
   "outputs": [
    {
     "data": {
      "text/plain": [
       "['Pair']"
      ]
     },
     "execution_count": 153,
     "metadata": {},
     "output_type": "execute_result"
    }
   ],
   "source": [
    "is_four_letters([\"Tomato\", \"Potato\", \"Pair\"]) "
   ]
  },
  {
   "cell_type": "code",
   "execution_count": 154,
   "id": "a8128122",
   "metadata": {},
   "outputs": [
    {
     "data": {
      "text/plain": [
       "['Bear']"
      ]
     },
     "execution_count": 154,
     "metadata": {},
     "output_type": "execute_result"
    }
   ],
   "source": [
    "is_four_letters([\"Kangaroo\", \"Bear\", \"Fox\"])"
   ]
  },
  {
   "cell_type": "code",
   "execution_count": 155,
   "id": "a428c99b",
   "metadata": {},
   "outputs": [
    {
     "data": {
      "text/plain": [
       "['Ryan', 'Matt']"
      ]
     },
     "execution_count": 155,
     "metadata": {},
     "output_type": "execute_result"
    }
   ],
   "source": [
    "is_four_letters([\"Ryan\", \"Kieran\", \"Jason\", \"Matt\"]) "
   ]
  },
  {
   "cell_type": "code",
   "execution_count": 156,
   "id": "c1076d65",
   "metadata": {},
   "outputs": [],
   "source": [
    "#52 Create a function that takes a year as an argument and returns the corresponding Chinese zodiac.\n",
    "\n",
    "def chinese_zodiac(y):\n",
    "    if y%12==1:\n",
    "        return \"Rooster\"\n",
    "    elif y%12==2:\n",
    "        return \"Dog\"\n",
    "    elif y%12==3:\n",
    "        return \"Pig\"\n",
    "    elif y%12==4:\n",
    "        return \"Rat\"\n",
    "    elif y%12==5:\n",
    "        return \"Ox\"\n",
    "    elif y%12==6:\n",
    "        return \"Tiger\"\n",
    "    elif y%12==7:\n",
    "        return \"Rabbit\"\n",
    "    elif y%12==8:\n",
    "        return \"Dragon\"\n",
    "    elif y%12==9:\n",
    "        return \"Snake\"\n",
    "    elif y%12==10:\n",
    "        return \"Horse\"\n",
    "    elif y%12==11:\n",
    "        return \"Sheep\"\n",
    "    else:\n",
    "        return \"Monkey\""
   ]
  },
  {
   "cell_type": "code",
   "execution_count": 157,
   "id": "fbb6823c",
   "metadata": {},
   "outputs": [
    {
     "data": {
      "text/plain": [
       "'Ox'"
      ]
     },
     "execution_count": 157,
     "metadata": {},
     "output_type": "execute_result"
    }
   ],
   "source": [
    "chinese_zodiac(1997)"
   ]
  },
  {
   "cell_type": "code",
   "execution_count": 158,
   "id": "bffdede3",
   "metadata": {},
   "outputs": [],
   "source": [
    "#53 Create a function that determines if the temp of the water is considered boiling or not. temp will be measured\n",
    "#in Fahrenheit and Celsius.\n",
    "\n",
    "def is_boiling(temp):\n",
    "    if temp.endswith(\"F\"):\n",
    "        return int(temp[:len(temp)-1])>=212\n",
    "    elif temp.endswith(\"C\"):\n",
    "        return int(temp[:len(temp)-1])>=100\n",
    "    else:\n",
    "        return \"none\""
   ]
  },
  {
   "cell_type": "code",
   "execution_count": 159,
   "id": "bb9b5c8f",
   "metadata": {},
   "outputs": [
    {
     "data": {
      "text/plain": [
       "True"
      ]
     },
     "execution_count": 159,
     "metadata": {},
     "output_type": "execute_result"
    }
   ],
   "source": [
    "is_boiling(\"212F\")"
   ]
  },
  {
   "cell_type": "code",
   "execution_count": 160,
   "id": "db1dbcdd",
   "metadata": {},
   "outputs": [
    {
     "data": {
      "text/plain": [
       "True"
      ]
     },
     "execution_count": 160,
     "metadata": {},
     "output_type": "execute_result"
    }
   ],
   "source": [
    "is_boiling(\"100C\") "
   ]
  },
  {
   "cell_type": "code",
   "execution_count": 161,
   "id": "ecddeb54",
   "metadata": {},
   "outputs": [
    {
     "data": {
      "text/plain": [
       "False"
      ]
     },
     "execution_count": 161,
     "metadata": {},
     "output_type": "execute_result"
    }
   ],
   "source": [
    "is_boiling(\"0F\")"
   ]
  },
  {
   "cell_type": "code",
   "execution_count": 162,
   "id": "0541637c",
   "metadata": {},
   "outputs": [],
   "source": [
    "#54 Create a function that takes two arguments of a list of numbers lst and a constant number n and returns the\n",
    "#n largest numbers from the given list.\n",
    "\n",
    "def largest_numbers(n,lst):\n",
    "    lst.sort(reverse=True)\n",
    "    l=[]\n",
    "    for x in range(n):\n",
    "        l.append(lst[x])\n",
    "    return l"
   ]
  },
  {
   "cell_type": "code",
   "execution_count": 163,
   "id": "70f2eec7",
   "metadata": {},
   "outputs": [
    {
     "data": {
      "text/plain": [
       "[4, 3]"
      ]
     },
     "execution_count": 163,
     "metadata": {},
     "output_type": "execute_result"
    }
   ],
   "source": [
    "largest_numbers(2, [4, 3, 2, 1])"
   ]
  },
  {
   "cell_type": "code",
   "execution_count": 164,
   "id": "652ff7a0",
   "metadata": {},
   "outputs": [
    {
     "data": {
      "text/plain": [
       "[19]"
      ]
     },
     "execution_count": 164,
     "metadata": {},
     "output_type": "execute_result"
    }
   ],
   "source": [
    "largest_numbers(1, [7, 19, 4, 2])"
   ]
  },
  {
   "cell_type": "code",
   "execution_count": 165,
   "id": "eabe7735",
   "metadata": {},
   "outputs": [
    {
     "data": {
      "text/plain": [
       "[]"
      ]
     },
     "execution_count": 165,
     "metadata": {},
     "output_type": "execute_result"
    }
   ],
   "source": [
    "largest_numbers(0, [1, 3, 4, 2])"
   ]
  },
  {
   "cell_type": "code",
   "execution_count": 166,
   "id": "5235b7a1",
   "metadata": {},
   "outputs": [],
   "source": [
    "#55 Create a function that takes a range object r,index i,and returns a list where the first element is the number\n",
    "#of elements in the range object, and the second element is the element of the range object at the given index.\n",
    "\n",
    "def length_element(r,i):\n",
    "    l=[]\n",
    "    l.append(len(r))\n",
    "    l.append(r[i])\n",
    "    return l"
   ]
  },
  {
   "cell_type": "code",
   "execution_count": 167,
   "id": "b6644c6c",
   "metadata": {},
   "outputs": [
    {
     "data": {
      "text/plain": [
       "[2, 2]"
      ]
     },
     "execution_count": 167,
     "metadata": {},
     "output_type": "execute_result"
    }
   ],
   "source": [
    "length_element(range(2, 4), 0)"
   ]
  },
  {
   "cell_type": "code",
   "execution_count": 168,
   "id": "f604676a",
   "metadata": {},
   "outputs": [
    {
     "data": {
      "text/plain": [
       "[2, 14]"
      ]
     },
     "execution_count": 168,
     "metadata": {},
     "output_type": "execute_result"
    }
   ],
   "source": [
    "length_element(range(12, 15, 2), 1)"
   ]
  },
  {
   "cell_type": "code",
   "execution_count": 169,
   "id": "7f7f9d16",
   "metadata": {},
   "outputs": [
    {
     "data": {
      "text/plain": [
       "[4, 46]"
      ]
     },
     "execution_count": 169,
     "metadata": {},
     "output_type": "execute_result"
    }
   ],
   "source": [
    "length_element(range(40, 50, 3), 2)"
   ]
  },
  {
   "cell_type": "code",
   "execution_count": 170,
   "id": "3678a61a",
   "metadata": {},
   "outputs": [],
   "source": [
    "#56 Two sisters are eating chocolate, whose pieces are represented as subarrays of [l x w].\n",
    "#Write a function that returns True if the total area of chocolate is the same for each sister.\n",
    "\n",
    "def test_fairness(agatha,bertha):\n",
    "    a=0;b=0\n",
    "    for x in agatha:\n",
    "        a+=x[0]*x[1]\n",
    "    for x in bertha:\n",
    "        b+=x[0]*x[1]\n",
    "    return a==b"
   ]
  },
  {
   "cell_type": "code",
   "execution_count": 171,
   "id": "4b3b535f",
   "metadata": {},
   "outputs": [
    {
     "data": {
      "text/plain": [
       "True"
      ]
     },
     "execution_count": 171,
     "metadata": {},
     "output_type": "execute_result"
    }
   ],
   "source": [
    "test_fairness([[1, 2], [2, 1]], [[2, 2]])\n"
   ]
  },
  {
   "cell_type": "code",
   "execution_count": 172,
   "id": "8f283bd3",
   "metadata": {},
   "outputs": [
    {
     "data": {
      "text/plain": [
       "False"
      ]
     },
     "execution_count": 172,
     "metadata": {},
     "output_type": "execute_result"
    }
   ],
   "source": [
    "test_fairness([[1, 2], [2, 1]], [[2, 2], [4, 4]])"
   ]
  },
  {
   "cell_type": "code",
   "execution_count": null,
   "id": "4b0e569d",
   "metadata": {},
   "outputs": [],
   "source": []
  }
 ],
 "metadata": {
  "kernelspec": {
   "display_name": "Python 3 (ipykernel)",
   "language": "python",
   "name": "python3"
  },
  "language_info": {
   "codemirror_mode": {
    "name": "ipython",
    "version": 3
   },
   "file_extension": ".py",
   "mimetype": "text/x-python",
   "name": "python",
   "nbconvert_exporter": "python",
   "pygments_lexer": "ipython3",
   "version": "3.10.9"
  }
 },
 "nbformat": 4,
 "nbformat_minor": 5
}
