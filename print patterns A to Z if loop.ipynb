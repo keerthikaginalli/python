{
 "cells": [
  {
   "cell_type": "code",
   "execution_count": 6,
   "id": "2bc4471f",
   "metadata": {},
   "outputs": [
    {
     "name": "stdout",
     "output_type": "stream",
     "text": [
      "* * *\n",
      "*   *\n",
      "* * *\n",
      "*   *\n",
      "*   *\n"
     ]
    }
   ],
   "source": [
    "a1=1\n",
    "a2=2\n",
    "a3=3\n",
    "a4=4\n",
    "a5=5\n",
    "\n",
    "if a1==1:\n",
    "    print(\"* * *\")\n",
    "if a2==2:\n",
    "    print(\"*   *\")\n",
    "if a3==3:\n",
    "    print(\"* * *\")\n",
    "if a4==4:\n",
    "    print(\"*   *\")\n",
    "if a5==5:\n",
    "    print(\"*   *\")"
   ]
  },
  {
   "cell_type": "code",
   "execution_count": 17,
   "id": "2d99c399",
   "metadata": {},
   "outputs": [
    {
     "name": "stdout",
     "output_type": "stream",
     "text": [
      "* * *\n",
      "*   *\n",
      "* * *\n",
      "*   *\n",
      "* * *\n"
     ]
    }
   ],
   "source": [
    "b1= 1\n",
    "b2=2\n",
    "b3=3\n",
    "b4=4\n",
    "b5=5\n",
    "\n",
    "\n",
    "if b1==1:\n",
    "    print(\"* * *\")\n",
    "if b2==2:\n",
    "    print(\"*   *\")\n",
    "if b3 ==3:\n",
    "    print(\"* * *\")\n",
    "if b4==4:\n",
    "    print(\"*   *\")\n",
    "if b5==5:\n",
    "    print(\"* * *\")"
   ]
  },
  {
   "cell_type": "code",
   "execution_count": 1,
   "id": "408cf82a",
   "metadata": {},
   "outputs": [
    {
     "name": "stdout",
     "output_type": "stream",
     "text": [
      "* * *\n",
      "*   \n",
      "*  \n",
      "*   \n",
      "* * *\n"
     ]
    }
   ],
   "source": [
    "c1=1\n",
    "c2=2\n",
    "c3=3\n",
    "c4=4\n",
    "c5=5\n",
    "\n",
    "if c1==1:\n",
    "    print(\"* * *\")\n",
    "if c2==2:\n",
    "    print(\"*   \")\n",
    "if c3 ==3:\n",
    "    print(\"*  \")\n",
    "if c4==4:\n",
    "    print(\"*   \")\n",
    "if c5==5:\n",
    "    print(\"* * *\")"
   ]
  },
  {
   "cell_type": "code",
   "execution_count": 2,
   "id": "fa754853",
   "metadata": {},
   "outputs": [
    {
     "name": "stdout",
     "output_type": "stream",
     "text": [
      "* * *\n",
      "*   *\n",
      "*   *\n",
      "*   *\n",
      "* * *\n"
     ]
    }
   ],
   "source": [
    "d1=1\n",
    "d2=2\n",
    "d3=3\n",
    "d4=4\n",
    "d5=5\n",
    "\n",
    "if d1==1:\n",
    " print(\"* * *\")\n",
    "if d2==2:\n",
    " print(\"*   *\")\n",
    "if d3 ==3:\n",
    " print(\"*   *\")\n",
    "if d4==4:\n",
    " print(\"*   *\")\n",
    "if d5==5:\n",
    " print(\"* * *\")"
   ]
  },
  {
   "cell_type": "code",
   "execution_count": 3,
   "id": "da9b1ae1",
   "metadata": {},
   "outputs": [
    {
     "name": "stdout",
     "output_type": "stream",
     "text": [
      "* * *\n",
      "*   \n",
      "* * *\n",
      "*   \n",
      "* * * \n"
     ]
    }
   ],
   "source": [
    "e1=1\n",
    "e2=2\n",
    "e3=3\n",
    "e4=4\n",
    "e5=5\n",
    "\n",
    "if e1==1:\n",
    " print(\"* * *\")\n",
    "if e2==2:\n",
    " print(\"*   \")\n",
    "if e3 ==3:\n",
    " print(\"* * *\")\n",
    "if e4==4:\n",
    " print(\"*   \")\n",
    "if e5==5:\n",
    " print(\"* * * \")\n"
   ]
  },
  {
   "cell_type": "code",
   "execution_count": 5,
   "id": "3fa5b3f6",
   "metadata": {},
   "outputs": [
    {
     "name": "stdout",
     "output_type": "stream",
     "text": [
      "* * *\n",
      "*   \n",
      "* * *\n",
      "*   \n",
      "*    \n"
     ]
    }
   ],
   "source": [
    "f1=1\n",
    "f2=2\n",
    "f3=3\n",
    "f4=4\n",
    "f5=5\n",
    "\n",
    "if f1==1:\n",
    " print(\"* * *\")\n",
    "if f2==2:\n",
    " print(\"*   \")\n",
    "if f3 ==3:\n",
    " print(\"* * *\")\n",
    "if f4==4:\n",
    " print(\"*   \")\n",
    "if f5==5:\n",
    " print(\"*    \")"
   ]
  },
  {
   "cell_type": "code",
   "execution_count": 6,
   "id": "fd7f82bb",
   "metadata": {},
   "outputs": [
    {
     "name": "stdout",
     "output_type": "stream",
     "text": [
      "* * *\n",
      "*   \n",
      "*   * * *\n",
      "*   *   *\n",
      "* * *   *\n"
     ]
    }
   ],
   "source": [
    "g1=1\n",
    "g2=2\n",
    "g3=3\n",
    "g4=4\n",
    "g5=5\n",
    "\n",
    "if g1==1:\n",
    " print(\"* * *\")\n",
    "if g2==2:\n",
    " print(\"*   \")\n",
    "if g3 ==3:\n",
    " print(\"*   * * *\")\n",
    "if g4==4:\n",
    " print(\"*   *   *\")\n",
    "if g5==5:\n",
    " print(\"* * *   *\")"
   ]
  },
  {
   "cell_type": "code",
   "execution_count": 8,
   "id": "3decc576",
   "metadata": {},
   "outputs": [
    {
     "name": "stdout",
     "output_type": "stream",
     "text": [
      "*   *\n",
      "*   *\n",
      "* * *\n",
      "*   *\n",
      "*   *\n"
     ]
    }
   ],
   "source": [
    "h1=1\n",
    "h2=2\n",
    "h3=3\n",
    "h4=4\n",
    "h5=5\n",
    "\n",
    "if h1==1:\n",
    " print(\"*   *\")\n",
    "if h2==2:\n",
    " print(\"*   *\")\n",
    "if h3 ==3:\n",
    " print(\"* * *\")\n",
    "if h4==4:\n",
    " print(\"*   *\")\n",
    "if h5==5:\n",
    " print(\"*   *\")"
   ]
  },
  {
   "cell_type": "code",
   "execution_count": 10,
   "id": "6bcfcf54",
   "metadata": {},
   "outputs": [
    {
     "name": "stdout",
     "output_type": "stream",
     "text": [
      "* * *\n",
      "  *  \n",
      "  *  \n",
      "  *  \n",
      "* * *\n"
     ]
    }
   ],
   "source": [
    "i1=1\n",
    "i2=2\n",
    "i3=3\n",
    "i4=4\n",
    "i5=5\n",
    "\n",
    "if i1==1:\n",
    "    print(\"* * *\")\n",
    "if i2==2:\n",
    "    print(\"  *  \")\n",
    "if i3 ==3:\n",
    "    print(\"  *  \")\n",
    "if i4==4:\n",
    "    print(\"  *  \")\n",
    "if i5==5:\n",
    "    print(\"* * *\")"
   ]
  },
  {
   "cell_type": "code",
   "execution_count": 12,
   "id": "05ed56ba",
   "metadata": {},
   "outputs": [
    {
     "name": "stdout",
     "output_type": "stream",
     "text": [
      "* * *\n",
      "  *  \n",
      "  *  \n",
      "  *  \n",
      "* *  \n"
     ]
    }
   ],
   "source": [
    "j1=1\n",
    "j2=2\n",
    "j3=3\n",
    "j4=4\n",
    "j5=5\n",
    "\n",
    "if j1==1:\n",
    "    print(\"* * *\")\n",
    "if j2==2:\n",
    "    print(\"  *  \")\n",
    "if j3 ==3:\n",
    "    print(\"  *  \")\n",
    "if j4==4:\n",
    "    print(\"  *  \")\n",
    "if j5==5:\n",
    "    print(\"* *  \")\n"
   ]
  },
  {
   "cell_type": "code",
   "execution_count": 13,
   "id": "e698df3e",
   "metadata": {},
   "outputs": [
    {
     "name": "stdout",
     "output_type": "stream",
     "text": [
      "  *   * \n",
      "  * * \n",
      "  **  \n",
      "  * * \n",
      "  *   * \n"
     ]
    }
   ],
   "source": [
    "k1=1\n",
    "k2=2\n",
    "k3=3\n",
    "k4=4\n",
    "k5=5\n",
    "\n",
    "if k1==1:\n",
    "    print(\"  *   * \")\n",
    "if k2==2:\n",
    "    print(\"  * * \")\n",
    "if k3 ==3:\n",
    "    print(\"  **  \")\n",
    "if k4==4:\n",
    "    print(\"  * * \")\n",
    "if k5==5:\n",
    "    print(\"  *   * \")"
   ]
  },
  {
   "cell_type": "code",
   "execution_count": 14,
   "id": "2b45f16f",
   "metadata": {},
   "outputs": [
    {
     "name": "stdout",
     "output_type": "stream",
     "text": [
      "  *    \n",
      "  *  \n",
      "  *   \n",
      "  *    \n",
      "  * * * \n"
     ]
    }
   ],
   "source": [
    "l1=1\n",
    "l2=2\n",
    "l3=3\n",
    "l4=4\n",
    "l5=5\n",
    "\n",
    "if l1==1:\n",
    "    print(\"  *    \")\n",
    "if l2==2:\n",
    "    print(\"  *  \")\n",
    "if l3 ==3:\n",
    "    print(\"  *   \" )\n",
    "if l4==4:\n",
    "    print(\"  *    \")\n",
    "if l5==5:\n",
    "    print(\"  * * * \")"
   ]
  },
  {
   "cell_type": "code",
   "execution_count": 16,
   "id": "b001e4d6",
   "metadata": {},
   "outputs": [
    {
     "name": "stdout",
     "output_type": "stream",
     "text": [
      "* * * * *\n",
      "*   *   *\n",
      "*   *   *\n",
      "*   *   *\n",
      "*   *   *\n"
     ]
    }
   ],
   "source": [
    "m1=1\n",
    "m2=2\n",
    "m3=3\n",
    "m4=4\n",
    "m5=5\n",
    "\n",
    "if m1==1:\n",
    "    print(\"* * * * *\")\n",
    "if m2==2:\n",
    "    print(\"*   *   *\")\n",
    "if m3 ==3:\n",
    "    print(\"*   *   *\")\n",
    "if m4==4:\n",
    "    print(\"*   *   *\")\n",
    "if m5==5:\n",
    "    print(\"*   *   *\")"
   ]
  },
  {
   "cell_type": "code",
   "execution_count": 19,
   "id": "d96dc410",
   "metadata": {},
   "outputs": [
    {
     "name": "stdout",
     "output_type": "stream",
     "text": [
      "* *     *\n",
      "*   *   *\n",
      "*   *   *\n",
      "*   *   *\n",
      "*    * *\n"
     ]
    }
   ],
   "source": [
    "n1=1\n",
    "n2=2\n",
    "n3=3\n",
    "n4=4\n",
    "n5=5\n",
    "\n",
    "if n1==1:\n",
    "    print(\"* *     *\")\n",
    "if n2==2:\n",
    "    print(\"*   *   *\")\n",
    "if n3 ==3:\n",
    "    print(\"*   *   *\")\n",
    "if n4==4:\n",
    "    print(\"*   *   *\")\n",
    "if n5==5:\n",
    "    print(\"*    * *\")"
   ]
  },
  {
   "cell_type": "code",
   "execution_count": 20,
   "id": "48cc0d28",
   "metadata": {},
   "outputs": [
    {
     "name": "stdout",
     "output_type": "stream",
     "text": [
      "* * * *\n",
      "*     *\n",
      "*     *\n",
      "*     *\n",
      "* * * *\n"
     ]
    }
   ],
   "source": [
    "o1=1\n",
    "o2=2\n",
    "o3=3\n",
    "o4=4\n",
    "o5=5\n",
    "\n",
    "if o1==1:\n",
    "    print(\"* * * *\")\n",
    "if o2==2:\n",
    "    print(\"*     *\")\n",
    "if o3 ==3:\n",
    "    print(\"*     *\")\n",
    "if o4==4:\n",
    "    print(\"*     *\")\n",
    "if o5==5:\n",
    "    print(\"* * * *\")\n",
    "    "
   ]
  },
  {
   "cell_type": "code",
   "execution_count": 21,
   "id": "018b619e",
   "metadata": {},
   "outputs": [
    {
     "name": "stdout",
     "output_type": "stream",
     "text": [
      "* * *\n",
      "*   *\n",
      "* *  \n",
      "*    \n",
      "*    \n"
     ]
    }
   ],
   "source": [
    "p1=1\n",
    "p2=2\n",
    "p3=3\n",
    "p4=4\n",
    "p5=5\n",
    "\n",
    "if p1==1:\n",
    "    print(\"* * *\")\n",
    "if p2==2:\n",
    "    print(\"*   *\")\n",
    "if p3 ==3:\n",
    "    print(\"* *  \")\n",
    "if p4==4:\n",
    "    print(\"*    \")\n",
    "if p5==5:\n",
    "    print(\"*    \")"
   ]
  },
  {
   "cell_type": "code",
   "execution_count": 23,
   "id": "2123f595",
   "metadata": {},
   "outputs": [
    {
     "name": "stdout",
     "output_type": "stream",
     "text": [
      "* * * *\n",
      "*     *\n",
      "*     *\n",
      "*     *\n",
      "* * * *\n",
      "       *\n"
     ]
    }
   ],
   "source": [
    "q1=1\n",
    "q2=2\n",
    "q3=3\n",
    "q4=4\n",
    "q5=5\n",
    "q6=6\n",
    "\n",
    "if q1==1:\n",
    "    print(\"* * * *\")\n",
    "if q2==2:\n",
    "    print(\"*     *\")\n",
    "if q3 ==3:\n",
    "    print(\"*     *\")\n",
    "if q4==4:\n",
    "    print(\"*     *\")\n",
    "if q5==5:\n",
    "    print(\"* * * *\")\n",
    "if q6==6:\n",
    "    print(\"       *\")"
   ]
  },
  {
   "cell_type": "code",
   "execution_count": 26,
   "id": "1a65e993",
   "metadata": {},
   "outputs": [
    {
     "name": "stdout",
     "output_type": "stream",
     "text": [
      "* * *\n",
      "*   *\n",
      "* *  \n",
      "* *   \n",
      "*   * \n"
     ]
    }
   ],
   "source": [
    "r1=1\n",
    "r2=2\n",
    "r3=3\n",
    "r4=4\n",
    "r5=5\n",
    "\n",
    "if r1==1:\n",
    "    print(\"* * *\")\n",
    "if r2==2:\n",
    "    print(\"*   *\")\n",
    "if r3 ==3:\n",
    "    print(\"* *  \")\n",
    "if r4==4:\n",
    "    print(\"* *   \")\n",
    "if r5==5:\n",
    "    print(\"*   * \")"
   ]
  },
  {
   "cell_type": "code",
   "execution_count": 27,
   "id": "d5b03d23",
   "metadata": {},
   "outputs": [
    {
     "name": "stdout",
     "output_type": "stream",
     "text": [
      "* * *\n",
      "*   \n",
      "* * *\n",
      "    *\n",
      "* * * \n"
     ]
    }
   ],
   "source": [
    "s1=1\n",
    "s2=2\n",
    "s3=3\n",
    "s4=4\n",
    "s5=5\n",
    "\n",
    "if s1==1:\n",
    "    print(\"* * *\")\n",
    "if s2==2:\n",
    "    print(\"*   \")\n",
    "if s3 ==3:\n",
    "    print(\"* * *\")\n",
    "if s4==4:\n",
    "    print(\"    *\")\n",
    "if s5==5:\n",
    "    print(\"* * * \")"
   ]
  },
  {
   "cell_type": "code",
   "execution_count": 29,
   "id": "e7fb0fa7",
   "metadata": {},
   "outputs": [
    {
     "name": "stdout",
     "output_type": "stream",
     "text": [
      "******\n",
      "  *  \n",
      "  *   \n",
      "  *    \n",
      "  * \n"
     ]
    }
   ],
   "source": [
    "t1=1\n",
    "t2=2\n",
    "t3=3\n",
    "t4=4\n",
    "t5=5\n",
    "\n",
    "if t1==1:\n",
    "    print(\"******\")\n",
    "if t2==2:\n",
    "    print(\"  *  \")\n",
    "if t3 ==3:\n",
    "    print(\"  *   \" )\n",
    "if t4==4:\n",
    "    print(\"  *    \")\n",
    "if t5==5:\n",
    "    print(\"  * \")"
   ]
  },
  {
   "cell_type": "code",
   "execution_count": 30,
   "id": "e13fa831",
   "metadata": {},
   "outputs": [
    {
     "name": "stdout",
     "output_type": "stream",
     "text": [
      "*     *\n",
      "*     *\n",
      "*     *\n",
      "*     *\n",
      "*******\n"
     ]
    }
   ],
   "source": [
    "u1=1\n",
    "u2=2\n",
    "u3=3\n",
    "u4=4\n",
    "u5=5\n",
    "\n",
    "if u1==1:\n",
    "    print(\"*     *\")\n",
    "if u2==2:\n",
    "    print(\"*     *\")\n",
    "if u3 ==3:\n",
    "    print(\"*     *\")\n",
    "if u4==4:\n",
    "    print(\"*     *\")\n",
    "if u5==5:\n",
    "    print(\"*******\")\n",
    "    "
   ]
  },
  {
   "cell_type": "code",
   "execution_count": 32,
   "id": "5661168d",
   "metadata": {},
   "outputs": [
    {
     "name": "stdout",
     "output_type": "stream",
     "text": [
      "*         *\n",
      " *       * \n",
      "  *     * \n",
      "   *   *  \n",
      "     *    \n"
     ]
    }
   ],
   "source": [
    "v1=1\n",
    "v2=2\n",
    "v3=3\n",
    "v4=4\n",
    "v5=5\n",
    "\n",
    "if v1==1:\n",
    "    print(\"*         *\")\n",
    "if v2==2:\n",
    "    print(\" *       * \")\n",
    "if v3 ==3:\n",
    "    print(\"  *     * \")\n",
    "if v4==4:\n",
    "    print(\"   *   *  \")\n",
    "if v5==5:\n",
    "    print(\"     *    \")"
   ]
  },
  {
   "cell_type": "code",
   "execution_count": 34,
   "id": "9256946a",
   "metadata": {},
   "outputs": [
    {
     "name": "stdout",
     "output_type": "stream",
     "text": [
      "*   *   *\n",
      "*   *   *\n",
      "*   *   *\n",
      "*   *   *\n",
      "* * * * *\n"
     ]
    }
   ],
   "source": [
    "w1=1\n",
    "w2=2\n",
    "w3=3\n",
    "w4=4\n",
    "w5=5\n",
    "\n",
    "if w1==1:\n",
    " print(\"*   *   *\")\n",
    "if w2==2:\n",
    " print(\"*   *   *\")\n",
    "if w3 ==3:\n",
    " print(\"*   *   *\")\n",
    "if w4==4:\n",
    " print(\"*   *   *\")\n",
    "if w5==5:\n",
    " print(\"* * * * *\")"
   ]
  },
  {
   "cell_type": "code",
   "execution_count": 37,
   "id": "2335cae9",
   "metadata": {},
   "outputs": [
    {
     "name": "stdout",
     "output_type": "stream",
     "text": [
      "*      *\n",
      " *   *\n",
      "   *  \n",
      " *    * \n",
      "*       * \n"
     ]
    }
   ],
   "source": [
    "x1=1\n",
    "x2=2\n",
    "x3=3\n",
    "x4=4\n",
    "x5=5\n",
    "\n",
    "\n",
    "if x1==1:\n",
    "    print(\"*      *\")\n",
    "if x2==2:\n",
    "    print(\" *   *\")\n",
    "if x3 ==3:\n",
    "    print(\"   *  \")\n",
    "if x4==4:\n",
    "    print(\" *    * \")\n",
    "if x5==5:\n",
    "    print(\"*       * \")"
   ]
  },
  {
   "cell_type": "code",
   "execution_count": 38,
   "id": "037eb516",
   "metadata": {},
   "outputs": [
    {
     "name": "stdout",
     "output_type": "stream",
     "text": [
      "*      *\n",
      "*     *\n",
      "   *  \n",
      "   *   \n",
      "   *    \n"
     ]
    }
   ],
   "source": [
    "y1=1\n",
    "y2=2\n",
    "y3=3\n",
    "y4=4\n",
    "y5=5\n",
    "\n",
    "if y1==1:\n",
    "    print(\"*      *\")\n",
    "if y2==2:\n",
    "    print(\"*     *\")\n",
    "if y3 ==3:\n",
    "    print(\"   *  \")\n",
    "if y4==4:\n",
    "    print(\"   *   \")\n",
    "if y5==5:\n",
    "    print(\"   *    \")"
   ]
  },
  {
   "cell_type": "code",
   "execution_count": 41,
   "id": "87ec115b",
   "metadata": {},
   "outputs": [
    {
     "name": "stdout",
     "output_type": "stream",
     "text": [
      "******\n",
      "     * \n",
      "    *   \n",
      " *    \n",
      "*******\n"
     ]
    }
   ],
   "source": [
    "z1=1\n",
    "z2=2\n",
    "z3=3\n",
    "z4=4\n",
    "z5=5\n",
    "\n",
    "if z1==1:\n",
    "    print(\"******\")\n",
    "if z2==2:\n",
    "    print(\"     * \")\n",
    "if z3 ==3:\n",
    "    print(\"    *   \")\n",
    "if z4==4:\n",
    "    print(\" *    \")\n",
    "if z5==5:\n",
    "    print(\"*******\")"
   ]
  },
  {
   "cell_type": "code",
   "execution_count": null,
   "id": "0c539a9a",
   "metadata": {},
   "outputs": [],
   "source": []
  }
 ],
 "metadata": {
  "kernelspec": {
   "display_name": "Python 3 (ipykernel)",
   "language": "python",
   "name": "python3"
  },
  "language_info": {
   "codemirror_mode": {
    "name": "ipython",
    "version": 3
   },
   "file_extension": ".py",
   "mimetype": "text/x-python",
   "name": "python",
   "nbconvert_exporter": "python",
   "pygments_lexer": "ipython3",
   "version": "3.10.9"
  }
 },
 "nbformat": 4,
 "nbformat_minor": 5
}
