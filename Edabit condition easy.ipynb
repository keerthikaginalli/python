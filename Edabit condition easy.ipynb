{
 "cells": [
  {
   "cell_type": "code",
   "execution_count": 1,
   "id": "c97ee829",
   "metadata": {},
   "outputs": [],
   "source": [
    "#Luke Skywalker has family and friends. Help him remind them who is who. Given a string with a name, return the \n",
    "#relation of that person to Luke.\n",
    "# Person \tRelation\n",
    "# Darth Vader\tfather\n",
    "# Leia\t sister\n",
    "# Han\t brother in law\n",
    "# R2D2\t droid\n",
    "\n",
    "def relation_to_luke(name):\n",
    "    relation={\"darth vader\":\"father\",\"leia\":\"sister\",\"han\":\"brother in law\",\"r2d2\":\"droid\"}\n",
    "    for x in relation:\n",
    "        if name.lower()==x:\n",
    "            return (\"Luke, I am your {}.\".format(relation[x]))\n",
    "        else:\n",
    "            continue"
   ]
  },
  {
   "cell_type": "code",
   "execution_count": 2,
   "id": "33048e20",
   "metadata": {},
   "outputs": [
    {
     "data": {
      "text/plain": [
       "'Luke, I am your father.'"
      ]
     },
     "execution_count": 2,
     "metadata": {},
     "output_type": "execute_result"
    }
   ],
   "source": [
    "relation_to_luke(\"Darth Vader\")"
   ]
  },
  {
   "cell_type": "code",
   "execution_count": 3,
   "id": "ef1488ca",
   "metadata": {},
   "outputs": [
    {
     "data": {
      "text/plain": [
       "'Luke, I am your sister.'"
      ]
     },
     "execution_count": 3,
     "metadata": {},
     "output_type": "execute_result"
    }
   ],
   "source": [
    "relation_to_luke(\"Leia\")"
   ]
  },
  {
   "cell_type": "code",
   "execution_count": 4,
   "id": "90945be2",
   "metadata": {},
   "outputs": [],
   "source": [
    "#Create a function that takes damage and speed (attacks per second) and returns the amount of damage after a \n",
    "#given time.\n",
    "\n",
    "def damage(d,s,t):\n",
    "    if d>=0 and s>=0:\n",
    "        if t.lower()==\"second\":\n",
    "            return d*s\n",
    "        elif t.lower()==\"minute\":\n",
    "            return d*s*60\n",
    "        else:\n",
    "            return d*s*3600\n",
    "    else:\n",
    "        return \"invalid input\""
   ]
  },
  {
   "cell_type": "code",
   "execution_count": 6,
   "id": "7ab193e9",
   "metadata": {},
   "outputs": [
    {
     "data": {
      "text/plain": [
       "200"
      ]
     },
     "execution_count": 6,
     "metadata": {},
     "output_type": "execute_result"
    }
   ],
   "source": [
    "damage(40, 5, \"second\")"
   ]
  },
  {
   "cell_type": "code",
   "execution_count": 7,
   "id": "8c9e8699",
   "metadata": {},
   "outputs": [
    {
     "data": {
      "text/plain": [
       "6000"
      ]
     },
     "execution_count": 7,
     "metadata": {},
     "output_type": "execute_result"
    }
   ],
   "source": [
    "damage(100, 1, \"minute\")"
   ]
  },
  {
   "cell_type": "code",
   "execution_count": 5,
   "id": "40cc1538",
   "metadata": {},
   "outputs": [
    {
     "data": {
      "text/plain": [
       "720000"
      ]
     },
     "execution_count": 5,
     "metadata": {},
     "output_type": "execute_result"
    }
   ],
   "source": [
    "damage(2, 100, \"hour\")"
   ]
  },
  {
   "cell_type": "code",
   "execution_count": 8,
   "id": "3cf027fa",
   "metadata": {},
   "outputs": [],
   "source": [
    "#Create a function that takes a number as input and returns True if the sum of its digits has the same parity as\n",
    "#the entire number. Otherwise, return False.\n",
    "\n",
    "def parity_analysis(n):\n",
    "    m=n;s=0\n",
    "    if n/10<0:\n",
    "        return True\n",
    "    else:\n",
    "        while n>=1:\n",
    "            a=n%10\n",
    "            s+=a\n",
    "            n//=10\n",
    "        return (m%2==s%2)"
   ]
  },
  {
   "cell_type": "code",
   "execution_count": 10,
   "id": "ba67587d",
   "metadata": {},
   "outputs": [
    {
     "data": {
      "text/plain": [
       "True"
      ]
     },
     "execution_count": 10,
     "metadata": {},
     "output_type": "execute_result"
    }
   ],
   "source": [
    "parity_analysis(243)"
   ]
  },
  {
   "cell_type": "code",
   "execution_count": 11,
   "id": "189ec3f7",
   "metadata": {},
   "outputs": [
    {
     "data": {
      "text/plain": [
       "False"
      ]
     },
     "execution_count": 11,
     "metadata": {},
     "output_type": "execute_result"
    }
   ],
   "source": [
    "parity_analysis(12)"
   ]
  },
  {
   "cell_type": "code",
   "execution_count": 9,
   "id": "67d9e5fc",
   "metadata": {},
   "outputs": [
    {
     "data": {
      "text/plain": [
       "True"
      ]
     },
     "execution_count": 9,
     "metadata": {},
     "output_type": "execute_result"
    }
   ],
   "source": [
    "parity_analysis(3)"
   ]
  },
  {
   "cell_type": "code",
   "execution_count": 12,
   "id": "ef1c0461",
   "metadata": {},
   "outputs": [],
   "source": [
    "# Create a function that takes a string, checks if it has the same number of \"x\"s and \"o\"s and returns either \n",
    "#True or False.\n",
    "#Return a boolean value (True or False).\n",
    "#Return True if the amount of x's and o's are the same.\n",
    "#Return False if they aren't the same amount.\n",
    "#The string can contain any character.\n",
    "#When \"x\" and \"o\" are not in the string, return True.\n",
    "\n",
    "def XO(s):\n",
    "    x=0;o=0\n",
    "    for y in s:\n",
    "        if y.lower()==\"x\":\n",
    "            x+=1\n",
    "        elif y.lower()==\"o\":\n",
    "            o+=1\n",
    "        else:\n",
    "            continue\n",
    "    return (x==o)"
   ]
  },
  {
   "cell_type": "code",
   "execution_count": 13,
   "id": "f445d00d",
   "metadata": {},
   "outputs": [
    {
     "data": {
      "text/plain": [
       "True"
      ]
     },
     "execution_count": 13,
     "metadata": {},
     "output_type": "execute_result"
    }
   ],
   "source": [
    "XO(\"ooxx\")"
   ]
  },
  {
   "cell_type": "code",
   "execution_count": 14,
   "id": "760bd92e",
   "metadata": {},
   "outputs": [
    {
     "data": {
      "text/plain": [
       "False"
      ]
     },
     "execution_count": 14,
     "metadata": {},
     "output_type": "execute_result"
    }
   ],
   "source": [
    "XO(\"xooxx\")"
   ]
  },
  {
   "cell_type": "code",
   "execution_count": 15,
   "id": "0f71e8e2",
   "metadata": {},
   "outputs": [
    {
     "data": {
      "text/plain": [
       "True"
      ]
     },
     "execution_count": 15,
     "metadata": {},
     "output_type": "execute_result"
    }
   ],
   "source": [
    "XO(\"ooxXm\") "
   ]
  },
  {
   "cell_type": "code",
   "execution_count": 16,
   "id": "76b28df5",
   "metadata": {},
   "outputs": [
    {
     "data": {
      "text/plain": [
       "True"
      ]
     },
     "execution_count": 16,
     "metadata": {},
     "output_type": "execute_result"
    }
   ],
   "source": [
    "XO(\"zpzpzpp\")"
   ]
  },
  {
   "cell_type": "code",
   "execution_count": 17,
   "id": "901636e0",
   "metadata": {},
   "outputs": [
    {
     "data": {
      "text/plain": [
       "False"
      ]
     },
     "execution_count": 17,
     "metadata": {},
     "output_type": "execute_result"
    }
   ],
   "source": [
    "XO(\"zzoo\")"
   ]
  },
  {
   "cell_type": "code",
   "execution_count": 19,
   "id": "bb353363",
   "metadata": {},
   "outputs": [],
   "source": [
    "# Create a function that reverses a boolean value and returns the string \"boolean expected\" if another variable\n",
    "#type is given.\n",
    "\n",
    "def reverse(b):\n",
    "    if type(b)==bool:\n",
    "        return not(b)\n",
    "    else:\n",
    "        return \"boolean expected\""
   ]
  },
  {
   "cell_type": "code",
   "execution_count": 20,
   "id": "878d7bdb",
   "metadata": {},
   "outputs": [
    {
     "data": {
      "text/plain": [
       "False"
      ]
     },
     "execution_count": 20,
     "metadata": {},
     "output_type": "execute_result"
    }
   ],
   "source": [
    "reverse(True)"
   ]
  },
  {
   "cell_type": "code",
   "execution_count": 22,
   "id": "9e869e50",
   "metadata": {},
   "outputs": [
    {
     "data": {
      "text/plain": [
       "True"
      ]
     },
     "execution_count": 22,
     "metadata": {},
     "output_type": "execute_result"
    }
   ],
   "source": [
    "reverse(False)"
   ]
  },
  {
   "cell_type": "code",
   "execution_count": 23,
   "id": "d47c96cc",
   "metadata": {},
   "outputs": [
    {
     "data": {
      "text/plain": [
       "'boolean expected'"
      ]
     },
     "execution_count": 23,
     "metadata": {},
     "output_type": "execute_result"
    }
   ],
   "source": [
    "reverse(0)"
   ]
  },
  {
   "cell_type": "code",
   "execution_count": 24,
   "id": "dddf7aad",
   "metadata": {},
   "outputs": [
    {
     "data": {
      "text/plain": [
       "'boolean expected'"
      ]
     },
     "execution_count": 24,
     "metadata": {},
     "output_type": "execute_result"
    }
   ],
   "source": [
    "reverse(None)"
   ]
  },
  {
   "cell_type": "code",
   "execution_count": 25,
   "id": "42d97085",
   "metadata": {},
   "outputs": [],
   "source": [
    "# Using list comprehensions, create a function that finds all even numbers from 1 to the given number.\n",
    "\n",
    "def find_even_nums(n):\n",
    "    l=[]\n",
    "    for x in range(1,n+1):\n",
    "        if x%2==0:\n",
    "            l.append(x)\n",
    "        else:\n",
    "            continue\n",
    "    return l"
   ]
  },
  {
   "cell_type": "code",
   "execution_count": 26,
   "id": "b81c8538",
   "metadata": {},
   "outputs": [
    {
     "data": {
      "text/plain": [
       "[2, 4, 6, 8]"
      ]
     },
     "execution_count": 26,
     "metadata": {},
     "output_type": "execute_result"
    }
   ],
   "source": [
    "find_even_nums(8)"
   ]
  },
  {
   "cell_type": "code",
   "execution_count": 27,
   "id": "3238ac7b",
   "metadata": {},
   "outputs": [],
   "source": [
    "# Create a function that takes a list of strings and integers, and filters out the list so that it returns a \n",
    "#list of integers only.\n",
    "\n",
    "def filter_list(lst):\n",
    "    l=[]\n",
    "    for x in lst:\n",
    "        if type(x)==int:\n",
    "            l.append(x)\n",
    "        else:\n",
    "            continue\n",
    "    return l"
   ]
  },
  {
   "cell_type": "code",
   "execution_count": 28,
   "id": "1d967d0a",
   "metadata": {},
   "outputs": [
    {
     "data": {
      "text/plain": [
       "[1, 2, 3, 4]"
      ]
     },
     "execution_count": 28,
     "metadata": {},
     "output_type": "execute_result"
    }
   ],
   "source": [
    "filter_list([1, 2, 3, \"a\", \"b\", 4])"
   ]
  },
  {
   "cell_type": "code",
   "execution_count": 29,
   "id": "39eb3a8c",
   "metadata": {},
   "outputs": [
    {
     "data": {
      "text/plain": [
       "[0, 1729]"
      ]
     },
     "execution_count": 29,
     "metadata": {},
     "output_type": "execute_result"
    }
   ],
   "source": [
    "filter_list([\"A\", 0, \"Edabit\", 1729, \"Python\", \"1729\"])"
   ]
  },
  {
   "cell_type": "code",
   "execution_count": 31,
   "id": "e2497743",
   "metadata": {},
   "outputs": [],
   "source": [
    "#Write a function that takes a list and a number as arguments. Add the number to the end of the list, then \n",
    "#remove the first element of the list. The function should then return the updated list.\n",
    "\n",
    "def next_in_line(l,n):\n",
    "    if len(l)>0:\n",
    "        l.append(n)\n",
    "        l.pop(0)\n",
    "        return l\n",
    "    else:\n",
    "        return \"No list has been selected\""
   ]
  },
  {
   "cell_type": "code",
   "execution_count": 32,
   "id": "e9dfa6d8",
   "metadata": {},
   "outputs": [
    {
     "data": {
      "text/plain": [
       "[6, 7, 8, 9, 1]"
      ]
     },
     "execution_count": 32,
     "metadata": {},
     "output_type": "execute_result"
    }
   ],
   "source": [
    "next_in_line([5, 6, 7, 8, 9], 1)"
   ]
  },
  {
   "cell_type": "code",
   "execution_count": 33,
   "id": "b3fe7441",
   "metadata": {},
   "outputs": [
    {
     "data": {
      "text/plain": [
       "'No list has been selected'"
      ]
     },
     "execution_count": 33,
     "metadata": {},
     "output_type": "execute_result"
    }
   ],
   "source": [
    "next_in_line([], 6)"
   ]
  },
  {
   "cell_type": "code",
   "execution_count": 35,
   "id": "8990527c",
   "metadata": {},
   "outputs": [],
   "source": [
    "# In BlackJack, cards are counted with -1, 0, 1 values:\n",
    "#2, 3, 4, 5, 6 are counted as +1\n",
    "#7, 8, 9 are counted as 0\n",
    "#10, J, Q, K, A are counted as -1\n",
    "#Create a function that counts the number and returns it from the list of cards provided.\n",
    "\n",
    "def count(lst):\n",
    "    c=0\n",
    "    for x in lst:\n",
    "        if x==10 or x==\"J\" or x==\"Q\" or x==\"K\" or x==\"A\":\n",
    "            c+=-1\n",
    "        elif x>=2 and x<=6:\n",
    "            c+=1\n",
    "        else:\n",
    "            continue\n",
    "    return c\n"
   ]
  },
  {
   "cell_type": "code",
   "execution_count": 36,
   "id": "29d0c3ec",
   "metadata": {},
   "outputs": [
    {
     "data": {
      "text/plain": [
       "1"
      ]
     },
     "execution_count": 36,
     "metadata": {},
     "output_type": "execute_result"
    }
   ],
   "source": [
    "count([5, 9, 10, 3, \"J\", \"A\", 4, 8, 5])"
   ]
  },
  {
   "cell_type": "code",
   "execution_count": 37,
   "id": "d1103088",
   "metadata": {},
   "outputs": [
    {
     "data": {
      "text/plain": [
       "-6"
      ]
     },
     "execution_count": 37,
     "metadata": {},
     "output_type": "execute_result"
    }
   ],
   "source": [
    "count([\"A\", \"A\", \"K\", \"Q\", \"Q\", \"J\"])"
   ]
  },
  {
   "cell_type": "code",
   "execution_count": 38,
   "id": "dd884572",
   "metadata": {},
   "outputs": [
    {
     "data": {
      "text/plain": [
       "5"
      ]
     },
     "execution_count": 38,
     "metadata": {},
     "output_type": "execute_result"
    }
   ],
   "source": [
    "count([\"A\", 5, 5, 2, 6, 2, 3, 8, 9, 7])"
   ]
  },
  {
   "cell_type": "code",
   "execution_count": 40,
   "id": "40f788e3",
   "metadata": {},
   "outputs": [],
   "source": [
    "#Wild Roger is participating in a Western Showdown, meaning he has to draw (pull out and shoot) his gun faster \n",
    "#than his opponent in a gun standoff. Given two strings,p1 and p2, return which person drew their gun the fastest.\n",
    "#If both are drawn at the same time, return \"tie\".\n",
    "\n",
    "def showdown(p1,p2):\n",
    "    if p1.lower().find(\"b\")>p2.lower().find(\"b\"):\n",
    "        return \"p2\"\n",
    "    elif p1.lower().find(\"b\")<p2.lower().find(\"b\"):\n",
    "        return \"p1\"\n",
    "    else:\n",
    "        return \"Tie\""
   ]
  },
  {
   "cell_type": "code",
   "execution_count": 41,
   "id": "dbf95811",
   "metadata": {},
   "outputs": [
    {
     "data": {
      "text/plain": [
       "'p1'"
      ]
     },
     "execution_count": 41,
     "metadata": {},
     "output_type": "execute_result"
    }
   ],
   "source": [
    "showdown(\"   Bang!        \",\"        Bang!   \")"
   ]
  },
  {
   "cell_type": "code",
   "execution_count": 42,
   "id": "ee870bd3",
   "metadata": {},
   "outputs": [],
   "source": [
    "#Create a function that takes a number as an argument and returns True or False depending on whether the number\n",
    "#is symmetrical or not. A number is symmetrical when it is the same as its reverse.\n",
    "\n",
    "def is_symmetrical(n):\n",
    "    num=str(n)\n",
    "    return num==num[::-1]"
   ]
  },
  {
   "cell_type": "code",
   "execution_count": 43,
   "id": "f7e102c8",
   "metadata": {},
   "outputs": [
    {
     "data": {
      "text/plain": [
       "True"
      ]
     },
     "execution_count": 43,
     "metadata": {},
     "output_type": "execute_result"
    }
   ],
   "source": [
    "is_symmetrical(7227)"
   ]
  },
  {
   "cell_type": "code",
   "execution_count": 44,
   "id": "98c9a9a9",
   "metadata": {},
   "outputs": [],
   "source": [
    "# Write a function that returns the strings:\n",
    "#\"both\" if both given booleans a and b are True.\n",
    "#\"first\" if only a is True.\n",
    "#\"second\" if only b is True .\n",
    "#\"neither\" if both a and b are False.\n",
    "\n",
    "def True_or_False(a,b):\n",
    "    if a==True and b==True:\n",
    "        return \"both\"\n",
    "    elif a==True:\n",
    "        return \"first\"\n",
    "    elif b==True:\n",
    "        return \"second\"\n",
    "    else:\n",
    "        return \"neither\""
   ]
  },
  {
   "cell_type": "code",
   "execution_count": 45,
   "id": "c8f828a9",
   "metadata": {},
   "outputs": [
    {
     "data": {
      "text/plain": [
       "'first'"
      ]
     },
     "execution_count": 45,
     "metadata": {},
     "output_type": "execute_result"
    }
   ],
   "source": [
    "True_or_False(True,False)"
   ]
  },
  {
   "cell_type": "code",
   "execution_count": 47,
   "id": "794e3735",
   "metadata": {},
   "outputs": [],
   "source": [
    "#I'm trying to watch some lectures to study for my next exam but I keep getting distracted by meme compilations,\n",
    "#vine compilations, anime, and more on my favorite video platform.Your job is to help me create a function that\n",
    "#takes a string and checks to see if it contains the following words or phrases:\n",
    "#\"anime\"\n",
    "#\"meme\"\n",
    "#\"vines\"\n",
    "#\"roasts\"\n",
    "#\"Danny DeVito\"\n",
    "#If it does, return \"NO!\". Otherwise, return \"Safe watching!\".\n",
    "\n",
    "def prevent_distractions(strin):\n",
    "    x=strin.lower()\n",
    "    l=x.split()\n",
    "    c=0\n",
    "    for s in l:\n",
    "        if s==\"anime\" or s==\"meme\" or s==\"vines\" or s==\"roasts\" or s==\"danny\" or s==\"devito\":\n",
    "            c+=1\n",
    "        else:\n",
    "            continue\n",
    "    if c>0:\n",
    "        return \"NO!\"\n",
    "    else:\n",
    "        return \"Safe watching!\""
   ]
  },
  {
   "cell_type": "code",
   "execution_count": 48,
   "id": "7a61fd9e",
   "metadata": {},
   "outputs": [
    {
     "data": {
      "text/plain": [
       "'NO!'"
      ]
     },
     "execution_count": 48,
     "metadata": {},
     "output_type": "execute_result"
    }
   ],
   "source": [
    "prevent_distractions(\"vines that butter my eggroll\")"
   ]
  },
  {
   "cell_type": "code",
   "execution_count": 49,
   "id": "fbbacce3",
   "metadata": {},
   "outputs": [
    {
     "data": {
      "text/plain": [
       "'NO!'"
      ]
     },
     "execution_count": 49,
     "metadata": {},
     "output_type": "execute_result"
    }
   ],
   "source": [
    "prevent_distractions(\"Hot pictures of Danny DeVito\")"
   ]
  },
  {
   "cell_type": "code",
   "execution_count": 50,
   "id": "8d474a25",
   "metadata": {},
   "outputs": [
    {
     "data": {
      "text/plain": [
       "'Safe watching!'"
      ]
     },
     "execution_count": 50,
     "metadata": {},
     "output_type": "execute_result"
    }
   ],
   "source": [
    "prevent_distractions(\"How to ace BC Calculus in 5 Easy Steps\")"
   ]
  },
  {
   "cell_type": "code",
   "execution_count": 51,
   "id": "82ea70b8",
   "metadata": {},
   "outputs": [],
   "source": [
    "# Create a function that takes three integer arguments (a, b, c) and returns the amount of integers which are of\n",
    "#equal value.\n",
    "\n",
    "def equal(a,b,c):\n",
    "    if a==b==c:\n",
    "        return 3\n",
    "    elif a==b or b==c or c==a:\n",
    "        return 2\n",
    "    else:\n",
    "        return 0"
   ]
  },
  {
   "cell_type": "code",
   "execution_count": 52,
   "id": "415b68a0",
   "metadata": {},
   "outputs": [
    {
     "data": {
      "text/plain": [
       "2"
      ]
     },
     "execution_count": 52,
     "metadata": {},
     "output_type": "execute_result"
    }
   ],
   "source": [
    "equal(3, 4, 3)"
   ]
  },
  {
   "cell_type": "code",
   "execution_count": 53,
   "id": "a9a0f7f5",
   "metadata": {},
   "outputs": [
    {
     "data": {
      "text/plain": [
       "3"
      ]
     },
     "execution_count": 53,
     "metadata": {},
     "output_type": "execute_result"
    }
   ],
   "source": [
    "equal(1, 1, 1)"
   ]
  },
  {
   "cell_type": "code",
   "execution_count": 54,
   "id": "90bf736e",
   "metadata": {},
   "outputs": [
    {
     "data": {
      "text/plain": [
       "0"
      ]
     },
     "execution_count": 54,
     "metadata": {},
     "output_type": "execute_result"
    }
   ],
   "source": [
    "equal(3, 4, 1)"
   ]
  },
  {
   "cell_type": "code",
   "execution_count": 62,
   "id": "d6b090ca",
   "metadata": {},
   "outputs": [],
   "source": [
    "# Create a function which validates whether a 3 character string is a vowel sandwich. In order to have a valid \n",
    "#sandwich, the string must satisfy the following rules:\n",
    "#The first and last characters must be a consonant.\n",
    "#The character in the middle must be a vowel.\n",
    "\n",
    "def is_vowel_sandwich(s):\n",
    "    v=0;c=0\n",
    "    if len(s)==3:\n",
    "        for x in s:\n",
    "            if x==\"a\" or x==\"e\" or x==\"i\" or x==\"o\" or x==\"u\":\n",
    "                v+=1\n",
    "            else:\n",
    "                c+=1\n",
    "        return (c==2 and v==1)\n",
    "    else:\n",
    "        return False"
   ]
  },
  {
   "cell_type": "code",
   "execution_count": 63,
   "id": "e1274ede",
   "metadata": {},
   "outputs": [
    {
     "data": {
      "text/plain": [
       "True"
      ]
     },
     "execution_count": 63,
     "metadata": {},
     "output_type": "execute_result"
    }
   ],
   "source": [
    "is_vowel_sandwich(\"cat\")"
   ]
  },
  {
   "cell_type": "code",
   "execution_count": 64,
   "id": "977374cb",
   "metadata": {},
   "outputs": [
    {
     "data": {
      "text/plain": [
       "False"
      ]
     },
     "execution_count": 64,
     "metadata": {},
     "output_type": "execute_result"
    }
   ],
   "source": [
    "is_vowel_sandwich(\"ear\")"
   ]
  },
  {
   "cell_type": "code",
   "execution_count": 65,
   "id": "dad779c8",
   "metadata": {},
   "outputs": [
    {
     "data": {
      "text/plain": [
       "False"
      ]
     },
     "execution_count": 65,
     "metadata": {},
     "output_type": "execute_result"
    }
   ],
   "source": [
    "is_vowel_sandwich(\"bake\")"
   ]
  },
  {
   "cell_type": "code",
   "execution_count": 66,
   "id": "ec36a55a",
   "metadata": {},
   "outputs": [
    {
     "data": {
      "text/plain": [
       "False"
      ]
     },
     "execution_count": 66,
     "metadata": {},
     "output_type": "execute_result"
    }
   ],
   "source": [
    "is_vowel_sandwich(\"try\")"
   ]
  },
  {
   "cell_type": "code",
   "execution_count": 67,
   "id": "5406bcc2",
   "metadata": {},
   "outputs": [],
   "source": [
    "#Write a function that takes a string, breaks it up and returns it with vowels first, consonants second. \n",
    "#For any character that's not a vowel (like special characters or spaces), treat them like consonants.\n",
    "\n",
    "def split(z):\n",
    "    v=\"\";c=\"\"\n",
    "    for y in range(len(z)):\n",
    "        if z[y]==\"a\" or z[y]==\"e\" or z[y]==\"i\" or z[y]==\"o\" or z[y]==\"u\" or z[y]==\"A\" or z[y]==\"E\" or z[y]==\"I\" or z[y]==\"O\" or z[y]==\"U\":\n",
    "            v+=z[y]\n",
    "        else:\n",
    "            c+=z[y]\n",
    "    return (v+c)"
   ]
  },
  {
   "cell_type": "code",
   "execution_count": 68,
   "id": "65658605",
   "metadata": {},
   "outputs": [
    {
     "data": {
      "text/plain": [
       "'aebcd'"
      ]
     },
     "execution_count": 68,
     "metadata": {},
     "output_type": "execute_result"
    }
   ],
   "source": [
    "split(\"abcde\")"
   ]
  },
  {
   "cell_type": "code",
   "execution_count": 69,
   "id": "30934b0f",
   "metadata": {},
   "outputs": [],
   "source": [
    "# Write a function that takes a string and calculates the number of letters and digits within it. \n",
    "#Return the result in a dictionary.\n",
    "\n",
    "def count_all(s):\n",
    "    d={}\n",
    "    l=0;n=0\n",
    "    for x in s:\n",
    "        if x.isalpha():\n",
    "            l+=1\n",
    "        elif x.isdigit():\n",
    "            n+=1\n",
    "        else:\n",
    "            continue\n",
    "    d.update({\"LETTERS\":l,\"DIGITS\":n})\n",
    "    return d"
   ]
  },
  {
   "cell_type": "code",
   "execution_count": 70,
   "id": "b729922d",
   "metadata": {},
   "outputs": [
    {
     "data": {
      "text/plain": [
       "{'LETTERS': 10, 'DIGITS': 0}"
      ]
     },
     "execution_count": 70,
     "metadata": {},
     "output_type": "execute_result"
    }
   ],
   "source": [
    "count_all(\"Hello World\")"
   ]
  },
  {
   "cell_type": "code",
   "execution_count": 71,
   "id": "90080e5f",
   "metadata": {},
   "outputs": [
    {
     "data": {
      "text/plain": [
       "{'LETTERS': 7, 'DIGITS': 3}"
      ]
     },
     "execution_count": 71,
     "metadata": {},
     "output_type": "execute_result"
    }
   ],
   "source": [
    "count_all(\"H3ll0 Wor1d\")"
   ]
  },
  {
   "cell_type": "code",
   "execution_count": 72,
   "id": "fa2e40ea",
   "metadata": {},
   "outputs": [
    {
     "data": {
      "text/plain": [
       "{'LETTERS': 0, 'DIGITS': 6}"
      ]
     },
     "execution_count": 72,
     "metadata": {},
     "output_type": "execute_result"
    }
   ],
   "source": [
    "count_all(\"149990\")"
   ]
  },
  {
   "cell_type": "code",
   "execution_count": null,
   "id": "a6287fed",
   "metadata": {},
   "outputs": [],
   "source": []
  },
  {
   "cell_type": "code",
   "execution_count": null,
   "id": "5b7f52d4",
   "metadata": {},
   "outputs": [],
   "source": []
  }
 ],
 "metadata": {
  "kernelspec": {
   "display_name": "Python 3 (ipykernel)",
   "language": "python",
   "name": "python3"
  },
  "language_info": {
   "codemirror_mode": {
    "name": "ipython",
    "version": 3
   },
   "file_extension": ".py",
   "mimetype": "text/x-python",
   "name": "python",
   "nbconvert_exporter": "python",
   "pygments_lexer": "ipython3",
   "version": "3.10.9"
  }
 },
 "nbformat": 4,
 "nbformat_minor": 5
}
