{
 "cells": [
  {
   "cell_type": "code",
   "execution_count": null,
   "id": "39518111",
   "metadata": {},
   "outputs": [
    {
     "name": "stdout",
     "output_type": "stream",
     "text": [
      "start your calculator if yes:yes\n",
      "enter first number:20\n",
      "enter second number:5\n",
      "enter an operator:*\n",
      "100\n",
      "press y/n to continuey\n",
      "enter first number:10\n",
      "enter second number:5\n",
      "enter an operator://\n",
      "2\n"
     ]
    }
   ],
   "source": [
    "x=input(\"start your calculator if yes:\")\n",
    "while x==\"yes\":\n",
    "    a=int(input(\"enter first number:\"))\n",
    "    b=int(input(\"enter second number:\"))\n",
    "    c=input(\"enter an operator:\")\n",
    "\n",
    "\n",
    "    \n",
    "    if   c==\"+\":\n",
    "        print(a+b)\n",
    "        y=input (\"press y/n to continue\")\n",
    "         \n",
    "    elif  c==\"-\":\n",
    "        print(a-b)\n",
    "        y=input (\"press y/n to continue\")\n",
    "          \n",
    "    elif  c==\"%\":\n",
    "        print(a%b)\n",
    "        y=input (\"press y/n to continue\")\n",
    "          \n",
    "    elif  c==\"/\":\n",
    "        print(a/b)\n",
    "        y=input (\"press y/n to continue\")\n",
    "           \n",
    "    elif  c==\"//\":\n",
    "        print(a//b)\n",
    "        y=input (\"press y/n to continue\")\n",
    "            \n",
    "    elif  c==\"*\":\n",
    "         print(a*b)\n",
    "         y=input (\"press y/n to continue\")\n",
    "            \n",
    "    elif  c==\"**\":\n",
    "        print(a**b)\n",
    "        y=input (\"press y/n to continue\")\n",
    "            \n",
    "\n",
    "    if y==\"n\":\n",
    "        break\n",
    "    \n",
    "    else:\n",
    "        continue\n"
   ]
  },
  {
   "cell_type": "code",
   "execution_count": null,
   "id": "d335c4f0",
   "metadata": {},
   "outputs": [],
   "source": []
  }
 ],
 "metadata": {
  "kernelspec": {
   "display_name": "Python 3 (ipykernel)",
   "language": "python",
   "name": "python3"
  },
  "language_info": {
   "codemirror_mode": {
    "name": "ipython",
    "version": 3
   },
   "file_extension": ".py",
   "mimetype": "text/x-python",
   "name": "python",
   "nbconvert_exporter": "python",
   "pygments_lexer": "ipython3",
   "version": "3.10.9"
  }
 },
 "nbformat": 4,
 "nbformat_minor": 5
}
